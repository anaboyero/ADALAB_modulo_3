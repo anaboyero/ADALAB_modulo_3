{
 "cells": [
  {
   "cell_type": "code",
   "execution_count": 94,
   "metadata": {},
   "outputs": [],
   "source": [
    "# importamos las librerías que necesitamos\n",
    "\n",
    "# Tratamiento de datos\n",
    "# -----------------------------------------------------------------------\n",
    "import pandas as pd\n",
    "import numpy as np\n",
    "\n",
    "# Imputación de nulos usando métodos avanzados estadísticos\n",
    "# -----------------------------------------------------------------------\n",
    "from sklearn.impute import SimpleImputer\n",
    "from sklearn.experimental import enable_iterative_imputer\n",
    "from sklearn.impute import IterativeImputer\n",
    "from sklearn.impute import KNNImputer\n",
    "\n",
    "# Librerías de visualización\n",
    "# -----------------------------------------------------------------------\n",
    "import seaborn as sns\n",
    "import matplotlib.pyplot as plt\n",
    "# Configuración\n",
    "# -----------------------------------------------------------------------\n",
    "pd.set_option('display.max_columns', None) # para poder visualizar todas las columnas de los DataFrames"
   ]
  },
  {
   "cell_type": "markdown",
   "metadata": {},
   "source": [
    "# Ejercicios"
   ]
  },
  {
   "cell_type": "markdown",
   "metadata": {},
   "source": [
    "1. Cargad el csv que obtuvimos en los ejercicios de la clase invertida de ayer. \n"
   ]
  },
  {
   "cell_type": "code",
   "execution_count": 95,
   "metadata": {},
   "outputs": [],
   "source": [
    "df = pd.read_csv('rating_performance_insight_map_replace.csv', index_col=0)"
   ]
  },
  {
   "cell_type": "code",
   "execution_count": 96,
   "metadata": {},
   "outputs": [
    {
     "data": {
      "text/html": [
       "<div>\n",
       "<style scoped>\n",
       "    .dataframe tbody tr th:only-of-type {\n",
       "        vertical-align: middle;\n",
       "    }\n",
       "\n",
       "    .dataframe tbody tr th {\n",
       "        vertical-align: top;\n",
       "    }\n",
       "\n",
       "    .dataframe thead th {\n",
       "        text-align: right;\n",
       "    }\n",
       "</style>\n",
       "<table border=\"1\" class=\"dataframe\">\n",
       "  <thead>\n",
       "    <tr style=\"text-align: right;\">\n",
       "      <th></th>\n",
       "      <th>title</th>\n",
       "      <th>title_orig</th>\n",
       "      <th>price</th>\n",
       "      <th>retail_price</th>\n",
       "      <th>units_sold</th>\n",
       "      <th>uses_ad_boosts</th>\n",
       "      <th>rating_x</th>\n",
       "      <th>rating_count</th>\n",
       "      <th>rating_five_count</th>\n",
       "      <th>rating_four_count</th>\n",
       "      <th>rating_three_count</th>\n",
       "      <th>rating_two_count</th>\n",
       "      <th>rating_one_count</th>\n",
       "      <th>badge_local_product</th>\n",
       "      <th>badge_product_quality</th>\n",
       "      <th>badge_fast_shipping</th>\n",
       "      <th>tags</th>\n",
       "      <th>product_color</th>\n",
       "      <th>product_variation_size_id</th>\n",
       "      <th>shipping_option_name</th>\n",
       "      <th>shipping_option_price</th>\n",
       "      <th>shipping_is_express</th>\n",
       "      <th>countries_shipped_to</th>\n",
       "      <th>inventory_total</th>\n",
       "      <th>origin_country</th>\n",
       "      <th>merchant_name</th>\n",
       "      <th>merchant_info_subtitle</th>\n",
       "      <th>merchant_rating_count</th>\n",
       "      <th>merchant_id</th>\n",
       "      <th>product_url</th>\n",
       "      <th>product_id</th>\n",
       "      <th>listed_products</th>\n",
       "      <th>total_units_sold</th>\n",
       "      <th>mean_units_sold_per_product</th>\n",
       "      <th>rating_y</th>\n",
       "      <th>merchant_ratings_count</th>\n",
       "      <th>mean_product_prices</th>\n",
       "      <th>mean_retail_prices</th>\n",
       "      <th>mean_product_ratings_count</th>\n",
       "      <th>discount_percentage</th>\n",
       "      <th>seller_reputation</th>\n",
       "    </tr>\n",
       "  </thead>\n",
       "  <tbody>\n",
       "    <tr>\n",
       "      <th>510</th>\n",
       "      <td>Women Fashion Sexy Sleeveless Crop Cops en tri...</td>\n",
       "      <td>Women Fashion Sexy Sleeveless Knit Crop Tops</td>\n",
       "      <td>3.0</td>\n",
       "      <td>3</td>\n",
       "      <td>50000</td>\n",
       "      <td>No</td>\n",
       "      <td>3.81</td>\n",
       "      <td>11408</td>\n",
       "      <td>5065.0</td>\n",
       "      <td>2342.0</td>\n",
       "      <td>1964.0</td>\n",
       "      <td>890.0</td>\n",
       "      <td>1147.0</td>\n",
       "      <td>No</td>\n",
       "      <td>Buena</td>\n",
       "      <td>No</td>\n",
       "      <td>corset top,Fashion,crop top,camisole,knittop,T...</td>\n",
       "      <td>wine red</td>\n",
       "      <td>S</td>\n",
       "      <td>Livraison standard</td>\n",
       "      <td>1</td>\n",
       "      <td>No</td>\n",
       "      <td>38</td>\n",
       "      <td>50</td>\n",
       "      <td>CN</td>\n",
       "      <td>mermaidskiss</td>\n",
       "      <td>86 % avis positifs</td>\n",
       "      <td>151249</td>\n",
       "      <td>5860c757b1e41d4d67d183e8</td>\n",
       "      <td>https://www.wish.com/c/587dc542c334b3508f79d68b</td>\n",
       "      <td>587dc542c334b3508f79d68b</td>\n",
       "      <td>4</td>\n",
       "      <td>90100</td>\n",
       "      <td>22525.0</td>\n",
       "      <td>4.049</td>\n",
       "      <td>151249.0</td>\n",
       "      <td>3.43</td>\n",
       "      <td>3.75</td>\n",
       "      <td>6290.0</td>\n",
       "      <td>0.0</td>\n",
       "      <td>Buena</td>\n",
       "    </tr>\n",
       "  </tbody>\n",
       "</table>\n",
       "</div>"
      ],
      "text/plain": [
       "                                                 title  \\\n",
       "510  Women Fashion Sexy Sleeveless Crop Cops en tri...   \n",
       "\n",
       "                                       title_orig  price  retail_price  \\\n",
       "510  Women Fashion Sexy Sleeveless Knit Crop Tops    3.0             3   \n",
       "\n",
       "     units_sold uses_ad_boosts  rating_x  rating_count  rating_five_count  \\\n",
       "510       50000             No      3.81         11408             5065.0   \n",
       "\n",
       "     rating_four_count  rating_three_count  rating_two_count  \\\n",
       "510             2342.0              1964.0             890.0   \n",
       "\n",
       "     rating_one_count badge_local_product badge_product_quality  \\\n",
       "510            1147.0                  No                 Buena   \n",
       "\n",
       "    badge_fast_shipping                                               tags  \\\n",
       "510                  No  corset top,Fashion,crop top,camisole,knittop,T...   \n",
       "\n",
       "    product_color product_variation_size_id shipping_option_name  \\\n",
       "510      wine red                         S   Livraison standard   \n",
       "\n",
       "     shipping_option_price shipping_is_express  countries_shipped_to  \\\n",
       "510                      1                  No                    38   \n",
       "\n",
       "     inventory_total origin_country merchant_name merchant_info_subtitle  \\\n",
       "510               50             CN  mermaidskiss    86 % avis positifs    \n",
       "\n",
       "     merchant_rating_count               merchant_id  \\\n",
       "510                 151249  5860c757b1e41d4d67d183e8   \n",
       "\n",
       "                                         product_url  \\\n",
       "510  https://www.wish.com/c/587dc542c334b3508f79d68b   \n",
       "\n",
       "                   product_id  listed_products  total_units_sold  \\\n",
       "510  587dc542c334b3508f79d68b                4             90100   \n",
       "\n",
       "     mean_units_sold_per_product  rating_y  merchant_ratings_count  \\\n",
       "510                      22525.0     4.049                151249.0   \n",
       "\n",
       "     mean_product_prices  mean_retail_prices  mean_product_ratings_count  \\\n",
       "510                 3.43                3.75                      6290.0   \n",
       "\n",
       "     discount_percentage seller_reputation  \n",
       "510                  0.0             Buena  "
      ]
     },
     "execution_count": 96,
     "metadata": {},
     "output_type": "execute_result"
    }
   ],
   "source": [
    "df.sample()"
   ]
  },
  {
   "cell_type": "markdown",
   "metadata": {},
   "source": [
    "2. ¿Qué columnas tienen nulos? \n"
   ]
  },
  {
   "cell_type": "code",
   "execution_count": 97,
   "metadata": {},
   "outputs": [
    {
     "name": "stdout",
     "output_type": "stream",
     "text": [
      "<class 'pandas.core.frame.DataFrame'>\n",
      "Index: 1573 entries, 0 to 1572\n",
      "Data columns (total 41 columns):\n",
      " #   Column                       Non-Null Count  Dtype  \n",
      "---  ------                       --------------  -----  \n",
      " 0   title                        1573 non-null   object \n",
      " 1   title_orig                   1573 non-null   object \n",
      " 2   price                        1573 non-null   float64\n",
      " 3   retail_price                 1573 non-null   int64  \n",
      " 4   units_sold                   1573 non-null   int64  \n",
      " 5   uses_ad_boosts               1573 non-null   object \n",
      " 6   rating_x                     1573 non-null   float64\n",
      " 7   rating_count                 1573 non-null   int64  \n",
      " 8   rating_five_count            1528 non-null   float64\n",
      " 9   rating_four_count            1528 non-null   float64\n",
      " 10  rating_three_count           1528 non-null   float64\n",
      " 11  rating_two_count             1528 non-null   float64\n",
      " 12  rating_one_count             1528 non-null   float64\n",
      " 13  badge_local_product          1573 non-null   object \n",
      " 14  badge_product_quality        1573 non-null   object \n",
      " 15  badge_fast_shipping          1573 non-null   object \n",
      " 16  tags                         1573 non-null   object \n",
      " 17  product_color                1532 non-null   object \n",
      " 18  product_variation_size_id    1559 non-null   object \n",
      " 19  shipping_option_name         1573 non-null   object \n",
      " 20  shipping_option_price        1573 non-null   int64  \n",
      " 21  shipping_is_express          1573 non-null   object \n",
      " 22  countries_shipped_to         1573 non-null   int64  \n",
      " 23  inventory_total              1573 non-null   int64  \n",
      " 24  origin_country               1556 non-null   object \n",
      " 25  merchant_name                1569 non-null   object \n",
      " 26  merchant_info_subtitle       1572 non-null   object \n",
      " 27  merchant_rating_count        1573 non-null   int64  \n",
      " 28  merchant_id                  1573 non-null   object \n",
      " 29  product_url                  1573 non-null   object \n",
      " 30  product_id                   1573 non-null   object \n",
      " 31  listed_products              1573 non-null   int64  \n",
      " 32  total_units_sold             1573 non-null   int64  \n",
      " 33  mean_units_sold_per_product  1573 non-null   float64\n",
      " 34  rating_y                     1573 non-null   float64\n",
      " 35  merchant_ratings_count       1573 non-null   float64\n",
      " 36  mean_product_prices          1573 non-null   float64\n",
      " 37  mean_retail_prices           1573 non-null   float64\n",
      " 38  mean_product_ratings_count   1573 non-null   float64\n",
      " 39  discount_percentage          1573 non-null   float64\n",
      " 40  seller_reputation            1573 non-null   object \n",
      "dtypes: float64(14), int64(9), object(18)\n",
      "memory usage: 516.1+ KB\n"
     ]
    }
   ],
   "source": [
    "df.info()"
   ]
  },
  {
   "cell_type": "markdown",
   "metadata": {},
   "source": [
    "El método any() en pandas se utiliza para comprobar si al menos un valor es verdadero (o equivalente a True) en un eje determinado (por columnas o por filas) de un DataFrame o una Serie"
   ]
  },
  {
   "cell_type": "code",
   "execution_count": 98,
   "metadata": {},
   "outputs": [
    {
     "data": {
      "text/plain": [
       "title                          False\n",
       "title_orig                     False\n",
       "price                          False\n",
       "retail_price                   False\n",
       "units_sold                     False\n",
       "uses_ad_boosts                 False\n",
       "rating_x                       False\n",
       "rating_count                   False\n",
       "rating_five_count               True\n",
       "rating_four_count               True\n",
       "rating_three_count              True\n",
       "rating_two_count                True\n",
       "rating_one_count                True\n",
       "badge_local_product            False\n",
       "badge_product_quality          False\n",
       "badge_fast_shipping            False\n",
       "tags                           False\n",
       "product_color                   True\n",
       "product_variation_size_id       True\n",
       "shipping_option_name           False\n",
       "shipping_option_price          False\n",
       "shipping_is_express            False\n",
       "countries_shipped_to           False\n",
       "inventory_total                False\n",
       "origin_country                  True\n",
       "merchant_name                   True\n",
       "merchant_info_subtitle          True\n",
       "merchant_rating_count          False\n",
       "merchant_id                    False\n",
       "product_url                    False\n",
       "product_id                     False\n",
       "listed_products                False\n",
       "total_units_sold               False\n",
       "mean_units_sold_per_product    False\n",
       "rating_y                       False\n",
       "merchant_ratings_count         False\n",
       "mean_product_prices            False\n",
       "mean_retail_prices             False\n",
       "mean_product_ratings_count     False\n",
       "discount_percentage            False\n",
       "seller_reputation              False\n",
       "dtype: bool"
      ]
     },
     "execution_count": 98,
     "metadata": {},
     "output_type": "execute_result"
    }
   ],
   "source": [
    "df.isnull() # Devuelve una máscara booleana del df\n",
    "\n",
    "df.isnull().any(axis=0) # Devuelve una serie booleana indicando si hay al menos un nulo en cada columna\n",
    "\n",
    "df.isnull().any() # Lo mismo, por defecto axis=0"
   ]
  },
  {
   "cell_type": "code",
   "execution_count": 99,
   "metadata": {},
   "outputs": [
    {
     "data": {
      "text/plain": [
       "rating_five_count            45\n",
       "rating_four_count            45\n",
       "rating_three_count           45\n",
       "rating_two_count             45\n",
       "rating_one_count             45\n",
       "product_color                41\n",
       "product_variation_size_id    14\n",
       "origin_country               17\n",
       "merchant_name                 4\n",
       "merchant_info_subtitle        1\n",
       "dtype: int64"
      ]
     },
     "execution_count": 99,
     "metadata": {},
     "output_type": "execute_result"
    }
   ],
   "source": [
    "df.isnull().sum()[df.isnull().sum()>0]"
   ]
  },
  {
   "cell_type": "markdown",
   "metadata": {},
   "source": [
    "3. Explorad los nulos que hay en el DataFrame. \n"
   ]
  },
  {
   "cell_type": "code",
   "execution_count": 100,
   "metadata": {},
   "outputs": [
    {
     "data": {
      "text/plain": [
       "\" \\nSignature: pd.DataFrame.select_dtypes(self, include=None, exclude=None) -> 'Self'\\nDocstring:\\nReturn a subset of the DataFrame's columns based on the column dtypes.\\n\\nParameters\\n----------\\ninclude, exclude : scalar or list-like\\n    A selection of dtypes or strings to be included/excluded. At least\\n    one of these parameters must be supplied.\\n\\nReturns\\n-------\\nDataFrame\\n    The subset of the frame including the dtypes in ``include`` and\\n    excluding the dtypes in ``exclude``.\\n    \""
      ]
     },
     "execution_count": 100,
     "metadata": {},
     "output_type": "execute_result"
    }
   ],
   "source": [
    "# pd.DataFrame.select_dtypes\n",
    "\n",
    "\"\"\" \n",
    "Signature: pd.DataFrame.select_dtypes(self, include=None, exclude=None) -> 'Self'\n",
    "Docstring:\n",
    "Return a subset of the DataFrame's columns based on the column dtypes.\n",
    "\n",
    "Parameters\n",
    "----------\n",
    "include, exclude : scalar or list-like\n",
    "    A selection of dtypes or strings to be included/excluded. At least\n",
    "    one of these parameters must be supplied.\n",
    "\n",
    "Returns\n",
    "-------\n",
    "DataFrame\n",
    "    The subset of the frame including the dtypes in ``include`` and\n",
    "    excluding the dtypes in ``exclude``.\n",
    "    \"\"\""
   ]
  },
  {
   "cell_type": "markdown",
   "metadata": {},
   "source": [
    "Quiero seleccionar las columnas numéricas y las categóricas"
   ]
  },
  {
   "cell_type": "code",
   "execution_count": 101,
   "metadata": {},
   "outputs": [
    {
     "data": {
      "text/plain": [
       "rating_five_count     45\n",
       "rating_four_count     45\n",
       "rating_three_count    45\n",
       "rating_two_count      45\n",
       "rating_one_count      45\n",
       "dtype: int64"
      ]
     },
     "execution_count": 101,
     "metadata": {},
     "output_type": "execute_result"
    }
   ],
   "source": [
    "# El df solo las columnas numéricas sería:\n",
    "\n",
    "df_cols_numericas = df.select_dtypes(include=np.number) # Forma (1573, 23)\n",
    "\n",
    "# ¿En qué columnas hay nulos?\n",
    "\n",
    "df_cols_numericas.isnull().sum()[df_cols_numericas.isnull().sum()>0]"
   ]
  },
  {
   "cell_type": "code",
   "execution_count": 102,
   "metadata": {},
   "outputs": [
    {
     "data": {
      "text/plain": [
       "product_color                41\n",
       "product_variation_size_id    14\n",
       "origin_country               17\n",
       "merchant_name                 4\n",
       "merchant_info_subtitle        1\n",
       "dtype: int64"
      ]
     },
     "execution_count": 102,
     "metadata": {},
     "output_type": "execute_result"
    }
   ],
   "source": [
    "# El df solo las columnas categóricas sería:\n",
    "\n",
    "df_cols_categoricas = df.select_dtypes(include=object) # Forma (1573, 18)\n",
    "\n",
    "# ¿En qué columnas hay nulos?\n",
    "\n",
    "df_cols_categoricas.isnull().sum()[df_cols_categoricas.isnull().sum()>0]\n"
   ]
  },
  {
   "cell_type": "markdown",
   "metadata": {},
   "source": [
    "4. Con lo aprendido en la lección de hoy gestiona los nulos de la forma que consideres más correcta. Mañana en clase discutiremos sobre los métodos elegidos. \n"
   ]
  },
  {
   "cell_type": "code",
   "execution_count": 103,
   "metadata": {},
   "outputs": [
    {
     "data": {
      "text/plain": [
       "['product_color',\n",
       " 'product_variation_size_id',\n",
       " 'origin_country',\n",
       " 'merchant_name',\n",
       " 'merchant_info_subtitle']"
      ]
     },
     "execution_count": 103,
     "metadata": {},
     "output_type": "execute_result"
    }
   ],
   "source": [
    "# Empezamos con las columnas categóricas.\n",
    "\n",
    "# El df solo las columnas categóricas sería:\n",
    "\n",
    "df_cols_categoricas = df.select_dtypes(include=object) # Forma (1573, 18)\n",
    "\n",
    "# ¿En qué columnas hay nulos?\n",
    "\n",
    "df_cols_categoricas.isnull().sum()[df_cols_categoricas.isnull().sum()>0]\n",
    "\n",
    "nombres = df_cols_categoricas.isnull().sum()[df_cols_categoricas.isnull().sum()>0].index\n",
    "\n",
    "type(nombres) # Es un Index\n",
    "\n",
    "lista_columnas_categoricas_con_nulos = nombres.tolist()\n",
    "\n",
    "lista_columnas_categoricas_con_nulos"
   ]
  },
  {
   "cell_type": "code",
   "execution_count": 104,
   "metadata": {},
   "outputs": [],
   "source": [
    "# Ahora que empiezo a hacer modificaciones, voy a hacer una copia del df\n",
    "\n",
    "df_copy = df.copy()"
   ]
  },
  {
   "cell_type": "code",
   "execution_count": 105,
   "metadata": {},
   "outputs": [
    {
     "data": {
      "text/plain": [
       "pandas.core.series.Series"
      ]
     },
     "execution_count": 105,
     "metadata": {},
     "output_type": "execute_result"
    }
   ],
   "source": [
    "valores_unicos_pc = df['product_color'].value_counts() # Devuelve una Serie.\n",
    "type(valores_unicos_pc)"
   ]
  },
  {
   "cell_type": "code",
   "execution_count": 106,
   "metadata": {},
   "outputs": [
    {
     "data": {
      "text/plain": [
       "0              white\n",
       "1              green\n",
       "2       leopardprint\n",
       "3              black\n",
       "4             yellow\n",
       "            ...     \n",
       "1568        navyblue\n",
       "1569       lightblue\n",
       "1570           white\n",
       "1571           white\n",
       "1572             red\n",
       "Name: product_color, Length: 1573, dtype: object"
      ]
     },
     "execution_count": 106,
     "metadata": {},
     "output_type": "execute_result"
    }
   ],
   "source": [
    "df['product_color']"
   ]
  },
  {
   "cell_type": "code",
   "execution_count": 107,
   "metadata": {},
   "outputs": [
    {
     "data": {
      "text/plain": [
       "0    black\n",
       "Name: product_color, dtype: object"
      ]
     },
     "execution_count": 107,
     "metadata": {},
     "output_type": "execute_result"
    }
   ],
   "source": [
    "df['product_color'].mode()"
   ]
  },
  {
   "cell_type": "code",
   "execution_count": 108,
   "metadata": {},
   "outputs": [
    {
     "data": {
      "text/plain": [
       "pandas.core.series.Series"
      ]
     },
     "execution_count": 108,
     "metadata": {},
     "output_type": "execute_result"
    }
   ],
   "source": [
    "type(df['product_color'].mode())"
   ]
  },
  {
   "cell_type": "code",
   "execution_count": 109,
   "metadata": {},
   "outputs": [
    {
     "data": {
      "text/plain": [
       "'black'"
      ]
     },
     "execution_count": 109,
     "metadata": {},
     "output_type": "execute_result"
    }
   ],
   "source": [
    "# Para sacar el valor de la moda puedo:\n",
    "\n",
    "df['product_color'].mode() # Ojo, esto nos devuelve una Serie.\n",
    "\n",
    "df['product_color'].mode().values.tolist()[0] # Esto funcionaría, pero...\n",
    "\n",
    "df['product_color'].mode().iloc[0] # Esto es más eficiente.\n"
   ]
  },
  {
   "cell_type": "code",
   "execution_count": 110,
   "metadata": {},
   "outputs": [
    {
     "data": {
      "text/plain": [
       "302"
      ]
     },
     "execution_count": 110,
     "metadata": {},
     "output_type": "execute_result"
    }
   ],
   "source": [
    "valor_moda = df['product_color'].mode().iloc[0] \n",
    "\n",
    "# ¿Cuántas veces aparece la moda en la columna?\n",
    "\n",
    "df['product_color'].value_counts() # Me devuelve una Serie con todo el conteo de valores únicos \n",
    "\n",
    "frecuencia_moda = df['product_color'].value_counts().loc[valor_moda] # filtro con la moda \n",
    "frecuencia_moda\n"
   ]
  },
  {
   "cell_type": "code",
   "execution_count": 111,
   "metadata": {},
   "outputs": [
    {
     "data": {
      "text/plain": [
       "'white'"
      ]
     },
     "execution_count": 111,
     "metadata": {},
     "output_type": "execute_result"
    }
   ],
   "source": [
    "df['product_color'].loc[0]"
   ]
  },
  {
   "cell_type": "code",
   "execution_count": 122,
   "metadata": {},
   "outputs": [
    {
     "name": "stdout",
     "output_type": "stream",
     "text": [
      "------------\n",
      "Análisis columna PRODUCT_COLOR: product_color\n",
      "\n",
      "Hay 41 nulos y 1532 no nulos \n",
      "Proporción de nulos: 2.61%\n",
      "\n",
      "La moda es black y se repite 302 veces\n"
     ]
    },
    {
     "data": {
      "text/plain": [
       "product_color\n",
       "black                 0.19\n",
       "white                 0.16\n",
       "yellow                0.07\n",
       "blue                  0.06\n",
       "pink                  0.06\n",
       "                      ... \n",
       "greysnakeskinprint    0.00\n",
       "denimblue             0.00\n",
       "red & blue            0.00\n",
       "offwhite              0.00\n",
       "gold                  0.00\n",
       "Name: count, Length: 101, dtype: float64"
      ]
     },
     "metadata": {},
     "output_type": "display_data"
    },
    {
     "name": "stdout",
     "output_type": "stream",
     "text": [
      "------------\n",
      "Análisis columna PRODUCT_VARIATION_SIZE_ID: product_variation_size_id\n",
      "\n",
      "Hay 14 nulos y 1559 no nulos \n",
      "Proporción de nulos: 0.89%\n",
      "\n",
      "La moda es S y se repite 641 veces\n"
     ]
    },
    {
     "data": {
      "text/plain": [
       "product_variation_size_id\n",
       "S                      0.41\n",
       "XS                     0.23\n",
       "M                      0.13\n",
       "XXS                    0.06\n",
       "L                      0.03\n",
       "                       ... \n",
       "6XL                    0.00\n",
       "AU plug Low quality    0.00\n",
       "XXXL                   0.00\n",
       "25-S                   0.00\n",
       "SIZE S                 0.00\n",
       "Name: count, Length: 106, dtype: float64"
      ]
     },
     "metadata": {},
     "output_type": "display_data"
    },
    {
     "name": "stdout",
     "output_type": "stream",
     "text": [
      "------------\n",
      "Análisis columna ORIGIN_COUNTRY: origin_country\n",
      "\n",
      "Hay 17 nulos y 1556 no nulos \n",
      "Proporción de nulos: 1.08%\n",
      "\n",
      "La moda es CN y se repite 1516 veces\n"
     ]
    },
    {
     "data": {
      "text/plain": [
       "origin_country\n",
       "CN    0.96\n",
       "US    0.02\n",
       "VE    0.00\n",
       "SG    0.00\n",
       "AT    0.00\n",
       "GB    0.00\n",
       "Name: count, dtype: float64"
      ]
     },
     "metadata": {},
     "output_type": "display_data"
    },
    {
     "name": "stdout",
     "output_type": "stream",
     "text": [
      "------------\n",
      "Análisis columna MERCHANT_NAME: merchant_name\n",
      "\n",
      "Hay 4 nulos y 1569 no nulos \n",
      "Proporción de nulos: 0.25%\n",
      "\n",
      "La moda es 广州唯适唯服饰有限公司 y se repite 15 veces\n"
     ]
    },
    {
     "data": {
      "text/plain": [
       "merchant_name\n",
       "广州唯适唯服饰有限公司                              0.01\n",
       "greatexpectationstechnology              0.01\n",
       "sjhdstoer                                0.01\n",
       "shuilingjiaointernationaltradecompany    0.01\n",
       "sangboostore                             0.01\n",
       "                                         ... \n",
       "asmalltwistofsweetfruit                  0.00\n",
       "supumawallsticker                        0.00\n",
       "haoyouduooo                              0.00\n",
       "successed                                0.00\n",
       "aishoppingmall                           0.00\n",
       "Name: count, Length: 957, dtype: float64"
      ]
     },
     "metadata": {},
     "output_type": "display_data"
    },
    {
     "name": "stdout",
     "output_type": "stream",
     "text": [
      "------------\n",
      "Análisis columna MERCHANT_INFO_SUBTITLE: merchant_info_subtitle\n",
      "\n",
      "Hay 1 nulos y 1572 no nulos \n",
      "Proporción de nulos: 0.06%\n",
      "\n",
      "La moda es np.nan y se repite 285 veces\n"
     ]
    },
    {
     "data": {
      "text/plain": [
       "merchant_info_subtitle\n",
       "np.nan                                            0.18\n",
       "86 % avis positifs                                0.09\n",
       "85 % avis positifs                                0.08\n",
       "87 % avis positifs                                0.07\n",
       "88 % avis positifs                                0.07\n",
       "                                                  ... \n",
       "(117,487 ការវាយតម្លៃ)                             0.00\n",
       "(33,303 ratings)                                  0.00\n",
       "91% Feedback pozitiv (1,038 rating)               0.00\n",
       "81% opinii pozytywnych (liczba ocen: 37,753)      0.00\n",
       "88% Feedback positivo (151,914 classificações)    0.00\n",
       "Name: count, Length: 90, dtype: float64"
      ]
     },
     "metadata": {},
     "output_type": "display_data"
    }
   ],
   "source": [
    "# Evaluamos los valores de las columnas categóricas para determinar cómo imputar los nulos.\n",
    "\n",
    "for col in lista_columnas_categoricas_con_nulos:\n",
    "    print(\"------------\")\n",
    "    print(f\"Análisis columna {col.upper()}: {col}\\n\")\n",
    "    total_nulos = df[col].isnull().sum()\n",
    "    total_no_nulos = df[col].notnull().sum()\n",
    "    print(f\"Hay {total_nulos} nulos y {total_no_nulos} no nulos \")\n",
    "    print(f\"Proporción de nulos: {np.round(100*total_nulos/df.shape[0], 2)}%\\n\")\n",
    "    \n",
    "    # Quiero conocer la moda y saber en qué proporción aparece \n",
    "    moda = df[col].mode().iloc[0] # Devuelve la cadena con el término de la moda\n",
    "    frecuencia_moda = df[col].value_counts().loc[moda]\n",
    "    print(f\"La moda es {moda} y se repite {frecuencia_moda} veces\")\n",
    "\n",
    "    # Estudio la proporción de los valores únicos de cada columna\n",
    "\n",
    "    display(np.round(df[col].value_counts()/df.shape[0], 2))\n"
   ]
  },
  {
   "cell_type": "code",
   "execution_count": 128,
   "metadata": {},
   "outputs": [],
   "source": [
    "# Análisis de los resultados (¿Habría que detallar más? ¿Así es suficiente?)\n",
    "# \n",
    "# Imputaré con 'unknown' en los casos en que no existe una categoría dominante:\n",
    "\n",
    "lista_columnas_imputar_unknown = ['product_color', 'product_variation_size_id', 'merchant_name', 'merchant_info_subtitle'] \n",
    "\n",
    "# Imputaré con la moda en el caso de origin_country, donde el valor CN aparece el 96% de las veces.\n",
    "\n",
    "lista_columnas_imputar_moda = ['origin_country']"
   ]
  },
  {
   "cell_type": "code",
   "execution_count": 126,
   "metadata": {},
   "outputs": [],
   "source": [
    "# Como voy a empezar las transformaciones, me guardo una copia de mi df original.\n",
    "\n",
    "df_copia = df.copy()"
   ]
  },
  {
   "cell_type": "code",
   "execution_count": 127,
   "metadata": {},
   "outputs": [
    {
     "name": "stdout",
     "output_type": "stream",
     "text": [
      "Total nulos en product_color es 0\n",
      "Total nulos en product_variation_size_id es 0\n",
      "Total nulos en merchant_name es 0\n",
      "Total nulos en merchant_info_subtitle es 0\n"
     ]
    }
   ],
   "source": [
    "# Imputo los nulos con 'unknown'\n",
    "\n",
    "for col in lista_columnas_imputar_unknown:\n",
    "    df[col] = df[col].fillna('unknown')\n",
    "\n",
    "# Compruebo que he eliminado los nulos\n",
    "for col in lista_columnas_imputar_unknown:\n",
    "    print(f\"Total nulos en {col} es {df[col].isnull().sum()}\")"
   ]
  },
  {
   "cell_type": "code",
   "execution_count": 130,
   "metadata": {},
   "outputs": [
    {
     "name": "stdout",
     "output_type": "stream",
     "text": [
      "Total nulos en origin_country es 0\n"
     ]
    }
   ],
   "source": [
    "# Imputo los nulos con la moda\n",
    "\n",
    "for col in lista_columnas_imputar_moda:\n",
    "    moda = df[col].mode().iloc[0]\n",
    "    df[col] = df[col].fillna(moda)\n",
    "\n",
    "# Compruebo que he eliminado los nulos\n",
    "for col in lista_columnas_imputar_moda:\n",
    "    print(f\"Total nulos en {col} es {df[col].isnull().sum()}\")\n"
   ]
  },
  {
   "cell_type": "code",
   "execution_count": 146,
   "metadata": {},
   "outputs": [],
   "source": [
    "# Como han ido bien las transformaciones, hago una copia de mi dataframe.\n",
    "\n",
    "df_copia_cols_categoricas_sin_nulos = df.copy()"
   ]
  },
  {
   "cell_type": "markdown",
   "metadata": {},
   "source": [
    "Vamos con las columnas numéricas."
   ]
  },
  {
   "cell_type": "code",
   "execution_count": 142,
   "metadata": {},
   "outputs": [
    {
     "data": {
      "text/plain": [
       "rating_five_count     45\n",
       "rating_four_count     45\n",
       "rating_three_count    45\n",
       "rating_two_count      45\n",
       "rating_one_count      45\n",
       "dtype: int64"
      ]
     },
     "execution_count": 142,
     "metadata": {},
     "output_type": "execute_result"
    }
   ],
   "source": [
    "# ¿Qué columnas numéricas tienen nulos?\n",
    "\n",
    "df.select_dtypes(include=np.number).isnull().sum()[df.select_dtypes(include=np.number).isnull().sum()>0]\n",
    "\n",
    "columnas_numericas_con_nulos = df.select_dtypes(include=np.number).isnull().sum()[df.select_dtypes(include=np.number).isnull().sum()>0]\n",
    "columnas_numericas_con_nulos"
   ]
  },
  {
   "cell_type": "code",
   "execution_count": 153,
   "metadata": {},
   "outputs": [],
   "source": [
    "lista_columnas_numericas_con_nulos = (columnas_numericas_con_nulos.index).tolist()"
   ]
  },
  {
   "cell_type": "code",
   "execution_count": 160,
   "metadata": {},
   "outputs": [
    {
     "data": {
      "text/html": [
       "<div>\n",
       "<style scoped>\n",
       "    .dataframe tbody tr th:only-of-type {\n",
       "        vertical-align: middle;\n",
       "    }\n",
       "\n",
       "    .dataframe tbody tr th {\n",
       "        vertical-align: top;\n",
       "    }\n",
       "\n",
       "    .dataframe thead th {\n",
       "        text-align: right;\n",
       "    }\n",
       "</style>\n",
       "<table border=\"1\" class=\"dataframe\">\n",
       "  <thead>\n",
       "    <tr style=\"text-align: right;\">\n",
       "      <th></th>\n",
       "      <th>title</th>\n",
       "      <th>title_orig</th>\n",
       "      <th>price</th>\n",
       "      <th>retail_price</th>\n",
       "      <th>units_sold</th>\n",
       "      <th>uses_ad_boosts</th>\n",
       "      <th>rating_x</th>\n",
       "      <th>rating_count</th>\n",
       "      <th>rating_five_count</th>\n",
       "      <th>rating_four_count</th>\n",
       "      <th>rating_three_count</th>\n",
       "      <th>rating_two_count</th>\n",
       "      <th>rating_one_count</th>\n",
       "      <th>badge_local_product</th>\n",
       "      <th>badge_product_quality</th>\n",
       "      <th>badge_fast_shipping</th>\n",
       "      <th>tags</th>\n",
       "      <th>product_color</th>\n",
       "      <th>product_variation_size_id</th>\n",
       "      <th>shipping_option_name</th>\n",
       "      <th>shipping_option_price</th>\n",
       "      <th>shipping_is_express</th>\n",
       "      <th>countries_shipped_to</th>\n",
       "      <th>inventory_total</th>\n",
       "      <th>origin_country</th>\n",
       "      <th>merchant_name</th>\n",
       "      <th>merchant_info_subtitle</th>\n",
       "      <th>merchant_rating_count</th>\n",
       "      <th>merchant_id</th>\n",
       "      <th>product_url</th>\n",
       "      <th>product_id</th>\n",
       "      <th>listed_products</th>\n",
       "      <th>total_units_sold</th>\n",
       "      <th>mean_units_sold_per_product</th>\n",
       "      <th>rating_y</th>\n",
       "      <th>merchant_ratings_count</th>\n",
       "      <th>mean_product_prices</th>\n",
       "      <th>mean_retail_prices</th>\n",
       "      <th>mean_product_ratings_count</th>\n",
       "      <th>discount_percentage</th>\n",
       "      <th>seller_reputation</th>\n",
       "    </tr>\n",
       "  </thead>\n",
       "  <tbody>\n",
       "    <tr>\n",
       "      <th>229</th>\n",
       "      <td>ZANZEA Robe tunique grande taille pour femmes ...</td>\n",
       "      <td>ZANZEA Damen Übergröße Tunikakleid Kaftan Frei...</td>\n",
       "      <td>11.0</td>\n",
       "      <td>89</td>\n",
       "      <td>100</td>\n",
       "      <td>No</td>\n",
       "      <td>3.77</td>\n",
       "      <td>48</td>\n",
       "      <td>22.0</td>\n",
       "      <td>8.0</td>\n",
       "      <td>9.0</td>\n",
       "      <td>3.0</td>\n",
       "      <td>6.0</td>\n",
       "      <td>No</td>\n",
       "      <td>Buena</td>\n",
       "      <td>No</td>\n",
       "      <td>damenkleid,plaincolordres,highwaistdres,Evenin...</td>\n",
       "      <td>orange-red</td>\n",
       "      <td>S</td>\n",
       "      <td>Livraison standard</td>\n",
       "      <td>2</td>\n",
       "      <td>No</td>\n",
       "      <td>37</td>\n",
       "      <td>50</td>\n",
       "      <td>CN</td>\n",
       "      <td>specialforyou_68</td>\n",
       "      <td>90 % avis positifs</td>\n",
       "      <td>104269</td>\n",
       "      <td>556d68d19fb8ca1a0c4d82ee</td>\n",
       "      <td>https://www.wish.com/c/5d5e5ca35cd08f2a40b53f48</td>\n",
       "      <td>5d5e5ca35cd08f2a40b53f48</td>\n",
       "      <td>2</td>\n",
       "      <td>1100</td>\n",
       "      <td>550.0</td>\n",
       "      <td>4.253</td>\n",
       "      <td>104269.0</td>\n",
       "      <td>11.5</td>\n",
       "      <td>87.5</td>\n",
       "      <td>375.0</td>\n",
       "      <td>87.64</td>\n",
       "      <td>Buena</td>\n",
       "    </tr>\n",
       "  </tbody>\n",
       "</table>\n",
       "</div>"
      ],
      "text/plain": [
       "                                                 title  \\\n",
       "229  ZANZEA Robe tunique grande taille pour femmes ...   \n",
       "\n",
       "                                            title_orig  price  retail_price  \\\n",
       "229  ZANZEA Damen Übergröße Tunikakleid Kaftan Frei...   11.0            89   \n",
       "\n",
       "     units_sold uses_ad_boosts  rating_x  rating_count  rating_five_count  \\\n",
       "229         100             No      3.77            48               22.0   \n",
       "\n",
       "     rating_four_count  rating_three_count  rating_two_count  \\\n",
       "229                8.0                 9.0               3.0   \n",
       "\n",
       "     rating_one_count badge_local_product badge_product_quality  \\\n",
       "229               6.0                  No                 Buena   \n",
       "\n",
       "    badge_fast_shipping                                               tags  \\\n",
       "229                  No  damenkleid,plaincolordres,highwaistdres,Evenin...   \n",
       "\n",
       "    product_color product_variation_size_id shipping_option_name  \\\n",
       "229    orange-red                         S   Livraison standard   \n",
       "\n",
       "     shipping_option_price shipping_is_express  countries_shipped_to  \\\n",
       "229                      2                  No                    37   \n",
       "\n",
       "     inventory_total origin_country     merchant_name merchant_info_subtitle  \\\n",
       "229               50             CN  specialforyou_68    90 % avis positifs    \n",
       "\n",
       "     merchant_rating_count               merchant_id  \\\n",
       "229                 104269  556d68d19fb8ca1a0c4d82ee   \n",
       "\n",
       "                                         product_url  \\\n",
       "229  https://www.wish.com/c/5d5e5ca35cd08f2a40b53f48   \n",
       "\n",
       "                   product_id  listed_products  total_units_sold  \\\n",
       "229  5d5e5ca35cd08f2a40b53f48                2              1100   \n",
       "\n",
       "     mean_units_sold_per_product  rating_y  merchant_ratings_count  \\\n",
       "229                        550.0     4.253                104269.0   \n",
       "\n",
       "     mean_product_prices  mean_retail_prices  mean_product_ratings_count  \\\n",
       "229                 11.5                87.5                       375.0   \n",
       "\n",
       "     discount_percentage seller_reputation  \n",
       "229                87.64             Buena  "
      ]
     },
     "execution_count": 160,
     "metadata": {},
     "output_type": "execute_result"
    }
   ],
   "source": [
    "df.sample()"
   ]
  },
  {
   "cell_type": "code",
   "execution_count": 171,
   "metadata": {},
   "outputs": [
    {
     "name": "stdout",
     "output_type": "stream",
     "text": [
      "------------------------\n",
      "Analizamos la columna RATING_FIVE_COUNT: rating_five_count\n",
      "Hay 45 nulos de un total de 1573 valores\n",
      "Proporción: 0.03 %\n",
      "\n",
      "Sus principales estadísticos son:\n"
     ]
    },
    {
     "data": {
      "text/plain": [
       "count     1528.000000\n",
       "mean       442.263743\n",
       "std        980.203270\n",
       "min          0.000000\n",
       "25%         12.000000\n",
       "50%         79.000000\n",
       "75%        413.500000\n",
       "max      11548.000000\n",
       "Name: rating_five_count, dtype: float64"
      ]
     },
     "metadata": {},
     "output_type": "display_data"
    },
    {
     "name": "stdout",
     "output_type": "stream",
     "text": [
      "------------------------\n",
      "Analizamos la columna RATING_FOUR_COUNT: rating_four_count\n",
      "Hay 45 nulos de un total de 1573 valores\n",
      "Proporción: 0.03 %\n",
      "\n",
      "Sus principales estadísticos son:\n"
     ]
    },
    {
     "data": {
      "text/plain": [
       "count    1528.000000\n",
       "mean      179.599476\n",
       "std       400.516231\n",
       "min         0.000000\n",
       "25%         5.000000\n",
       "50%        31.500000\n",
       "75%       168.250000\n",
       "max      4152.000000\n",
       "Name: rating_four_count, dtype: float64"
      ]
     },
     "metadata": {},
     "output_type": "display_data"
    },
    {
     "name": "stdout",
     "output_type": "stream",
     "text": [
      "------------------------\n",
      "Analizamos la columna RATING_THREE_COUNT: rating_three_count\n",
      "Hay 45 nulos de un total de 1573 valores\n",
      "Proporción: 0.03 %\n",
      "\n",
      "Sus principales estadísticos son:\n"
     ]
    },
    {
     "data": {
      "text/plain": [
       "count    1528.000000\n",
       "mean      134.549738\n",
       "std       311.690656\n",
       "min         0.000000\n",
       "25%         4.000000\n",
       "50%        24.000000\n",
       "75%       129.250000\n",
       "max      3658.000000\n",
       "Name: rating_three_count, dtype: float64"
      ]
     },
     "metadata": {},
     "output_type": "display_data"
    },
    {
     "name": "stdout",
     "output_type": "stream",
     "text": [
      "------------------------\n",
      "Analizamos la columna RATING_TWO_COUNT: rating_two_count\n",
      "Hay 45 nulos de un total de 1573 valores\n",
      "Proporción: 0.03 %\n",
      "\n",
      "Sus principales estadísticos son:\n"
     ]
    },
    {
     "data": {
      "text/plain": [
       "count    1528.000000\n",
       "mean       63.711387\n",
       "std       151.343933\n",
       "min         0.000000\n",
       "25%         2.000000\n",
       "50%        11.000000\n",
       "75%        62.000000\n",
       "max      2003.000000\n",
       "Name: rating_two_count, dtype: float64"
      ]
     },
     "metadata": {},
     "output_type": "display_data"
    },
    {
     "name": "stdout",
     "output_type": "stream",
     "text": [
      "------------------------\n",
      "Analizamos la columna RATING_ONE_COUNT: rating_one_count\n",
      "Hay 45 nulos de un total de 1573 valores\n",
      "Proporción: 0.03 %\n",
      "\n",
      "Sus principales estadísticos son:\n"
     ]
    },
    {
     "data": {
      "text/plain": [
       "count    1528.000000\n",
       "mean       95.735602\n",
       "std       214.075544\n",
       "min         0.000000\n",
       "25%         4.000000\n",
       "50%        20.000000\n",
       "75%        94.000000\n",
       "max      2789.000000\n",
       "Name: rating_one_count, dtype: float64"
      ]
     },
     "metadata": {},
     "output_type": "display_data"
    }
   ],
   "source": [
    "# Estudiamos la proporción de nulos en las columnas numéricas, que en este caso a simple vista vemos que es pequeña.\n",
    "\n",
    "for col in lista_columnas_numericas_con_nulos:\n",
    "    print(\"------------------------\")\n",
    "    print(f\"Analizamos la columna {col.upper()}: {col}\")\n",
    "    total_nulos = df[col].isnull().sum()\n",
    "    print(f\"Hay {total_nulos} nulos de un total de {df.shape[0]} valores\")\n",
    "    print(f\"Proporción: {np.round(total_nulos/df.shape[0], 2)} %\\n\")\n",
    "    print(\"Sus principales estadísticos son:\")\n",
    "    display(df[col].describe())"
   ]
  },
  {
   "cell_type": "code",
   "execution_count": 184,
   "metadata": {},
   "outputs": [
    {
     "data": {
      "text/plain": [
       "148"
      ]
     },
     "execution_count": 184,
     "metadata": {},
     "output_type": "execute_result"
    },
    {
     "data": {
      "image/png": "[encoded data removed]",
      "text/plain": [
       "<Figure size 2000x1000 with 6 Axes>"
      ]
     },
     "metadata": {},
     "output_type": "display_data"
    }
   ],
   "source": [
    "# Por los datos se pueden intuir algunos outliers en las columnas, pero veremos mejor si tenemos valores atípicos con visualización. \n",
    "\n",
    "fig, axes = plt.subplots(nrows = 2, ncols = 3, figsize = (20,10)) \n",
    "\n",
    "axes = axes.flat\n",
    "\n",
    "for indice, col in enumerate(lista_columnas_numericas_con_nulos):\n",
    "    sns.boxplot(x = col, data = df, ax = axes[indice])\n",
    "\n",
    "# Vemos que en todos los casos hay MUCHOS valores atípicos. No podemos hacer imputación simple.\n",
    "\n",
    "# Por curiosidad, ¿cuántos outliers hay en cada col? Aproximadamente...\n",
    "\n",
    "df['rating_five_count'][df['rating_five_count'] > 1000].count() # 183 outliers aprox\n",
    "df['rating_four_count'][df['rating_four_count'] > 300].count() # 252 outliers aprox\n",
    "df['rating_three_count'][df['rating_three_count'] > 400].count() # 108 outliers aprox\n",
    "df['rating_two_count'][df['rating_two_count'] > 140].count() # 179 outliers aprox\n",
    "df['rating_one_count'][df['rating_one_count'] > 250].count() # 148 outliers aprox\n"
   ]
  },
  {
   "cell_type": "markdown",
   "metadata": {},
   "source": [
    "A pesar de que la proporción de nulos es pequeña, en todos los casos hay MUCHOS valores atípicos. No podemos hacer imputación simple.\n",
    "\n",
    "Opciones: imputación compleja con métodos avanzados como KNNImputer y IterativeImputer. \n",
    "\n",
    "Vamos a calcular ambos para luego comparar. Pero primero la sintaxis."
   ]
  },
  {
   "cell_type": "markdown",
   "metadata": {},
   "source": [
    "**Iterative Imputer** \n",
    "\n",
    "```python\n",
    "# Crear una instancia del IterativeImputer. NOTA: Pondremos siempre 20 y 42. \n",
    "imputer = IterativeImputer(max_iter, random_state)\n",
    "\n",
    "# Ajustar y transformar los datos. \n",
    "data_imputed = imputer.fit_transform(datos)\n",
    "```\n",
    "**KNN Imputer** (k-Nearest Neighbors)\n",
    "\n",
    "```python\n",
    "# Crear una instancia del KNNImputer. NOTA: por defecto se suele poner 5.\n",
    "imputer = KNNImputer(n_neighbors=n_vecinos)\n",
    "\n",
    "# Ajustar y transformar los datos\n",
    "data_imputed = imputer.fit_transform(datos)\n",
    "```"
   ]
  },
  {
   "cell_type": "code",
   "execution_count": 194,
   "metadata": {},
   "outputs": [
    {
     "data": {
      "text/plain": [
       "array([[2.600e+01, 8.000e+00, 1.000e+01, 1.000e+00, 9.000e+00],\n",
       "       [2.269e+03, 1.027e+03, 1.118e+03, 6.440e+02, 1.077e+03],\n",
       "       [5.000e+00, 4.000e+00, 2.000e+00, 0.000e+00, 3.000e+00],\n",
       "       ...,\n",
       "       [2.400e+01, 1.500e+01, 8.000e+00, 3.000e+00, 9.000e+00],\n",
       "       [0.000e+00, 1.000e+00, 0.000e+00, 0.000e+00, 1.000e+00],\n",
       "       [8.000e+00, 3.000e+00, 1.000e+00, 0.000e+00, 2.000e+00]])"
      ]
     },
     "execution_count": 194,
     "metadata": {},
     "output_type": "execute_result"
    }
   ],
   "source": [
    "# Método IterativeImputer del módulo impute de scikit-learn\n",
    "\n",
    "# Multivariate imputer that estimates each feature from all the others.\n",
    "# A strategy for imputing missing values by modeling each feature with missing values \n",
    "# as a function of other features in a round-robin fashion.\n",
    "    \n",
    "imputer = IterativeImputer(max_iter= 20, random_state=42)\n",
    "\n",
    "imputer_iterative_imputado = imputer.fit_transform(df[['rating_five_count', 'rating_four_count', 'rating_three_count','rating_two_count','rating_one_count']])\n",
    "\n",
    "# comprobamos que es lo que nos devuelve, que en este caso es un array también\n",
    "imputer_iterative_imputado"
   ]
  },
  {
   "cell_type": "markdown",
   "metadata": {},
   "source": [
    "Añado al df las columnas con el resultado de las imputaciones por InteractiveImputer"
   ]
  },
  {
   "cell_type": "code",
   "execution_count": 195,
   "metadata": {},
   "outputs": [],
   "source": [
    "df[['rating_five_count_iter', 'rating_four_count_iter', 'rating_three_count_iter', 'rating_two_count_iter', 'rating_one_count_iter']] = imputer_iterative_imputado"
   ]
  },
  {
   "cell_type": "code",
   "execution_count": 196,
   "metadata": {},
   "outputs": [
    {
     "data": {
      "text/plain": [
       "array([[2.600e+01, 8.000e+00, 1.000e+01, 1.000e+00, 9.000e+00],\n",
       "       [2.269e+03, 1.027e+03, 1.118e+03, 6.440e+02, 1.077e+03],\n",
       "       [5.000e+00, 4.000e+00, 2.000e+00, 0.000e+00, 3.000e+00],\n",
       "       ...,\n",
       "       [2.400e+01, 1.500e+01, 8.000e+00, 3.000e+00, 9.000e+00],\n",
       "       [0.000e+00, 1.000e+00, 0.000e+00, 0.000e+00, 1.000e+00],\n",
       "       [8.000e+00, 3.000e+00, 1.000e+00, 0.000e+00, 2.000e+00]])"
      ]
     },
     "execution_count": 196,
     "metadata": {},
     "output_type": "execute_result"
    }
   ],
   "source": [
    "# Hacemos lo mismo con el KNNImputer. NOTA: la ejecución de esta celda puede tardar un ratito\n",
    "\n",
    "imputer_knn = KNNImputer(n_neighbors = 5)\n",
    "\n",
    "imputer_knn_imputado = imputer_knn.fit_transform(df[['rating_five_count', 'rating_four_count', 'rating_three_count','rating_two_count','rating_one_count']])\n",
    "\n",
    "# comprobamos que es lo que nos devuelve, que sigue siendo un array\n",
    "imputer_knn_imputado"
   ]
  },
  {
   "cell_type": "markdown",
   "metadata": {},
   "source": [
    "Añado al df las columnas con el resultado de las imputaciones por KNN"
   ]
  },
  {
   "cell_type": "code",
   "execution_count": 190,
   "metadata": {},
   "outputs": [],
   "source": [
    "df[['rating_five_count_knn', 'rating_four_count_knn', 'rating_three_count_knn', 'rating_two_count_knn', 'rating_one_count_knn']] = imputer_knn_imputado"
   ]
  },
  {
   "cell_type": "markdown",
   "metadata": {},
   "source": [
    "Y ahora, para cada columna, compruebo los estadísticos para elegir el método que menos modifique los estadísticos de original."
   ]
  },
  {
   "cell_type": "code",
   "execution_count": 191,
   "metadata": {},
   "outputs": [
    {
     "data": {
      "text/html": [
       "<div>\n",
       "<style scoped>\n",
       "    .dataframe tbody tr th:only-of-type {\n",
       "        vertical-align: middle;\n",
       "    }\n",
       "\n",
       "    .dataframe tbody tr th {\n",
       "        vertical-align: top;\n",
       "    }\n",
       "\n",
       "    .dataframe thead th {\n",
       "        text-align: right;\n",
       "    }\n",
       "</style>\n",
       "<table border=\"1\" class=\"dataframe\">\n",
       "  <thead>\n",
       "    <tr style=\"text-align: right;\">\n",
       "      <th></th>\n",
       "      <th>rating_five_count</th>\n",
       "      <th>rating_five_count_knn</th>\n",
       "      <th>rating_five_count_iter</th>\n",
       "    </tr>\n",
       "  </thead>\n",
       "  <tbody>\n",
       "    <tr>\n",
       "      <th>count</th>\n",
       "      <td>1528.000000</td>\n",
       "      <td>1573.000000</td>\n",
       "      <td>1573.000000</td>\n",
       "    </tr>\n",
       "    <tr>\n",
       "      <th>mean</th>\n",
       "      <td>442.263743</td>\n",
       "      <td>442.263743</td>\n",
       "      <td>442.263743</td>\n",
       "    </tr>\n",
       "    <tr>\n",
       "      <th>std</th>\n",
       "      <td>980.203270</td>\n",
       "      <td>966.071776</td>\n",
       "      <td>966.071776</td>\n",
       "    </tr>\n",
       "    <tr>\n",
       "      <th>min</th>\n",
       "      <td>0.000000</td>\n",
       "      <td>0.000000</td>\n",
       "      <td>0.000000</td>\n",
       "    </tr>\n",
       "    <tr>\n",
       "      <th>25%</th>\n",
       "      <td>12.000000</td>\n",
       "      <td>13.000000</td>\n",
       "      <td>13.000000</td>\n",
       "    </tr>\n",
       "    <tr>\n",
       "      <th>50%</th>\n",
       "      <td>79.000000</td>\n",
       "      <td>86.000000</td>\n",
       "      <td>86.000000</td>\n",
       "    </tr>\n",
       "    <tr>\n",
       "      <th>75%</th>\n",
       "      <td>413.500000</td>\n",
       "      <td>442.263743</td>\n",
       "      <td>442.263743</td>\n",
       "    </tr>\n",
       "    <tr>\n",
       "      <th>max</th>\n",
       "      <td>11548.000000</td>\n",
       "      <td>11548.000000</td>\n",
       "      <td>11548.000000</td>\n",
       "    </tr>\n",
       "  </tbody>\n",
       "</table>\n",
       "</div>"
      ],
      "text/plain": [
       "       rating_five_count  rating_five_count_knn  rating_five_count_iter\n",
       "count        1528.000000            1573.000000             1573.000000\n",
       "mean          442.263743             442.263743              442.263743\n",
       "std           980.203270             966.071776              966.071776\n",
       "min             0.000000               0.000000                0.000000\n",
       "25%            12.000000              13.000000               13.000000\n",
       "50%            79.000000              86.000000               86.000000\n",
       "75%           413.500000             442.263743              442.263743\n",
       "max         11548.000000           11548.000000            11548.000000"
      ]
     },
     "execution_count": 191,
     "metadata": {},
     "output_type": "execute_result"
    }
   ],
   "source": [
    "df[['rating_five_count', 'rating_five_count_knn', 'rating_five_count_iter']].describe()"
   ]
  },
  {
   "cell_type": "code",
   "execution_count": 192,
   "metadata": {},
   "outputs": [
    {
     "data": {
      "text/html": [
       "<div>\n",
       "<style scoped>\n",
       "    .dataframe tbody tr th:only-of-type {\n",
       "        vertical-align: middle;\n",
       "    }\n",
       "\n",
       "    .dataframe tbody tr th {\n",
       "        vertical-align: top;\n",
       "    }\n",
       "\n",
       "    .dataframe thead th {\n",
       "        text-align: right;\n",
       "    }\n",
       "</style>\n",
       "<table border=\"1\" class=\"dataframe\">\n",
       "  <thead>\n",
       "    <tr style=\"text-align: right;\">\n",
       "      <th></th>\n",
       "      <th>rating_four_count</th>\n",
       "      <th>rating_four_count_knn</th>\n",
       "      <th>rating_four_count_iter</th>\n",
       "    </tr>\n",
       "  </thead>\n",
       "  <tbody>\n",
       "    <tr>\n",
       "      <th>count</th>\n",
       "      <td>1528.000000</td>\n",
       "      <td>1573.000000</td>\n",
       "      <td>1573.000000</td>\n",
       "    </tr>\n",
       "    <tr>\n",
       "      <th>mean</th>\n",
       "      <td>179.599476</td>\n",
       "      <td>179.599476</td>\n",
       "      <td>179.599476</td>\n",
       "    </tr>\n",
       "    <tr>\n",
       "      <th>std</th>\n",
       "      <td>400.516231</td>\n",
       "      <td>394.742028</td>\n",
       "      <td>394.742028</td>\n",
       "    </tr>\n",
       "    <tr>\n",
       "      <th>min</th>\n",
       "      <td>0.000000</td>\n",
       "      <td>0.000000</td>\n",
       "      <td>0.000000</td>\n",
       "    </tr>\n",
       "    <tr>\n",
       "      <th>25%</th>\n",
       "      <td>5.000000</td>\n",
       "      <td>5.000000</td>\n",
       "      <td>5.000000</td>\n",
       "    </tr>\n",
       "    <tr>\n",
       "      <th>50%</th>\n",
       "      <td>31.500000</td>\n",
       "      <td>35.000000</td>\n",
       "      <td>35.000000</td>\n",
       "    </tr>\n",
       "    <tr>\n",
       "      <th>75%</th>\n",
       "      <td>168.250000</td>\n",
       "      <td>179.599476</td>\n",
       "      <td>179.599476</td>\n",
       "    </tr>\n",
       "    <tr>\n",
       "      <th>max</th>\n",
       "      <td>4152.000000</td>\n",
       "      <td>4152.000000</td>\n",
       "      <td>4152.000000</td>\n",
       "    </tr>\n",
       "  </tbody>\n",
       "</table>\n",
       "</div>"
      ],
      "text/plain": [
       "       rating_four_count  rating_four_count_knn  rating_four_count_iter\n",
       "count        1528.000000            1573.000000             1573.000000\n",
       "mean          179.599476             179.599476              179.599476\n",
       "std           400.516231             394.742028              394.742028\n",
       "min             0.000000               0.000000                0.000000\n",
       "25%             5.000000               5.000000                5.000000\n",
       "50%            31.500000              35.000000               35.000000\n",
       "75%           168.250000             179.599476              179.599476\n",
       "max          4152.000000            4152.000000             4152.000000"
      ]
     },
     "execution_count": 192,
     "metadata": {},
     "output_type": "execute_result"
    }
   ],
   "source": [
    "df[['rating_four_count', 'rating_four_count_knn', 'rating_four_count_iter' ]].describe()"
   ]
  },
  {
   "cell_type": "code",
   "execution_count": 193,
   "metadata": {},
   "outputs": [
    {
     "data": {
      "text/html": [
       "<div>\n",
       "<style scoped>\n",
       "    .dataframe tbody tr th:only-of-type {\n",
       "        vertical-align: middle;\n",
       "    }\n",
       "\n",
       "    .dataframe tbody tr th {\n",
       "        vertical-align: top;\n",
       "    }\n",
       "\n",
       "    .dataframe thead th {\n",
       "        text-align: right;\n",
       "    }\n",
       "</style>\n",
       "<table border=\"1\" class=\"dataframe\">\n",
       "  <thead>\n",
       "    <tr style=\"text-align: right;\">\n",
       "      <th></th>\n",
       "      <th>rating_three_count</th>\n",
       "      <th>rating_three_count_knn</th>\n",
       "      <th>rating_three_count_iter</th>\n",
       "    </tr>\n",
       "  </thead>\n",
       "  <tbody>\n",
       "    <tr>\n",
       "      <th>count</th>\n",
       "      <td>1528.000000</td>\n",
       "      <td>1573.000000</td>\n",
       "      <td>1573.000000</td>\n",
       "    </tr>\n",
       "    <tr>\n",
       "      <th>mean</th>\n",
       "      <td>134.549738</td>\n",
       "      <td>134.549738</td>\n",
       "      <td>134.549738</td>\n",
       "    </tr>\n",
       "    <tr>\n",
       "      <th>std</th>\n",
       "      <td>311.690656</td>\n",
       "      <td>307.197043</td>\n",
       "      <td>307.197043</td>\n",
       "    </tr>\n",
       "    <tr>\n",
       "      <th>min</th>\n",
       "      <td>0.000000</td>\n",
       "      <td>0.000000</td>\n",
       "      <td>0.000000</td>\n",
       "    </tr>\n",
       "    <tr>\n",
       "      <th>25%</th>\n",
       "      <td>4.000000</td>\n",
       "      <td>4.000000</td>\n",
       "      <td>4.000000</td>\n",
       "    </tr>\n",
       "    <tr>\n",
       "      <th>50%</th>\n",
       "      <td>24.000000</td>\n",
       "      <td>26.000000</td>\n",
       "      <td>26.000000</td>\n",
       "    </tr>\n",
       "    <tr>\n",
       "      <th>75%</th>\n",
       "      <td>129.250000</td>\n",
       "      <td>134.549738</td>\n",
       "      <td>134.549738</td>\n",
       "    </tr>\n",
       "    <tr>\n",
       "      <th>max</th>\n",
       "      <td>3658.000000</td>\n",
       "      <td>3658.000000</td>\n",
       "      <td>3658.000000</td>\n",
       "    </tr>\n",
       "  </tbody>\n",
       "</table>\n",
       "</div>"
      ],
      "text/plain": [
       "       rating_three_count  rating_three_count_knn  rating_three_count_iter\n",
       "count         1528.000000             1573.000000              1573.000000\n",
       "mean           134.549738              134.549738               134.549738\n",
       "std            311.690656              307.197043               307.197043\n",
       "min              0.000000                0.000000                 0.000000\n",
       "25%              4.000000                4.000000                 4.000000\n",
       "50%             24.000000               26.000000                26.000000\n",
       "75%            129.250000              134.549738               134.549738\n",
       "max           3658.000000             3658.000000              3658.000000"
      ]
     },
     "execution_count": 193,
     "metadata": {},
     "output_type": "execute_result"
    }
   ],
   "source": [
    "df[['rating_three_count', 'rating_three_count_knn', 'rating_three_count_iter' ]].describe()"
   ]
  },
  {
   "cell_type": "code",
   "execution_count": 133,
   "metadata": {},
   "outputs": [
    {
     "data": {
      "text/html": [
       "<div>\n",
       "<style scoped>\n",
       "    .dataframe tbody tr th:only-of-type {\n",
       "        vertical-align: middle;\n",
       "    }\n",
       "\n",
       "    .dataframe tbody tr th {\n",
       "        vertical-align: top;\n",
       "    }\n",
       "\n",
       "    .dataframe thead th {\n",
       "        text-align: right;\n",
       "    }\n",
       "</style>\n",
       "<table border=\"1\" class=\"dataframe\">\n",
       "  <thead>\n",
       "    <tr style=\"text-align: right;\">\n",
       "      <th></th>\n",
       "      <th>rating_two_count</th>\n",
       "      <th>rating_two_count_knn</th>\n",
       "      <th>rating_two_count_iter</th>\n",
       "    </tr>\n",
       "  </thead>\n",
       "  <tbody>\n",
       "    <tr>\n",
       "      <th>count</th>\n",
       "      <td>1528.000000</td>\n",
       "      <td>1573.000000</td>\n",
       "      <td>1573.000000</td>\n",
       "    </tr>\n",
       "    <tr>\n",
       "      <th>mean</th>\n",
       "      <td>63.711387</td>\n",
       "      <td>63.711387</td>\n",
       "      <td>63.711387</td>\n",
       "    </tr>\n",
       "    <tr>\n",
       "      <th>std</th>\n",
       "      <td>151.343933</td>\n",
       "      <td>149.162023</td>\n",
       "      <td>149.162023</td>\n",
       "    </tr>\n",
       "    <tr>\n",
       "      <th>min</th>\n",
       "      <td>0.000000</td>\n",
       "      <td>0.000000</td>\n",
       "      <td>0.000000</td>\n",
       "    </tr>\n",
       "    <tr>\n",
       "      <th>25%</th>\n",
       "      <td>2.000000</td>\n",
       "      <td>2.000000</td>\n",
       "      <td>2.000000</td>\n",
       "    </tr>\n",
       "    <tr>\n",
       "      <th>50%</th>\n",
       "      <td>11.000000</td>\n",
       "      <td>12.000000</td>\n",
       "      <td>12.000000</td>\n",
       "    </tr>\n",
       "    <tr>\n",
       "      <th>75%</th>\n",
       "      <td>62.000000</td>\n",
       "      <td>63.711387</td>\n",
       "      <td>63.711387</td>\n",
       "    </tr>\n",
       "    <tr>\n",
       "      <th>max</th>\n",
       "      <td>2003.000000</td>\n",
       "      <td>2003.000000</td>\n",
       "      <td>2003.000000</td>\n",
       "    </tr>\n",
       "  </tbody>\n",
       "</table>\n",
       "</div>"
      ],
      "text/plain": [
       "       rating_two_count  rating_two_count_knn  rating_two_count_iter\n",
       "count       1528.000000           1573.000000            1573.000000\n",
       "mean          63.711387             63.711387              63.711387\n",
       "std          151.343933            149.162023             149.162023\n",
       "min            0.000000              0.000000               0.000000\n",
       "25%            2.000000              2.000000               2.000000\n",
       "50%           11.000000             12.000000              12.000000\n",
       "75%           62.000000             63.711387              63.711387\n",
       "max         2003.000000           2003.000000            2003.000000"
      ]
     },
     "execution_count": 133,
     "metadata": {},
     "output_type": "execute_result"
    }
   ],
   "source": [
    "df[['rating_two_count', 'rating_two_count_knn', 'rating_two_count_iter' ]].describe()\n",
    "# nos podemos quedar con el iterative o con el knn"
   ]
  },
  {
   "cell_type": "code",
   "execution_count": 198,
   "metadata": {},
   "outputs": [
    {
     "data": {
      "text/html": [
       "<div>\n",
       "<style scoped>\n",
       "    .dataframe tbody tr th:only-of-type {\n",
       "        vertical-align: middle;\n",
       "    }\n",
       "\n",
       "    .dataframe tbody tr th {\n",
       "        vertical-align: top;\n",
       "    }\n",
       "\n",
       "    .dataframe thead th {\n",
       "        text-align: right;\n",
       "    }\n",
       "</style>\n",
       "<table border=\"1\" class=\"dataframe\">\n",
       "  <thead>\n",
       "    <tr style=\"text-align: right;\">\n",
       "      <th></th>\n",
       "      <th>rating_one_count</th>\n",
       "      <th>rating_one_count_knn</th>\n",
       "      <th>rating_one_count_iter</th>\n",
       "    </tr>\n",
       "  </thead>\n",
       "  <tbody>\n",
       "    <tr>\n",
       "      <th>count</th>\n",
       "      <td>1528.000000</td>\n",
       "      <td>1573.000000</td>\n",
       "      <td>1573.000000</td>\n",
       "    </tr>\n",
       "    <tr>\n",
       "      <th>mean</th>\n",
       "      <td>95.735602</td>\n",
       "      <td>95.735602</td>\n",
       "      <td>95.735602</td>\n",
       "    </tr>\n",
       "    <tr>\n",
       "      <th>std</th>\n",
       "      <td>214.075544</td>\n",
       "      <td>210.989239</td>\n",
       "      <td>210.989239</td>\n",
       "    </tr>\n",
       "    <tr>\n",
       "      <th>min</th>\n",
       "      <td>0.000000</td>\n",
       "      <td>0.000000</td>\n",
       "      <td>0.000000</td>\n",
       "    </tr>\n",
       "    <tr>\n",
       "      <th>25%</th>\n",
       "      <td>4.000000</td>\n",
       "      <td>4.000000</td>\n",
       "      <td>4.000000</td>\n",
       "    </tr>\n",
       "    <tr>\n",
       "      <th>50%</th>\n",
       "      <td>20.000000</td>\n",
       "      <td>22.000000</td>\n",
       "      <td>22.000000</td>\n",
       "    </tr>\n",
       "    <tr>\n",
       "      <th>75%</th>\n",
       "      <td>94.000000</td>\n",
       "      <td>95.735602</td>\n",
       "      <td>95.735602</td>\n",
       "    </tr>\n",
       "    <tr>\n",
       "      <th>max</th>\n",
       "      <td>2789.000000</td>\n",
       "      <td>2789.000000</td>\n",
       "      <td>2789.000000</td>\n",
       "    </tr>\n",
       "  </tbody>\n",
       "</table>\n",
       "</div>"
      ],
      "text/plain": [
       "       rating_one_count  rating_one_count_knn  rating_one_count_iter\n",
       "count       1528.000000           1573.000000            1573.000000\n",
       "mean          95.735602             95.735602              95.735602\n",
       "std          214.075544            210.989239             210.989239\n",
       "min            0.000000              0.000000               0.000000\n",
       "25%            4.000000              4.000000               4.000000\n",
       "50%           20.000000             22.000000              22.000000\n",
       "75%           94.000000             95.735602              95.735602\n",
       "max         2789.000000           2789.000000            2789.000000"
      ]
     },
     "execution_count": 198,
     "metadata": {},
     "output_type": "execute_result"
    }
   ],
   "source": [
    "df[['rating_one_count', 'rating_one_count_knn', 'rating_one_count_iter' ]].describe()\n",
    "# nos podemos quedar con el iterative o con el knn"
   ]
  },
  {
   "cell_type": "markdown",
   "metadata": {},
   "source": [
    "Viendo que los datos son exactamente iguales (confuso: comprobar que está bien hecho), nos quedamos con el método del interative imputer."
   ]
  },
  {
   "cell_type": "code",
   "execution_count": 199,
   "metadata": {},
   "outputs": [],
   "source": [
    "columnas_borrar = ['rating_one_count', 'rating_one_count_knn', 'rating_two_count', 'rating_two_count_knn', 'rating_three_count', 'rating_three_count_knn', 'rating_four_count', 'rating_four_count_knn', 'rating_five_count', 'rating_five_count_knn']\n"
   ]
  },
  {
   "cell_type": "markdown",
   "metadata": {},
   "source": [
    "Borramos las columnas que no vamos a usar y cambiamos el nombre de las que hemos imputado."
   ]
  },
  {
   "cell_type": "code",
   "execution_count": 200,
   "metadata": {},
   "outputs": [],
   "source": [
    "df.drop(columnas_borrar, axis = 1, inplace = True)"
   ]
  },
  {
   "cell_type": "code",
   "execution_count": 203,
   "metadata": {},
   "outputs": [
    {
     "data": {
      "text/html": [
       "<div>\n",
       "<style scoped>\n",
       "    .dataframe tbody tr th:only-of-type {\n",
       "        vertical-align: middle;\n",
       "    }\n",
       "\n",
       "    .dataframe tbody tr th {\n",
       "        vertical-align: top;\n",
       "    }\n",
       "\n",
       "    .dataframe thead th {\n",
       "        text-align: right;\n",
       "    }\n",
       "</style>\n",
       "<table border=\"1\" class=\"dataframe\">\n",
       "  <thead>\n",
       "    <tr style=\"text-align: right;\">\n",
       "      <th></th>\n",
       "      <th>title</th>\n",
       "      <th>title_orig</th>\n",
       "      <th>price</th>\n",
       "      <th>retail_price</th>\n",
       "      <th>units_sold</th>\n",
       "      <th>uses_ad_boosts</th>\n",
       "      <th>rating_x</th>\n",
       "      <th>rating_count</th>\n",
       "      <th>badge_local_product</th>\n",
       "      <th>badge_product_quality</th>\n",
       "      <th>badge_fast_shipping</th>\n",
       "      <th>tags</th>\n",
       "      <th>product_color</th>\n",
       "      <th>product_variation_size_id</th>\n",
       "      <th>shipping_option_name</th>\n",
       "      <th>shipping_option_price</th>\n",
       "      <th>shipping_is_express</th>\n",
       "      <th>countries_shipped_to</th>\n",
       "      <th>inventory_total</th>\n",
       "      <th>origin_country</th>\n",
       "      <th>merchant_name</th>\n",
       "      <th>merchant_info_subtitle</th>\n",
       "      <th>merchant_rating_count</th>\n",
       "      <th>merchant_id</th>\n",
       "      <th>product_url</th>\n",
       "      <th>product_id</th>\n",
       "      <th>listed_products</th>\n",
       "      <th>total_units_sold</th>\n",
       "      <th>mean_units_sold_per_product</th>\n",
       "      <th>rating_y</th>\n",
       "      <th>merchant_ratings_count</th>\n",
       "      <th>mean_product_prices</th>\n",
       "      <th>mean_retail_prices</th>\n",
       "      <th>mean_product_ratings_count</th>\n",
       "      <th>discount_percentage</th>\n",
       "      <th>seller_reputation</th>\n",
       "      <th>rating_five_count_iter</th>\n",
       "      <th>rating_four_count_iter</th>\n",
       "      <th>rating_three_count_iter</th>\n",
       "      <th>rating_two_count_iter</th>\n",
       "      <th>rating_one_count_iter</th>\n",
       "    </tr>\n",
       "  </thead>\n",
       "  <tbody>\n",
       "    <tr>\n",
       "      <th>378</th>\n",
       "      <td>7 couleurs femmes mode d'été Bikini ensemble i...</td>\n",
       "      <td>7 Colors Women Summer Fashion Bikini Set Flora...</td>\n",
       "      <td>12.0</td>\n",
       "      <td>59</td>\n",
       "      <td>5000</td>\n",
       "      <td>No</td>\n",
       "      <td>3.47</td>\n",
       "      <td>371</td>\n",
       "      <td>No</td>\n",
       "      <td>Buena</td>\n",
       "      <td>No</td>\n",
       "      <td>Summer,Plus Size,Halter,Women's Fashion,Shorts...</td>\n",
       "      <td>white</td>\n",
       "      <td>S</td>\n",
       "      <td>Standard Shipping</td>\n",
       "      <td>3</td>\n",
       "      <td>No</td>\n",
       "      <td>41</td>\n",
       "      <td>50</td>\n",
       "      <td>CN</td>\n",
       "      <td>chenqinq</td>\n",
       "      <td>86% Positive Feedback (3,592 ratings)</td>\n",
       "      <td>3592</td>\n",
       "      <td>5ae296b6cd968d66be12d247</td>\n",
       "      <td>https://www.wish.com/c/5e1441859fe5367b00bb3b54</td>\n",
       "      <td>5e1441859fe5367b00bb3b54</td>\n",
       "      <td>3</td>\n",
       "      <td>7000</td>\n",
       "      <td>2333.0</td>\n",
       "      <td>4.062</td>\n",
       "      <td>3592.0</td>\n",
       "      <td>8.67</td>\n",
       "      <td>24.33</td>\n",
       "      <td>266.0</td>\n",
       "      <td>79.66</td>\n",
       "      <td>Buena</td>\n",
       "      <td>137.0</td>\n",
       "      <td>64.0</td>\n",
       "      <td>69.0</td>\n",
       "      <td>40.0</td>\n",
       "      <td>61.0</td>\n",
       "    </tr>\n",
       "  </tbody>\n",
       "</table>\n",
       "</div>"
      ],
      "text/plain": [
       "                                                 title  \\\n",
       "378  7 couleurs femmes mode d'été Bikini ensemble i...   \n",
       "\n",
       "                                            title_orig  price  retail_price  \\\n",
       "378  7 Colors Women Summer Fashion Bikini Set Flora...   12.0            59   \n",
       "\n",
       "     units_sold uses_ad_boosts  rating_x  rating_count badge_local_product  \\\n",
       "378        5000             No      3.47           371                  No   \n",
       "\n",
       "    badge_product_quality badge_fast_shipping  \\\n",
       "378                 Buena                  No   \n",
       "\n",
       "                                                  tags product_color  \\\n",
       "378  Summer,Plus Size,Halter,Women's Fashion,Shorts...         white   \n",
       "\n",
       "    product_variation_size_id shipping_option_name  shipping_option_price  \\\n",
       "378                         S    Standard Shipping                      3   \n",
       "\n",
       "    shipping_is_express  countries_shipped_to  inventory_total origin_country  \\\n",
       "378                  No                    41               50             CN   \n",
       "\n",
       "    merchant_name                 merchant_info_subtitle  \\\n",
       "378      chenqinq  86% Positive Feedback (3,592 ratings)   \n",
       "\n",
       "     merchant_rating_count               merchant_id  \\\n",
       "378                   3592  5ae296b6cd968d66be12d247   \n",
       "\n",
       "                                         product_url  \\\n",
       "378  https://www.wish.com/c/5e1441859fe5367b00bb3b54   \n",
       "\n",
       "                   product_id  listed_products  total_units_sold  \\\n",
       "378  5e1441859fe5367b00bb3b54                3              7000   \n",
       "\n",
       "     mean_units_sold_per_product  rating_y  merchant_ratings_count  \\\n",
       "378                       2333.0     4.062                  3592.0   \n",
       "\n",
       "     mean_product_prices  mean_retail_prices  mean_product_ratings_count  \\\n",
       "378                 8.67               24.33                       266.0   \n",
       "\n",
       "     discount_percentage seller_reputation  rating_five_count_iter  \\\n",
       "378                79.66             Buena                   137.0   \n",
       "\n",
       "     rating_four_count_iter  rating_three_count_iter  rating_two_count_iter  \\\n",
       "378                    64.0                     69.0                   40.0   \n",
       "\n",
       "     rating_one_count_iter  \n",
       "378                   61.0  "
      ]
     },
     "execution_count": 203,
     "metadata": {},
     "output_type": "execute_result"
    }
   ],
   "source": [
    "df_copia2 = df.copy()\n",
    "df_copia2.sample()"
   ]
  },
  {
   "cell_type": "code",
   "execution_count": 204,
   "metadata": {},
   "outputs": [],
   "source": [
    "nuevo_nombre = {\n",
    "    'rating_one_count_iter': 'rating_one_count',  \n",
    "    'rating_two_count_iter': 'rating_two_count',\n",
    "    'rating_three_count_iter': 'rating_three_count',\n",
    "    'rating_four_count_iter': 'rating_four_count',\n",
    "    'rating_five_count_iter': 'rating_five_count',\n",
    "}\n",
    "df.rename(columns = nuevo_nombre, inplace = True)"
   ]
  },
  {
   "cell_type": "code",
   "execution_count": 206,
   "metadata": {},
   "outputs": [
    {
     "data": {
      "text/plain": [
       "Series([], dtype: int64)"
      ]
     },
     "execution_count": 206,
     "metadata": {},
     "output_type": "execute_result"
    }
   ],
   "source": [
    "# Compruebo que no quedan nulos en el dataframe\n",
    "\n",
    "df.isnull().sum()[df.isnull().sum()>0]"
   ]
  },
  {
   "cell_type": "markdown",
   "metadata": {},
   "source": [
    "Guardamos el cvs."
   ]
  },
  {
   "cell_type": "code",
   "execution_count": 207,
   "metadata": {},
   "outputs": [],
   "source": [
    "df.to_csv(\"merchant_fill_no_nulls_05_10_2024.csv\")"
   ]
  }
 ],
 "metadata": {
  "kernelspec": {
   "display_name": "base",
   "language": "python",
   "name": "python3"
  },
  "language_info": {
   "codemirror_mode": {
    "name": "ipython",
    "version": 3
   },
   "file_extension": ".py",
   "mimetype": "text/x-python",
   "name": "python",
   "nbconvert_exporter": "python",
   "pygments_lexer": "ipython3",
   "version": "3.12.4"
  }
 },
 "nbformat": 4,
 "nbformat_minor": 2
}
