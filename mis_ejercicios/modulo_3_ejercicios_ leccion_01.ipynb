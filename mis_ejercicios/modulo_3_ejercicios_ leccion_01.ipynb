{
 "cells": [
  {
   "cell_type": "markdown",
   "metadata": {},
   "source": [
    "EJERCICIOS DE CREACIÓN DE ARRAYS"
   ]
  },
  {
   "cell_type": "code",
   "execution_count": 1,
   "metadata": {},
   "outputs": [],
   "source": [
    "# Importamos la librería numpy\n",
    " \n",
    "import numpy as np"
   ]
  },
  {
   "cell_type": "markdown",
   "metadata": {},
   "source": [
    "# Ejercicios\n",
    "\n",
    "1.  Genera un *array* bidimensional de 4 x 3 con valores aleatorios enteros entre el 34 y el 98. Una vez creado cada array comprueba las dimensiones y los tipos de datos que tenemos en el array. \n",
    "\n"
   ]
  },
  {
   "cell_type": "code",
   "execution_count": 2,
   "metadata": {},
   "outputs": [
    {
     "name": "stdout",
     "output_type": "stream",
     "text": [
      "[[34 44 85]\n",
      " [42 44 74]\n",
      " [45 61 47]\n",
      " [68 51 83]]\n"
     ]
    }
   ],
   "source": [
    "size = (4, 3)\n",
    "\n",
    "low = 34\n",
    "\n",
    "high = 99\n",
    "\n",
    "mi_array = np.random.randint(low, high, size)\n",
    "\n",
    "print(mi_array)"
   ]
  },
  {
   "cell_type": "markdown",
   "metadata": {},
   "source": [
    "2. Crea dos *arrays* (unidimensional, bidimensional) usando el método `np.array()`. \n",
    "\n",
    "    Las listas para crear los *arrays* son las siguientes\n",
    "\n",
    "    ```python\n",
    "    lista1 = [34,56,71,98, 10]\n",
    "    lista2 = [[23,45,89, 56], [12,43,82,44]]\n",
    "    ```\n",
    "\n",
    "    **Bonus** Haz una pequeña descripción de cada *array* usando los métodos de exploración de *arrays* que hemos aprendido."
   ]
  },
  {
   "cell_type": "code",
   "execution_count": 3,
   "metadata": {},
   "outputs": [
    {
     "name": "stdout",
     "output_type": "stream",
     "text": [
      "[34 56 71 98 10]\n",
      "\n",
      "Las dimensiones del array son (5,). El nº de dimensiones es: 1. El nº total de elementos es 5. Y el tipo de datos es int64\n",
      "\n",
      "********************\n",
      "\n",
      "[[23 45 89 56]\n",
      " [12 43 82 44]]\n",
      "\n",
      "Las dimensiones del array son (2, 4). El nº de dimensiones es: 2. El nº total de elementos es 8. Y el tipo de datos es int64\n",
      "\n",
      "********************\n",
      "\n"
     ]
    }
   ],
   "source": [
    "lista1 = [34,56,71,98, 10]\n",
    "lista2 = [[23,45,89, 56], [12,43,82,44]]\n",
    "\n",
    "a_unidim = np.array(lista1)\n",
    "a_bidim = np.array(lista2)\n",
    "\n",
    "print(a_unidim)\n",
    "print(f\"\\nLas dimensiones del array son {a_unidim.shape}. El nº de dimensiones es: {a_unidim.ndim}. El nº total de elementos es {a_unidim.size}. Y el tipo de datos es {a_unidim.dtype}\")\n",
    "print(\"\\n********************\\n\")\n",
    "print(a_bidim)\n",
    "print(f\"\\nLas dimensiones del array son {a_bidim.shape}. El nº de dimensiones es: {a_bidim.ndim}. El nº total de elementos es {a_bidim.size}. Y el tipo de datos es {a_bidim.dtype}\")\n",
    "print(\"\\n********************\\n\")\n",
    "\n",
    "\n"
   ]
  },
  {
   "cell_type": "markdown",
   "metadata": {},
   "source": [
    "EJERCICIOS DE INDEXACIÓN "
   ]
  },
  {
   "cell_type": "markdown",
   "metadata": {},
   "source": [
    "1. Crea un *array* unidimensional con 50 elementos con el método que prefieras y extrae: \n",
    "\n",
    "    - El primer elemento.\n",
    "\n",
    "\n",
    "    - Lo elementos que están en posición impar.\n",
    "\n",
    "\n",
    "    - Los cuatro primeros elementos.\n",
    "\n",
    "\n",
    "    - Los últimos tres elementos.\n",
    "\n",
    "\n",
    "    - Los elementos entre el 4 y el 8 (incluido). "
   ]
  },
  {
   "cell_type": "code",
   "execution_count": 4,
   "metadata": {},
   "outputs": [
    {
     "name": "stdout",
     "output_type": "stream",
     "text": [
      "[16  9  3  7  1  1 13  4 19 11 13  2 19 18 11 18 11 10 17  4 16  8 14  8\n",
      " 13 14  2 11  6 11  9  9  4  9  9  2 11  4 13 10 12  6 19  4 15 17  7  7\n",
      "  8  1]\n",
      "El primer elemento es: 16\n",
      "Los elementos en posiciones impares son: [ 9  7  1  4 11  2 18 18 10  4  8  8 14 11 11  9  9  2  4 10  6  4 17  7\n",
      "  1]\n",
      "Los primeros cuatro elementos son: [16  9  3  7]\n",
      "Los últimos tres elementos son: [7 8 1]\n",
      "Los elementos entre el 4 y el 8 (incluido): [ 1  1 13  4 19]\n"
     ]
    }
   ],
   "source": [
    "mi_array = np.random.randint(1, 20, 50)\n",
    "print(mi_array)\n",
    "print(f\"El primer elemento es: {mi_array[0]}\")\n",
    "print(f\"Los elementos en posiciones impares son: {mi_array[1::2]}\")\n",
    "print(f\"Los primeros cuatro elementos son: {mi_array[0:4]}\")\n",
    "print(f\"Los últimos tres elementos son: {mi_array[47:50]}\")\n",
    "print(f\"Los elementos entre el 4 y el 8 (incluido): {mi_array[4:9]}\")\n"
   ]
  },
  {
   "cell_type": "markdown",
   "metadata": {},
   "source": [
    "2. Crea un *array* de dos dimensiones de 4 x 5 con el método que prefieras y extrae:\n",
    "\n",
    "    - La primera fila y todas las columnas.\n",
    "\n",
    "\n",
    "    - Todas las filas pares.\n",
    "\n",
    "\n",
    "    - La primera columna y todas las filas.\n"
   ]
  },
  {
   "cell_type": "code",
   "execution_count": 5,
   "metadata": {},
   "outputs": [
    {
     "name": "stdout",
     "output_type": "stream",
     "text": [
      "[[0.43526575 0.46993312 0.37753844 0.2075257  0.97270582]\n",
      " [0.65426473 0.55575911 0.34965555 0.0573457  0.97112023]\n",
      " [0.96537666 0.03350153 0.28947496 0.61406477 0.02929238]\n",
      " [0.8189965  0.9931804  0.03301425 0.97520014 0.9065869 ]]\n",
      "La primera fila y todas las columnas [0.43526575 0.46993312 0.37753844 0.2075257  0.97270582]\n",
      "Todas las filas pares [[0.65426473 0.55575911 0.34965555 0.0573457  0.97112023]\n",
      " [0.8189965  0.9931804  0.03301425 0.97520014 0.9065869 ]]\n",
      "La primera columna y todas las filas: [0.43526575 0.65426473 0.96537666 0.8189965 ]\n"
     ]
    }
   ],
   "source": [
    "bidimensional = np.random.rand(4, 5)\n",
    "print(bidimensional)\n",
    "\n",
    "print(f\"La primera fila y todas las columnas {bidimensional[0, : ]}\")\n",
    "print(f\"Todas las filas pares {bidimensional[1::2, :]}\")\n",
    "print(f\"La primera columna y todas las filas: {bidimensional[:,0]}\")"
   ]
  },
  {
   "cell_type": "markdown",
   "metadata": {},
   "source": [
    "FILTRADO Y OPERACIONES ARITMÉTICAS"
   ]
  },
  {
   "cell_type": "markdown",
   "metadata": {},
   "source": [
    "# Ejercicios\n",
    "\n",
    "\n",
    "1. Crea un *array* bidimensional con 20 elementos aleatrorios entre 0 y 50 con el método que prefieras y: \n",
    "\n",
    "    - Crea una mascara o filtro donde los valores mayores a 30 y menores a 10 se reemplace por \"objetivo\" y el resto por \"no es mi objetivo\".\n",
    "\n",
    "\n",
    "    - Los valores de mi array bidimensional multiplicalos por el escalar 10."
   ]
  },
  {
   "cell_type": "code",
   "execution_count": 6,
   "metadata": {},
   "outputs": [
    {
     "name": "stdout",
     "output_type": "stream",
     "text": [
      "[[37 26 20 18  7]\n",
      " [ 1 35  3 23 18]\n",
      " [ 6 20 44  8  2]\n",
      " [34 41  1 12 19]]\n",
      "[['objetivo' 'no es mi objetivo' 'no es mi objetivo' 'no es mi objetivo'\n",
      "  'objetivo']\n",
      " ['objetivo' 'objetivo' 'objetivo' 'no es mi objetivo'\n",
      "  'no es mi objetivo']\n",
      " ['objetivo' 'no es mi objetivo' 'objetivo' 'objetivo' 'objetivo']\n",
      " ['objetivo' 'objetivo' 'objetivo' 'no es mi objetivo'\n",
      "  'no es mi objetivo']]\n"
     ]
    }
   ],
   "source": [
    "mi_array = np.random.randint(0, 51, (4,5))\n",
    "print(mi_array)\n",
    "resultados_filtrados = np.where((mi_array > 30) | (mi_array < 10), \"objetivo\", \"no es mi objetivo\")\n",
    "print(resultados_filtrados)"
   ]
  },
  {
   "cell_type": "code",
   "execution_count": 7,
   "metadata": {},
   "outputs": [
    {
     "name": "stdout",
     "output_type": "stream",
     "text": [
      "[[37 26 20 18  7]\n",
      " [ 1 35  3 23 18]\n",
      " [ 6 20 44  8  2]\n",
      " [34 41  1 12 19]]\n",
      "El resultado de multiplicar el array por el escalar 10 es:\n",
      "[[370 260 200 180  70]\n",
      " [ 10 350  30 230 180]\n",
      " [ 60 200 440  80  20]\n",
      " [340 410  10 120 190]]\n"
     ]
    }
   ],
   "source": [
    "print(mi_array)\n",
    "resultado = 10*mi_array\n",
    "print(f\"El resultado de multiplicar el array por el escalar 10 es:\\n{resultado}\")"
   ]
  },
  {
   "cell_type": "code",
   "execution_count": 11,
   "metadata": {},
   "outputs": [
    {
     "name": "stdout",
     "output_type": "stream",
     "text": [
      "[[49 47  4 17 13]\n",
      " [23 13 28  5 46]\n",
      " [10 21 48 16 14]\n",
      " [27  0  1  7 34]]\n",
      "(array([0, 0, 0, 1, 1, 2, 3, 3, 3, 3]), array([0, 1, 2, 3, 4, 2, 1, 2, 3, 4]))\n"
     ]
    }
   ],
   "source": [
    "mi_array = np.random.randint(0, 51, (4,5))\n",
    "print(mi_array)\n",
    "resultados_filtrados = np.where((mi_array > 30) | (mi_array < 10))\n",
    "print(resultados_filtrados)"
   ]
  },
  {
   "cell_type": "markdown",
   "metadata": {},
   "source": [
    "\n",
    "2. Crea un nuevo *array* de dos dimensiones con la misma forma que el anterior y con el método que prefieras y realiz lo siguiente:\n",
    "\n",
    "    - Suma el primer array con el segundo.\n",
    "\n",
    "\n",
    "    - Aplicar la potencia para el primer array elevado al segundo.\n"
   ]
  },
  {
   "cell_type": "code",
   "execution_count": 8,
   "metadata": {},
   "outputs": [
    {
     "name": "stdout",
     "output_type": "stream",
     "text": [
      "mi_array\n",
      " [[ 5 26 45 49 19]\n",
      " [35  7 23  3 17]\n",
      " [46 45 32 23  6]\n",
      " [ 9 21 33  4 35]]\n",
      "array2\n",
      " [[16 16  0 26 37]\n",
      " [23 39 45 12 36]\n",
      " [40 36 49  2 11]\n",
      " [ 7 21 43 18 36]]\n",
      "suma\n",
      " [[21 42 45 75 56]\n",
      " [58 46 68 15 53]\n",
      " [86 81 81 25 17]\n",
      " [16 42 76 22 71]]\n",
      "resta\n",
      " [[-11  10  45  23 -18]\n",
      " [ 12 -32 -22  -9 -19]\n",
      " [  6   9 -17  21  -5]\n",
      " [  2   0 -10 -14  -1]]\n",
      "multiplicacion\n",
      " [[  80  416    0 1274  703]\n",
      " [ 805  273 1035   36  612]\n",
      " [1840 1620 1568   46   66]\n",
      " [  63  441 1419   72 1260]]\n",
      "division\n",
      " [[ 0.3125      1.625              inf  1.88461538  0.51351351]\n",
      " [ 1.52173913  0.17948718  0.51111111  0.25        0.47222222]\n",
      " [ 1.15        1.25        0.65306122 11.5         0.54545455]\n",
      " [ 1.28571429  1.          0.76744186  0.22222222  0.97222222]]\n",
      "potencia\n",
      " [[-2030932031   608239616           1  1798631905 -1570507325]\n",
      " [-1049539541   593264119  2112869559      531441 -2116437951]\n",
      " [          0   124749457           0         529   362797056]\n",
      " [    4782969   878082373    88645985           0   169252945]]\n",
      "El primer array elevado al segundo es\n",
      "[[-2030932031   608239616           1  1798631905 -1570507325]\n",
      " [-1049539541   593264119  2112869559      531441 -2116437951]\n",
      " [          0   124749457           0         529   362797056]\n",
      " [    4782969   878082373    88645985           0   169252945]]\n"
     ]
    },
    {
     "name": "stderr",
     "output_type": "stream",
     "text": [
      "C:\\Users\\anabo\\AppData\\Local\\Temp\\ipykernel_33932\\821949242.py:16: RuntimeWarning: divide by zero encountered in divide\n",
      "  division = np.divide(mi_array, array2)\n"
     ]
    }
   ],
   "source": [
    "mi_array = np.random.randint(0, 51, (4,5))\n",
    "print(\"mi_array\\n\", mi_array)\n",
    "\n",
    "array2 = np.random.randint(0, 51, (4, 5))\n",
    "print(\"array2\\n\", array2)\n",
    "\n",
    "suma = np.add(mi_array, array2)\n",
    "print(\"suma\\n\", suma)\n",
    "\n",
    "resta = np.subtract(mi_array, array2)\n",
    "print(\"resta\\n\", resta)\n",
    "\n",
    "multiplicacion = np.multiply(mi_array, array2)\n",
    "print(\"multiplicacion\\n\", multiplicacion)\n",
    "\n",
    "division = np.divide(mi_array, array2)\n",
    "print(\"division\\n\", division)\n",
    "\n",
    "potencia = np.power(mi_array, array2)\n",
    "print(\"potencia\\n\", potencia)\n",
    "\n",
    "print(f\"El primer array elevado al segundo es\\n{potencia}\")\n"
   ]
  },
  {
   "cell_type": "markdown",
   "metadata": {},
   "source": [
    "FUNCIONES"
   ]
  },
  {
   "cell_type": "markdown",
   "metadata": {},
   "source": [
    "\n",
    "1. En este ejercicio vamos a tratar de usar algunos de los métodos aprendidos. \n",
    "\n",
    "    - Crea un *array*, puede ser bidimensional! Eso si, los valores tienen que estar entre 0-100\n",
    "\n",
    "    - Calcula: \n",
    "\n",
    "        - La media de los elementos\n",
    "        - La media de las columnas y redondéalo a dos decimales\n",
    "        - El valor máximo de cada fila\n",
    "        - El valor mínimo de cada fila\n",
    "        - Hay algun valor que sea mayor que 90 en tu *array* \n",
    "        - Donde los podemos encontrar, cuáles son sus índices\n",
    "        - Ordena el *array* de mayor a menor\n",
    "\n",
    "    📝 **NOTA** En este ejercicio os hemos pedido algunos de los métodos, pero sentiros libres de practicar otros para ir asentando los conocimientos. "
   ]
  },
  {
   "cell_type": "code",
   "execution_count": 9,
   "metadata": {},
   "outputs": [
    {
     "name": "stdout",
     "output_type": "stream",
     "text": [
      "[[87 67]\n",
      " [65 30]\n",
      " [11 92]]\n"
     ]
    }
   ],
   "source": [
    "array = np.random.randint(5,101, (3,2))\n",
    "print(array)"
   ]
  },
  {
   "cell_type": "code",
   "execution_count": 10,
   "metadata": {},
   "outputs": [
    {
     "name": "stdout",
     "output_type": "stream",
     "text": [
      "La media de los elementos es 58.666666666666664\n",
      "La media de las columnas es [54.33333333 63.        ]\n",
      "La media redondeada de las columnas es [54.33 63.  ]\n",
      "El valor máximo de cada fila es [87 65 92]\n",
      "El valor minimo de cada fila es [67 30 11]\n",
      "Los elementos mayores de 90 están en (array([2]), array([1]))\n",
      "El array ordenado de mayor a menor es\n",
      "[[87 67]\n",
      " [65 30]\n",
      " [92 11]]\n"
     ]
    }
   ],
   "source": [
    "media = np.mean(array)\n",
    "print(f\"La media de los elementos es {media}\")\n",
    "\n",
    "media_c = np.mean(array, axis = 0)\n",
    "print(f\"La media de las columnas es {media_c}\")\n",
    "\n",
    "redondeado = np.round(media_c, 2)\n",
    "print(f\"La media redondeada de las columnas es {redondeado}\")\n",
    "\n",
    "print(f\"El valor máximo de cada fila es {np.max(array, axis = 1)}\")\n",
    "\n",
    "print(f\"El valor minimo de cada fila es {np.min(array, axis = 1)}\")\n",
    "\n",
    "mayor_de_90 = np.where(array > 90)\n",
    "\n",
    "print(f\"Los elementos mayores de 90 están en {mayor_de_90}\")\n",
    "\n",
    "array_mayor_a_menor = -(np.sort(-array))\n",
    "\n",
    "print(f\"El array ordenado de mayor a menor es\\n{array_mayor_a_menor}\")\n",
    "      \n",
    "\n",
    "\n",
    "\n"
   ]
  }
 ],
 "metadata": {
  "kernelspec": {
   "display_name": "Python 3",
   "language": "python",
   "name": "python3"
  },
  "language_info": {
   "codemirror_mode": {
    "name": "ipython",
    "version": 3
   },
   "file_extension": ".py",
   "mimetype": "text/x-python",
   "name": "python",
   "nbconvert_exporter": "python",
   "pygments_lexer": "ipython3",
   "version": "3.12.4"
  }
 },
 "nbformat": 4,
 "nbformat_minor": 2
}
