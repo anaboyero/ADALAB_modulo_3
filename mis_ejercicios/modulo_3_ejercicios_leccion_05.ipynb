{
 "cells": [
  {
   "cell_type": "markdown",
   "metadata": {},
   "source": [
    "# Ejercicios\n",
    "\n",
    "En estos usaremos el conjunto de datos que guardamos ayer en los ejercicios de la clase invertida. Los ejercicios que os planteamos hoy son: "
   ]
  },
  {
   "cell_type": "code",
   "execution_count": 179,
   "metadata": {},
   "outputs": [],
   "source": [
    "# Tratamiento de datos\n",
    "# -----------------------------------------------------------------------\n",
    "import pandas as pd\n",
    "import numpy as np\n",
    "\n",
    "# Configuraciones\n",
    "# -----------------------------------------------------------------------\n",
    "pd.set_option('display.max_columns', None)\n",
    "pd.set_option('display.max_colwidth', None)"
   ]
  },
  {
   "cell_type": "code",
   "execution_count": 181,
   "metadata": {},
   "outputs": [
    {
     "data": {
      "text/html": [
       "<div>\n",
       "<style scoped>\n",
       "    .dataframe tbody tr th:only-of-type {\n",
       "        vertical-align: middle;\n",
       "    }\n",
       "\n",
       "    .dataframe tbody tr th {\n",
       "        vertical-align: top;\n",
       "    }\n",
       "\n",
       "    .dataframe thead th {\n",
       "        text-align: right;\n",
       "    }\n",
       "</style>\n",
       "<table border=\"1\" class=\"dataframe\">\n",
       "  <thead>\n",
       "    <tr style=\"text-align: right;\">\n",
       "      <th></th>\n",
       "      <th>title</th>\n",
       "      <th>title_orig</th>\n",
       "      <th>price</th>\n",
       "      <th>retail_price</th>\n",
       "      <th>units_sold</th>\n",
       "      <th>uses_ad_boosts</th>\n",
       "      <th>rating_x</th>\n",
       "      <th>rating_count</th>\n",
       "      <th>rating_five_count</th>\n",
       "      <th>rating_four_count</th>\n",
       "      <th>rating_three_count</th>\n",
       "      <th>rating_two_count</th>\n",
       "      <th>rating_one_count</th>\n",
       "      <th>badge_local_product</th>\n",
       "      <th>badge_product_quality</th>\n",
       "      <th>badge_fast_shipping</th>\n",
       "      <th>tags</th>\n",
       "      <th>product_color</th>\n",
       "      <th>product_variation_size_id</th>\n",
       "      <th>shipping_option_name</th>\n",
       "      <th>shipping_option_price</th>\n",
       "      <th>shipping_is_express</th>\n",
       "      <th>countries_shipped_to</th>\n",
       "      <th>inventory_total</th>\n",
       "      <th>origin_country</th>\n",
       "      <th>merchant_name</th>\n",
       "      <th>merchant_info_subtitle</th>\n",
       "      <th>merchant_rating_count</th>\n",
       "      <th>merchant_rating</th>\n",
       "      <th>merchant_id</th>\n",
       "      <th>product_url</th>\n",
       "      <th>product_id</th>\n",
       "      <th>listed_products</th>\n",
       "      <th>total_units_sold</th>\n",
       "      <th>mean_units_sold_per_product</th>\n",
       "      <th>rating_y</th>\n",
       "      <th>merchant_ratings_count</th>\n",
       "      <th>mean_product_prices</th>\n",
       "      <th>mean_retail_prices</th>\n",
       "      <th>average_discount</th>\n",
       "      <th>mean_discount</th>\n",
       "      <th>mean_product_ratings_count</th>\n",
       "    </tr>\n",
       "  </thead>\n",
       "  <tbody>\n",
       "    <tr>\n",
       "      <th>0</th>\n",
       "      <td>2020 Summer Vintage Flamingo Print  Pajamas Set Casual Loose T Shirt Top And Elastic Shorts Women Sleepwear Night Wear Loungewear Sets</td>\n",
       "      <td>2020 Summer Vintage Flamingo Print  Pajamas Set Casual Loose T Shirt Top And Elastic Shorts Women Sleepwear Night Wear Loungewear Sets</td>\n",
       "      <td>16.0</td>\n",
       "      <td>14</td>\n",
       "      <td>100</td>\n",
       "      <td>0</td>\n",
       "      <td>3.76</td>\n",
       "      <td>54</td>\n",
       "      <td>26.0</td>\n",
       "      <td>8.0</td>\n",
       "      <td>10.0</td>\n",
       "      <td>1.0</td>\n",
       "      <td>9.0</td>\n",
       "      <td>0</td>\n",
       "      <td>0</td>\n",
       "      <td>0</td>\n",
       "      <td>Summer,Fashion,womenunderwearsuit,printedpajamasset,womencasualshort,Women's Fashion,flamingo,loungewearset,Casual,Shirt,casualsleepwear,Shorts,flamingotshirt,Elastic,Vintage,Tops,tshirtandshortsset,Women,Sleepwear,Print,womenpajamasset,womennightwear,Pajamas,womensleepwearset</td>\n",
       "      <td>white</td>\n",
       "      <td>M</td>\n",
       "      <td>Livraison standard</td>\n",
       "      <td>4</td>\n",
       "      <td>0</td>\n",
       "      <td>34</td>\n",
       "      <td>50</td>\n",
       "      <td>CN</td>\n",
       "      <td>zgrdejia</td>\n",
       "      <td>np.nan</td>\n",
       "      <td>568</td>\n",
       "      <td>4.128521</td>\n",
       "      <td>595097d6a26f6e070cb878d1</td>\n",
       "      <td>https://www.wish.com/c/5e9ae51d43d6a96e303acdb0</td>\n",
       "      <td>5e9ae51d43d6a96e303acdb0</td>\n",
       "      <td>1</td>\n",
       "      <td>100</td>\n",
       "      <td>100.0</td>\n",
       "      <td>4.129</td>\n",
       "      <td>568.0</td>\n",
       "      <td>16.0</td>\n",
       "      <td>14.0</td>\n",
       "      <td>-14.0</td>\n",
       "      <td>-14.0</td>\n",
       "      <td>54.0</td>\n",
       "    </tr>\n",
       "  </tbody>\n",
       "</table>\n",
       "</div>"
      ],
      "text/plain": [
       "                                                                                                                                    title  \\\n",
       "0  2020 Summer Vintage Flamingo Print  Pajamas Set Casual Loose T Shirt Top And Elastic Shorts Women Sleepwear Night Wear Loungewear Sets   \n",
       "\n",
       "                                                                                                                               title_orig  \\\n",
       "0  2020 Summer Vintage Flamingo Print  Pajamas Set Casual Loose T Shirt Top And Elastic Shorts Women Sleepwear Night Wear Loungewear Sets   \n",
       "\n",
       "   price  retail_price  units_sold  uses_ad_boosts  rating_x  rating_count  \\\n",
       "0   16.0            14         100               0      3.76            54   \n",
       "\n",
       "   rating_five_count  rating_four_count  rating_three_count  rating_two_count  \\\n",
       "0               26.0                8.0                10.0               1.0   \n",
       "\n",
       "   rating_one_count  badge_local_product  badge_product_quality  \\\n",
       "0               9.0                    0                      0   \n",
       "\n",
       "   badge_fast_shipping  \\\n",
       "0                    0   \n",
       "\n",
       "                                                                                                                                                                                                                                                                                    tags  \\\n",
       "0  Summer,Fashion,womenunderwearsuit,printedpajamasset,womencasualshort,Women's Fashion,flamingo,loungewearset,Casual,Shirt,casualsleepwear,Shorts,flamingotshirt,Elastic,Vintage,Tops,tshirtandshortsset,Women,Sleepwear,Print,womenpajamasset,womennightwear,Pajamas,womensleepwearset   \n",
       "\n",
       "  product_color product_variation_size_id shipping_option_name  \\\n",
       "0         white                         M   Livraison standard   \n",
       "\n",
       "   shipping_option_price  shipping_is_express  countries_shipped_to  \\\n",
       "0                      4                    0                    34   \n",
       "\n",
       "   inventory_total origin_country merchant_name merchant_info_subtitle  \\\n",
       "0               50             CN      zgrdejia                 np.nan   \n",
       "\n",
       "   merchant_rating_count  merchant_rating               merchant_id  \\\n",
       "0                    568         4.128521  595097d6a26f6e070cb878d1   \n",
       "\n",
       "                                       product_url                product_id  \\\n",
       "0  https://www.wish.com/c/5e9ae51d43d6a96e303acdb0  5e9ae51d43d6a96e303acdb0   \n",
       "\n",
       "   listed_products  total_units_sold  mean_units_sold_per_product  rating_y  \\\n",
       "0                1               100                        100.0     4.129   \n",
       "\n",
       "   merchant_ratings_count  mean_product_prices  mean_retail_prices  \\\n",
       "0                   568.0                 16.0                14.0   \n",
       "\n",
       "   average_discount  mean_discount  mean_product_ratings_count  \n",
       "0             -14.0          -14.0                        54.0  "
      ]
     },
     "execution_count": 181,
     "metadata": {},
     "output_type": "execute_result"
    }
   ],
   "source": [
    "df = pd.read_csv('rating_performance_insight.csv', index_col=0)\n",
    "df.head(1)"
   ]
  },
  {
   "cell_type": "markdown",
   "metadata": {},
   "source": [
    "1. Total de unidades vendidas por país de origen del vendedor. Debéis agrupar los datos según el país de origen del vendedor y calcular el total de unidades vendidas para cada país. Esto nos dará una idea de qué países tienen una mayor participación en las ventas totales y cuáles tienen menos. Devuelve los resultados en un DataFrame ordenados de mayor a menor en función de la cantidad de unidades vendidas. "
   ]
  },
  {
   "cell_type": "code",
   "execution_count": 182,
   "metadata": {},
   "outputs": [
    {
     "data": {
      "text/html": [
       "<div>\n",
       "<style scoped>\n",
       "    .dataframe tbody tr th:only-of-type {\n",
       "        vertical-align: middle;\n",
       "    }\n",
       "\n",
       "    .dataframe tbody tr th {\n",
       "        vertical-align: top;\n",
       "    }\n",
       "\n",
       "    .dataframe thead th {\n",
       "        text-align: right;\n",
       "    }\n",
       "</style>\n",
       "<table border=\"1\" class=\"dataframe\">\n",
       "  <thead>\n",
       "    <tr style=\"text-align: right;\">\n",
       "      <th></th>\n",
       "      <th>origin_country</th>\n",
       "      <th>units_sold</th>\n",
       "    </tr>\n",
       "  </thead>\n",
       "  <tbody>\n",
       "    <tr>\n",
       "      <th>1</th>\n",
       "      <td>CN</td>\n",
       "      <td>6651245</td>\n",
       "    </tr>\n",
       "    <tr>\n",
       "      <th>4</th>\n",
       "      <td>US</td>\n",
       "      <td>43560</td>\n",
       "    </tr>\n",
       "    <tr>\n",
       "      <th>3</th>\n",
       "      <td>SG</td>\n",
       "      <td>20100</td>\n",
       "    </tr>\n",
       "    <tr>\n",
       "      <th>2</th>\n",
       "      <td>GB</td>\n",
       "      <td>1000</td>\n",
       "    </tr>\n",
       "    <tr>\n",
       "      <th>5</th>\n",
       "      <td>VE</td>\n",
       "      <td>350</td>\n",
       "    </tr>\n",
       "    <tr>\n",
       "      <th>0</th>\n",
       "      <td>AT</td>\n",
       "      <td>100</td>\n",
       "    </tr>\n",
       "  </tbody>\n",
       "</table>\n",
       "</div>"
      ],
      "text/plain": [
       "  origin_country  units_sold\n",
       "1             CN     6651245\n",
       "4             US       43560\n",
       "3             SG       20100\n",
       "2             GB        1000\n",
       "5             VE         350\n",
       "0             AT         100"
      ]
     },
     "execution_count": 182,
     "metadata": {},
     "output_type": "execute_result"
    }
   ],
   "source": [
    "# Agruparemos por 'origin_country'\n",
    "\n",
    "df.groupby(by='origin_country')\n",
    "\n",
    "# Calculamos el total de unidades vendidas para cada país de origen y lo convertimos en DF\n",
    "\n",
    "ventas_por_pais_origen = df.groupby(by='origin_country')['units_sold'].sum().reset_index()\n",
    "\n",
    "ventas_por_pais_origen.sort_values(by='units_sold', ascending=False)\n",
    "\n",
    "# Para devolver los resultados ordenados utilizo el método df.sort_values(by='nombre_columna', ascending=True)"
   ]
  },
  {
   "cell_type": "markdown",
   "metadata": {},
   "source": [
    "2. Estadísticas de precio por país de envío. Vamos a explorar el precio promedio y el precio máximo de los productos según el país al que se envían. Al hacer esto, podremos entender cómo varían los precios según el destino del envío y si hay alguna tendencia interesante que valga la pena analizar.  Devuelve los resultados en un DataFrame. "
   ]
  },
  {
   "cell_type": "code",
   "execution_count": 183,
   "metadata": {},
   "outputs": [
    {
     "data": {
      "text/html": [
       "<div>\n",
       "<style scoped>\n",
       "    .dataframe tbody tr th:only-of-type {\n",
       "        vertical-align: middle;\n",
       "    }\n",
       "\n",
       "    .dataframe tbody tr th {\n",
       "        vertical-align: top;\n",
       "    }\n",
       "\n",
       "    .dataframe thead th {\n",
       "        text-align: right;\n",
       "    }\n",
       "</style>\n",
       "<table border=\"1\" class=\"dataframe\">\n",
       "  <thead>\n",
       "    <tr style=\"text-align: right;\">\n",
       "      <th></th>\n",
       "      <th>mean</th>\n",
       "      <th>max</th>\n",
       "    </tr>\n",
       "    <tr>\n",
       "      <th>countries_shipped_to</th>\n",
       "      <th></th>\n",
       "      <th></th>\n",
       "    </tr>\n",
       "  </thead>\n",
       "  <tbody>\n",
       "    <tr>\n",
       "      <th>82</th>\n",
       "      <td>18.000000</td>\n",
       "      <td>18.00</td>\n",
       "    </tr>\n",
       "    <tr>\n",
       "      <th>80</th>\n",
       "      <td>13.200000</td>\n",
       "      <td>22.00</td>\n",
       "    </tr>\n",
       "    <tr>\n",
       "      <th>66</th>\n",
       "      <td>13.000000</td>\n",
       "      <td>13.00</td>\n",
       "    </tr>\n",
       "    <tr>\n",
       "      <th>12</th>\n",
       "      <td>12.500000</td>\n",
       "      <td>13.00</td>\n",
       "    </tr>\n",
       "    <tr>\n",
       "      <th>10</th>\n",
       "      <td>12.111429</td>\n",
       "      <td>18.00</td>\n",
       "    </tr>\n",
       "    <tr>\n",
       "      <th>...</th>\n",
       "      <td>...</td>\n",
       "      <td>...</td>\n",
       "    </tr>\n",
       "    <tr>\n",
       "      <th>91</th>\n",
       "      <td>3.900000</td>\n",
       "      <td>3.90</td>\n",
       "    </tr>\n",
       "    <tr>\n",
       "      <th>67</th>\n",
       "      <td>3.870000</td>\n",
       "      <td>3.87</td>\n",
       "    </tr>\n",
       "    <tr>\n",
       "      <th>118</th>\n",
       "      <td>3.830000</td>\n",
       "      <td>5.79</td>\n",
       "    </tr>\n",
       "    <tr>\n",
       "      <th>111</th>\n",
       "      <td>3.670000</td>\n",
       "      <td>3.67</td>\n",
       "    </tr>\n",
       "    <tr>\n",
       "      <th>90</th>\n",
       "      <td>3.506667</td>\n",
       "      <td>3.76</td>\n",
       "    </tr>\n",
       "  </tbody>\n",
       "</table>\n",
       "<p>94 rows × 2 columns</p>\n",
       "</div>"
      ],
      "text/plain": [
       "                           mean    max\n",
       "countries_shipped_to                  \n",
       "82                    18.000000  18.00\n",
       "80                    13.200000  22.00\n",
       "66                    13.000000  13.00\n",
       "12                    12.500000  13.00\n",
       "10                    12.111429  18.00\n",
       "...                         ...    ...\n",
       "91                     3.900000   3.90\n",
       "67                     3.870000   3.87\n",
       "118                    3.830000   5.79\n",
       "111                    3.670000   3.67\n",
       "90                     3.506667   3.76\n",
       "\n",
       "[94 rows x 2 columns]"
      ]
     },
     "execution_count": 183,
     "metadata": {},
     "output_type": "execute_result"
    }
   ],
   "source": [
    "agrupados_por_destino = df.groupby(by='countries_shipped_to')['price'].agg(['mean','max'])\n",
    "agrupados_por_destino = agrupados_por_destino.sort_values('mean', ascending=False)\n",
    "\n",
    "agrupados_por_destino\n",
    "\n",
    "# Los pedidos que se dirigen al país de código 82 tienen una media superior al resto."
   ]
  },
  {
   "cell_type": "markdown",
   "metadata": {},
   "source": [
    "3. Conteo de productos con y sin distintivo de producto local. Vamos a clasificar los productos según si tienen o no un distintivo de producto local. Luego, calcularemos el conteo de productos en cada categoría para comprender cuántos productos tienen este distintivo y cuántos no. Esto puede proporcionarnos información sobre cómo se promocionan los productos con esta característica. Devuelve los resultados en un DataFrame. "
   ]
  },
  {
   "cell_type": "code",
   "execution_count": 184,
   "metadata": {},
   "outputs": [
    {
     "data": {
      "text/html": [
       "<div>\n",
       "<style scoped>\n",
       "    .dataframe tbody tr th:only-of-type {\n",
       "        vertical-align: middle;\n",
       "    }\n",
       "\n",
       "    .dataframe tbody tr th {\n",
       "        vertical-align: top;\n",
       "    }\n",
       "\n",
       "    .dataframe thead th {\n",
       "        text-align: right;\n",
       "    }\n",
       "</style>\n",
       "<table border=\"1\" class=\"dataframe\">\n",
       "  <thead>\n",
       "    <tr style=\"text-align: right;\">\n",
       "      <th></th>\n",
       "      <th>badge_local_product</th>\n",
       "      <th>product_id</th>\n",
       "    </tr>\n",
       "  </thead>\n",
       "  <tbody>\n",
       "    <tr>\n",
       "      <th>0</th>\n",
       "      <td>0</td>\n",
       "      <td>1544</td>\n",
       "    </tr>\n",
       "    <tr>\n",
       "      <th>1</th>\n",
       "      <td>1</td>\n",
       "      <td>29</td>\n",
       "    </tr>\n",
       "  </tbody>\n",
       "</table>\n",
       "</div>"
      ],
      "text/plain": [
       "   badge_local_product  product_id\n",
       "0                    0        1544\n",
       "1                    1          29"
      ]
     },
     "execution_count": 184,
     "metadata": {},
     "output_type": "execute_result"
    }
   ],
   "source": [
    "df_locales = df.groupby('badge_local_product')['product_id'].count().reset_index()\n",
    "df_locales\n",
    "\n",
    "# Solo 29 de 1544 se promocionan como producto local."
   ]
  },
  {
   "cell_type": "markdown",
   "metadata": {},
   "source": [
    "4. Promedio de unidades vendidas por tipo de envío. Nuestro objetivo es analizar cómo se correlaciona el tipo de envío (columna `shipping_option_name` ) con las unidades vendidas. Vamos a calcular el promedio de unidades vendidas para cada tipo de opción de envío. Esto podría ayudarnos a determinar si ciertos métodos de envío están relacionados con un mayor o menor rendimiento en las ventas. Devuelve los resultados en un DataFrame.  ¿Qué conclusiones puedes sacar de este resultado?"
   ]
  },
  {
   "cell_type": "code",
   "execution_count": 185,
   "metadata": {},
   "outputs": [
    {
     "data": {
      "text/plain": [
       "0.9685652770482568"
      ]
     },
     "execution_count": 185,
     "metadata": {},
     "output_type": "execute_result"
    }
   ],
   "source": [
    "6610705 / 6825255"
   ]
  },
  {
   "cell_type": "code",
   "execution_count": 186,
   "metadata": {},
   "outputs": [
    {
     "name": "stdout",
     "output_type": "stream",
     "text": [
      "El 96.86 % de las ventas se hacen con Livraison standard\n"
     ]
    }
   ],
   "source": [
    "# Calculamos el total de ventas y el total de ventas por tipo de envío\n",
    "\n",
    "total_ventas = df['units_sold'].sum()       # El total es 6 825 255 ventas \n",
    "total_ventas\n",
    "\n",
    "# Agrupamos por tipo de envío\n",
    "\n",
    "df_total_ventas_por_envio = df.groupby('shipping_option_name')['units_sold'].sum().reset_index()\n",
    "\n",
    "# Ordenamos de más a menos ventas. \n",
    "\n",
    "df_total_ventas_por_envio = df_total_ventas_por_envio.sort_values(by='units_sold', ascending=False)\n",
    "\n",
    "df_total_ventas_por_envio\n",
    "\n",
    "ventas_LS = df_total_ventas_por_envio.loc[5, 'units_sold'] # Resultado: 6610705\n",
    "\n",
    "# Calculamos qué porcentaje del total de ventas suponen las ventas hechas a través de Livraison standard\n",
    "\n",
    "porcentaje_ventas_LS = np.round(100*(ventas_LS/total_ventas), 2)\n",
    "\n",
    "print(f\"El {porcentaje_ventas_LS} % de las ventas se hacen con Livraison standard\")"
   ]
  },
  {
   "cell_type": "code",
   "execution_count": 187,
   "metadata": {},
   "outputs": [
    {
     "data": {
      "text/html": [
       "<div>\n",
       "<style scoped>\n",
       "    .dataframe tbody tr th:only-of-type {\n",
       "        vertical-align: middle;\n",
       "    }\n",
       "\n",
       "    .dataframe tbody tr th {\n",
       "        vertical-align: top;\n",
       "    }\n",
       "\n",
       "    .dataframe thead th {\n",
       "        text-align: right;\n",
       "    }\n",
       "</style>\n",
       "<table border=\"1\" class=\"dataframe\">\n",
       "  <thead>\n",
       "    <tr style=\"text-align: right;\">\n",
       "      <th></th>\n",
       "      <th>shipping_option_name</th>\n",
       "      <th>units_sold</th>\n",
       "    </tr>\n",
       "  </thead>\n",
       "  <tbody>\n",
       "    <tr>\n",
       "      <th>5</th>\n",
       "      <td>Livraison standard</td>\n",
       "      <td>6610705</td>\n",
       "    </tr>\n",
       "    <tr>\n",
       "      <th>7</th>\n",
       "      <td>Standard Shipping</td>\n",
       "      <td>88550</td>\n",
       "    </tr>\n",
       "    <tr>\n",
       "      <th>8</th>\n",
       "      <td>Standardowa wysyłka</td>\n",
       "      <td>30100</td>\n",
       "    </tr>\n",
       "    <tr>\n",
       "      <th>1</th>\n",
       "      <td>Envio Padrão</td>\n",
       "      <td>22400</td>\n",
       "    </tr>\n",
       "    <tr>\n",
       "      <th>2</th>\n",
       "      <td>Envío normal</td>\n",
       "      <td>16100</td>\n",
       "    </tr>\n",
       "    <tr>\n",
       "      <th>10</th>\n",
       "      <td>Standart Gönderi</td>\n",
       "      <td>11000</td>\n",
       "    </tr>\n",
       "    <tr>\n",
       "      <th>11</th>\n",
       "      <td>Стандартная доставка</td>\n",
       "      <td>10100</td>\n",
       "    </tr>\n",
       "    <tr>\n",
       "      <th>14</th>\n",
       "      <td>ការដឹកជញ្ជូនតាមស្តង់ដារ</td>\n",
       "      <td>10000</td>\n",
       "    </tr>\n",
       "    <tr>\n",
       "      <th>13</th>\n",
       "      <td>การส่งสินค้ามาตรฐาน</td>\n",
       "      <td>10000</td>\n",
       "    </tr>\n",
       "    <tr>\n",
       "      <th>0</th>\n",
       "      <td>Ekspresowa wysyłka</td>\n",
       "      <td>10000</td>\n",
       "    </tr>\n",
       "    <tr>\n",
       "      <th>3</th>\n",
       "      <td>Expediere Standard</td>\n",
       "      <td>2400</td>\n",
       "    </tr>\n",
       "    <tr>\n",
       "      <th>12</th>\n",
       "      <td>الشحن القياسي</td>\n",
       "      <td>1300</td>\n",
       "    </tr>\n",
       "    <tr>\n",
       "      <th>4</th>\n",
       "      <td>Livraison Express</td>\n",
       "      <td>1200</td>\n",
       "    </tr>\n",
       "    <tr>\n",
       "      <th>6</th>\n",
       "      <td>Spedizione standard</td>\n",
       "      <td>1100</td>\n",
       "    </tr>\n",
       "    <tr>\n",
       "      <th>9</th>\n",
       "      <td>Standardversand</td>\n",
       "      <td>300</td>\n",
       "    </tr>\n",
       "  </tbody>\n",
       "</table>\n",
       "</div>"
      ],
      "text/plain": [
       "       shipping_option_name  units_sold\n",
       "5        Livraison standard     6610705\n",
       "7         Standard Shipping       88550\n",
       "8       Standardowa wysyłka       30100\n",
       "1              Envio Padrão       22400\n",
       "2              Envío normal       16100\n",
       "10         Standart Gönderi       11000\n",
       "11     Стандартная доставка       10100\n",
       "14  ការដឹកជញ្ជូនតាមស្តង់ដារ       10000\n",
       "13      การส่งสินค้ามาตรฐาน       10000\n",
       "0        Ekspresowa wysyłka       10000\n",
       "3        Expediere Standard        2400\n",
       "12            الشحن القياسي        1300\n",
       "4         Livraison Express        1200\n",
       "6       Spedizione standard        1100\n",
       "9           Standardversand         300"
      ]
     },
     "execution_count": 187,
     "metadata": {},
     "output_type": "execute_result"
    }
   ],
   "source": [
    "# Calculamos el promedio de ventas totales y el promedio de ventas por tipo de envío\n",
    "\n",
    "promedio_ventas = df['units_sold'].mean() \n",
    "promedio_ventas_r= round(promedio_ventas, 2)   # Resultado: 4339.01\n",
    "\n",
    "# Agrupamos por tipo de envío\n",
    "\n",
    "df_promedio_ventas_por_envio = df.groupby('shipping_option_name')['units_sold'].mean().reset_index()\n",
    "\n",
    "# Ordenamos de más a menos ventas. \n",
    "\n",
    "df_total_ventas_por_envio = df_total_ventas_por_envio.sort_values(by='units_sold', ascending=False)\n",
    "\n",
    "df_total_ventas_por_envio"
   ]
  },
  {
   "cell_type": "markdown",
   "metadata": {},
   "source": [
    "5. Reemplazo de valores. A lo largo del DataFrame tenemos algunas columnas cuyos valores son cero y uno, lo que podría llevar a confusión en su interpretación. Estas columnas son: \n",
    "\n",
    "    - `uses_ad_boosts`: La cual indica si la plataforma de comercio electrónico ha utilizado o no la función de impulso de anuncios.  Si el valor de uses_ad_boosts es 1, indica que el vendedor ha invertido en publicidad adicional para resaltar el producto. Si el valor es 0, no ha sido promocionado a través de anuncios adicionales.\n",
    "\n",
    "    - `badge_local_product`: Indica que el producto se produce, fabrica o se envía desde la misma región o país en el que se realiza la transacción de compra. Si el valor es 1, significa que el producto tiene un distintivo que lo califica como un producto local. Si el valor es 0, indica que el producto no tiene este distintivo.\n",
    "\n",
    "    - `badge_product_quality`: Indica que el producto cumple con ciertos estándares de calidad, características o evaluaciones positivas por parte de los consumidores. Si el valor es 1, significa que el producto tiene un distintivo que lo califica como un producto de alta calidad. Si el valor es 0, indica que el producto no tiene este distintivo de calidad.\n",
    "\n",
    "    - `badge_fast_shipping`: Indica que el producto se enviará y entregará en un plazo más corto en comparación con otras opciones de envío estándar. Si el valor es 1, significa que el producto tiene un distintivo que indica un envío rápido. Si el valor es 0, indica que el producto no tiene este distintivo de envío rápido.\n",
    "\n",
    "    - `shipping_is_express`: Se refiere a si una opción de envío para un producto en una plataforma de comercio electrónico se considera como \"envío exprés\" o \"envío rápido\". Si el valor es 1, significa que la opción de envío asociada se considera como una entrega rápida o exprés. Si el valor es 0, indica que la opción de envío no se considera como envío exprés.\n",
    "\n",
    "    Todas estas columnas cumplen un patrón, y es que los 0 corresponden con 'No' y los 1 con 'Si'. Por esto, en este ejercicio deberéis reemplazar los 0: No y los 1: Si. "
   ]
  },
  {
   "cell_type": "code",
   "execution_count": 188,
   "metadata": {},
   "outputs": [
    {
     "data": {
      "text/plain": [
       "0       0\n",
       "1       1\n",
       "2       0\n",
       "3       1\n",
       "4       1\n",
       "       ..\n",
       "1568    1\n",
       "1569    1\n",
       "1570    0\n",
       "1571    0\n",
       "1572    1\n",
       "Name: uses_ad_boosts, Length: 1573, dtype: int64"
      ]
     },
     "execution_count": 188,
     "metadata": {},
     "output_type": "execute_result"
    }
   ],
   "source": [
    "df['uses_ad_boosts']"
   ]
  },
  {
   "cell_type": "code",
   "execution_count": 189,
   "metadata": {},
   "outputs": [],
   "source": [
    "# Voy a mapear las columnas del dataframe usando un diccionario\n",
    "\n",
    "dic_si_no = {0:\"No\", 1:\"Sí\"}\n",
    "\n",
    "lista_cols = ['uses_ad_boosts', 'badge_local_product', 'badge_product_quality', 'badge_fast_shipping', 'shipping_is_express']\n",
    "\n",
    "for col in lista_cols:\n",
    "    df[col] = df[col].map(dic_si_no)"
   ]
  },
  {
   "cell_type": "markdown",
   "metadata": {},
   "source": [
    "6. Calificación de la calidad del producto. Sobreescribe la columna `badge_product_quality`  utilizando `apply()` para asignar \"Buena\" a las filas donde 'badge_product_quality' sea \"No\" y \"Excelente\" donde sea \"Si\"."
   ]
  },
  {
   "cell_type": "code",
   "execution_count": 190,
   "metadata": {},
   "outputs": [
    {
     "data": {
      "text/plain": [
       "array(['No', 'Sí'], dtype=object)"
      ]
     },
     "execution_count": 190,
     "metadata": {},
     "output_type": "execute_result"
    }
   ],
   "source": [
    "# Primero nos aseguramos de que la columna df['badge_product_quality'] solo tiene valores Sí y No.\n",
    "\n",
    "df['badge_product_quality'].unique()"
   ]
  },
  {
   "cell_type": "code",
   "execution_count": 191,
   "metadata": {},
   "outputs": [],
   "source": [
    "# Personalizamos una función para catalogar la columna.\n",
    "\n",
    "def calidad (cadena):\n",
    "    if cadena == \"No\":\n",
    "        return \"Buena\"\n",
    "    else: \n",
    "        return \"Excelente\"\n",
    "\n",
    "df['badge_product_quality'] = df['badge_product_quality'].apply(calidad)"
   ]
  },
  {
   "cell_type": "code",
   "execution_count": 192,
   "metadata": {},
   "outputs": [
    {
     "data": {
      "text/plain": [
       "array(['Buena', 'Excelente'], dtype=object)"
      ]
     },
     "execution_count": 192,
     "metadata": {},
     "output_type": "execute_result"
    }
   ],
   "source": [
    "# Comprobamos que se ha sobreescrito correctamente \n",
    " \n",
    "df['badge_product_quality'].unique()"
   ]
  },
  {
   "cell_type": "markdown",
   "metadata": {},
   "source": [
    "7. Cálculo de descuento. Crea una nueva columna `discount_percentage` utilizando `apply()` que calcule el porcentaje de descuento  basado en las columnas 'price' y 'retail_price', redondea los decimales a 2. Después elimina las columnas de `average_discount` y `mean_discount` \n"
   ]
  },
  {
   "cell_type": "code",
   "execution_count": 193,
   "metadata": {},
   "outputs": [
    {
     "data": {
      "text/html": [
       "<div>\n",
       "<style scoped>\n",
       "    .dataframe tbody tr th:only-of-type {\n",
       "        vertical-align: middle;\n",
       "    }\n",
       "\n",
       "    .dataframe tbody tr th {\n",
       "        vertical-align: top;\n",
       "    }\n",
       "\n",
       "    .dataframe thead th {\n",
       "        text-align: right;\n",
       "    }\n",
       "</style>\n",
       "<table border=\"1\" class=\"dataframe\">\n",
       "  <thead>\n",
       "    <tr style=\"text-align: right;\">\n",
       "      <th></th>\n",
       "      <th>discount_percentage</th>\n",
       "      <th>price</th>\n",
       "      <th>retail_price</th>\n",
       "      <th>average_discount</th>\n",
       "      <th>mean_discount</th>\n",
       "    </tr>\n",
       "  </thead>\n",
       "  <tbody>\n",
       "    <tr>\n",
       "      <th>0</th>\n",
       "      <td>-14.29</td>\n",
       "      <td>16.00</td>\n",
       "      <td>14</td>\n",
       "      <td>-14.0</td>\n",
       "      <td>-14.00</td>\n",
       "    </tr>\n",
       "    <tr>\n",
       "      <th>1</th>\n",
       "      <td>63.64</td>\n",
       "      <td>8.00</td>\n",
       "      <td>22</td>\n",
       "      <td>38.0</td>\n",
       "      <td>37.83</td>\n",
       "    </tr>\n",
       "    <tr>\n",
       "      <th>2</th>\n",
       "      <td>81.40</td>\n",
       "      <td>8.00</td>\n",
       "      <td>43</td>\n",
       "      <td>88.0</td>\n",
       "      <td>88.00</td>\n",
       "    </tr>\n",
       "    <tr>\n",
       "      <th>3</th>\n",
       "      <td>0.00</td>\n",
       "      <td>8.00</td>\n",
       "      <td>8</td>\n",
       "      <td>7.0</td>\n",
       "      <td>7.00</td>\n",
       "    </tr>\n",
       "    <tr>\n",
       "      <th>4</th>\n",
       "      <td>9.33</td>\n",
       "      <td>2.72</td>\n",
       "      <td>3</td>\n",
       "      <td>1.0</td>\n",
       "      <td>0.67</td>\n",
       "    </tr>\n",
       "    <tr>\n",
       "      <th>...</th>\n",
       "      <td>...</td>\n",
       "      <td>...</td>\n",
       "      <td>...</td>\n",
       "      <td>...</td>\n",
       "      <td>...</td>\n",
       "    </tr>\n",
       "    <tr>\n",
       "      <th>1568</th>\n",
       "      <td>33.33</td>\n",
       "      <td>6.00</td>\n",
       "      <td>9</td>\n",
       "      <td>42.0</td>\n",
       "      <td>42.33</td>\n",
       "    </tr>\n",
       "    <tr>\n",
       "      <th>1569</th>\n",
       "      <td>96.43</td>\n",
       "      <td>2.00</td>\n",
       "      <td>56</td>\n",
       "      <td>92.0</td>\n",
       "      <td>92.33</td>\n",
       "    </tr>\n",
       "    <tr>\n",
       "      <th>1570</th>\n",
       "      <td>73.68</td>\n",
       "      <td>5.00</td>\n",
       "      <td>19</td>\n",
       "      <td>74.0</td>\n",
       "      <td>74.00</td>\n",
       "    </tr>\n",
       "    <tr>\n",
       "      <th>1571</th>\n",
       "      <td>-18.18</td>\n",
       "      <td>13.00</td>\n",
       "      <td>11</td>\n",
       "      <td>-18.0</td>\n",
       "      <td>-18.00</td>\n",
       "    </tr>\n",
       "    <tr>\n",
       "      <th>1572</th>\n",
       "      <td>-16.67</td>\n",
       "      <td>7.00</td>\n",
       "      <td>6</td>\n",
       "      <td>-16.0</td>\n",
       "      <td>-16.00</td>\n",
       "    </tr>\n",
       "  </tbody>\n",
       "</table>\n",
       "<p>1573 rows × 5 columns</p>\n",
       "</div>"
      ],
      "text/plain": [
       "      discount_percentage  price  retail_price  average_discount  \\\n",
       "0                  -14.29  16.00            14             -14.0   \n",
       "1                   63.64   8.00            22              38.0   \n",
       "2                   81.40   8.00            43              88.0   \n",
       "3                    0.00   8.00             8               7.0   \n",
       "4                    9.33   2.72             3               1.0   \n",
       "...                   ...    ...           ...               ...   \n",
       "1568                33.33   6.00             9              42.0   \n",
       "1569                96.43   2.00            56              92.0   \n",
       "1570                73.68   5.00            19              74.0   \n",
       "1571               -18.18  13.00            11             -18.0   \n",
       "1572               -16.67   7.00             6             -16.0   \n",
       "\n",
       "      mean_discount  \n",
       "0            -14.00  \n",
       "1             37.83  \n",
       "2             88.00  \n",
       "3              7.00  \n",
       "4              0.67  \n",
       "...             ...  \n",
       "1568          42.33  \n",
       "1569          92.33  \n",
       "1570          74.00  \n",
       "1571         -18.00  \n",
       "1572         -16.00  \n",
       "\n",
       "[1573 rows x 5 columns]"
      ]
     },
     "execution_count": 193,
     "metadata": {},
     "output_type": "execute_result"
    }
   ],
   "source": [
    "def descuento (precio_minorista, precio_venta):\n",
    "    porcentaje = 100*((precio_minorista - precio_venta)/precio_minorista)\n",
    "    return np.round(porcentaje, 2)\n",
    "\n",
    "df['discount_percentage'] = df.apply(lambda fila: descuento(fila['retail_price'], fila['price']), axis=1)\n",
    "\n",
    "# Vemos la columna nueva y las que estamos a punto de borrar\n",
    "\n",
    "df[['discount_percentage', 'price', 'retail_price', 'average_discount', 'mean_discount']]\n"
   ]
  },
  {
   "cell_type": "code",
   "execution_count": 194,
   "metadata": {},
   "outputs": [],
   "source": [
    "df[['discount_percentage', 'price', 'retail_price', 'average_discount', 'mean_discount']]\n",
    "\n",
    "# Borramos y sobreescribimos el dataframe\n",
    "\n",
    "df.drop('average_discount', axis=1, inplace=True)\n",
    "\n",
    "df.drop('mean_discount', axis=1, inplace=True)\n"
   ]
  },
  {
   "cell_type": "code",
   "execution_count": 197,
   "metadata": {},
   "outputs": [
    {
     "data": {
      "text/plain": [
       "Index(['title', 'title_orig', 'price', 'retail_price', 'units_sold',\n",
       "       'uses_ad_boosts', 'rating_x', 'rating_count', 'rating_five_count',\n",
       "       'rating_four_count', 'rating_three_count', 'rating_two_count',\n",
       "       'rating_one_count', 'badge_local_product', 'badge_product_quality',\n",
       "       'badge_fast_shipping', 'tags', 'product_color',\n",
       "       'product_variation_size_id', 'shipping_option_name',\n",
       "       'shipping_option_price', 'shipping_is_express', 'countries_shipped_to',\n",
       "       'inventory_total', 'origin_country', 'merchant_name',\n",
       "       'merchant_info_subtitle', 'merchant_rating_count', 'merchant_rating',\n",
       "       'merchant_id', 'product_url', 'product_id', 'listed_products',\n",
       "       'total_units_sold', 'mean_units_sold_per_product', 'rating_y',\n",
       "       'merchant_ratings_count', 'mean_product_prices', 'mean_retail_prices',\n",
       "       'mean_product_ratings_count', 'discount_percentage'],\n",
       "      dtype='object')"
      ]
     },
     "execution_count": 197,
     "metadata": {},
     "output_type": "execute_result"
    }
   ],
   "source": [
    "# Comprobamos que el dataframe ahora tiene la columna 'discount_percentage' \n",
    "# Y que ya no están 'average_discount' ni 'mean_discount'\n",
    "\n",
    "df.columns"
   ]
  },
  {
   "cell_type": "markdown",
   "metadata": {},
   "source": [
    "8. Evaluación de la valoración del vendedor. Utiliza `apply()` para crear una nueva columna 'seller_reputation' donde los valores sean \"Buena\" si 'merchant_rating' es mayor o igual a 4, y \"Regular\" si es menor a 4. Después elimina la columna `merchant_rating`. "
   ]
  },
  {
   "cell_type": "code",
   "execution_count": 200,
   "metadata": {},
   "outputs": [
    {
     "data": {
      "text/plain": [
       "0         Buena\n",
       "1       Regular\n",
       "2       Regular\n",
       "3         Buena\n",
       "4         Buena\n",
       "         ...   \n",
       "1568      Buena\n",
       "1569    Regular\n",
       "1570    Regular\n",
       "1571    Regular\n",
       "1572      Buena\n",
       "Name: seller_reputation, Length: 1573, dtype: object"
      ]
     },
     "execution_count": 200,
     "metadata": {},
     "output_type": "execute_result"
    }
   ],
   "source": [
    "# df['merchant_rating'].unique()  # Comprobamos que los valores de merchant_rating están en rangos y no hay nulos\n",
    "\n",
    "# Creamos nuestra función para categorizar una columna\n",
    "\n",
    "def valoracion (rating):\n",
    "    if rating >= 4:\n",
    "        return \"Buena\"\n",
    "    else:\n",
    "        return \"Regular\"\n",
    "\n",
    "# Creamos la nueva columna aplicando la función valoracion \n",
    "\n",
    "df['seller_reputation'] = df['merchant_rating'].apply(valoracion)    \n",
    "\n",
    "df['seller_reputation'] \n"
   ]
  },
  {
   "cell_type": "code",
   "execution_count": 201,
   "metadata": {},
   "outputs": [
    {
     "data": {
      "text/plain": [
       "Index(['title', 'title_orig', 'price', 'retail_price', 'units_sold',\n",
       "       'uses_ad_boosts', 'rating_x', 'rating_count', 'rating_five_count',\n",
       "       'rating_four_count', 'rating_three_count', 'rating_two_count',\n",
       "       'rating_one_count', 'badge_local_product', 'badge_product_quality',\n",
       "       'badge_fast_shipping', 'tags', 'product_color',\n",
       "       'product_variation_size_id', 'shipping_option_name',\n",
       "       'shipping_option_price', 'shipping_is_express', 'countries_shipped_to',\n",
       "       'inventory_total', 'origin_country', 'merchant_name',\n",
       "       'merchant_info_subtitle', 'merchant_rating_count', 'merchant_id',\n",
       "       'product_url', 'product_id', 'listed_products', 'total_units_sold',\n",
       "       'mean_units_sold_per_product', 'rating_y', 'merchant_ratings_count',\n",
       "       'mean_product_prices', 'mean_retail_prices',\n",
       "       'mean_product_ratings_count', 'discount_percentage',\n",
       "       'seller_reputation'],\n",
       "      dtype='object')"
      ]
     },
     "execution_count": 201,
     "metadata": {},
     "output_type": "execute_result"
    }
   ],
   "source": [
    "# Borramos la columna merchant_rating\n",
    "\n",
    "df.drop('merchant_rating', axis=1, inplace = True)\n",
    "\n",
    "# Comprobamos que la columna se ha eliminado correctamente\n",
    "\n",
    "df.columns"
   ]
  },
  {
   "cell_type": "markdown",
   "metadata": {},
   "source": [
    "9. Guarda los resultados en un DataFrame para usarlo en la próxima lección. "
   ]
  },
  {
   "cell_type": "code",
   "execution_count": 202,
   "metadata": {},
   "outputs": [],
   "source": [
    "df.to_csv('rating_performance_insight_map_replace.csv')"
   ]
  }
 ],
 "metadata": {
  "kernelspec": {
   "display_name": "Python 3",
   "language": "python",
   "name": "python3"
  },
  "language_info": {
   "codemirror_mode": {
    "name": "ipython",
    "version": 3
   },
   "file_extension": ".py",
   "mimetype": "text/x-python",
   "name": "python",
   "nbconvert_exporter": "python",
   "pygments_lexer": "ipython3",
   "version": "3.12.4"
  }
 },
 "nbformat": 4,
 "nbformat_minor": 2
}
