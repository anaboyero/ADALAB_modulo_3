{
 "cells": [
  {
   "cell_type": "code",
   "execution_count": 44,
   "metadata": {},
   "outputs": [],
   "source": [
    "# importamos las librerías que necesitamos\n",
    "\n",
    "# Tratamiento de datos\n",
    "# -----------------------------------------------------------------------\n",
    "import pandas as pd\n",
    "import numpy as np\n",
    "\n",
    "# Imputación de nulos usando métodos avanzados estadísticos\n",
    "# -----------------------------------------------------------------------\n",
    "from sklearn.impute import SimpleImputer\n",
    "from sklearn.experimental import enable_iterative_imputer\n",
    "from sklearn.impute import IterativeImputer\n",
    "from sklearn.impute import KNNImputer\n",
    "\n",
    "# Librerías de visualización\n",
    "# -----------------------------------------------------------------------\n",
    "import seaborn as sns\n",
    "import matplotlib.pyplot as plt\n",
    "# Configuración\n",
    "# -----------------------------------------------------------------------\n",
    "pd.set_option('display.max_columns', None) # para poder visualizar todas las columnas de los DataFrames"
   ]
  },
  {
   "cell_type": "markdown",
   "metadata": {},
   "source": [
    "# Ejercicios"
   ]
  },
  {
   "cell_type": "markdown",
   "metadata": {},
   "source": [
    "1. Cargad el csv que obtuvimos en los ejercicios de la clase invertida de ayer. \n"
   ]
  },
  {
   "cell_type": "code",
   "execution_count": 45,
   "metadata": {},
   "outputs": [],
   "source": [
    "df = pd.read_csv('rating_performance_insight_map_replace.csv', index_col=0)"
   ]
  },
  {
   "cell_type": "markdown",
   "metadata": {},
   "source": [
    "2. ¿Qué columnas tienen nulos? \n"
   ]
  },
  {
   "cell_type": "code",
   "execution_count": 46,
   "metadata": {},
   "outputs": [
    {
     "data": {
      "text/plain": [
       "rating_five_count            45\n",
       "rating_four_count            45\n",
       "rating_three_count           45\n",
       "rating_two_count             45\n",
       "rating_one_count             45\n",
       "product_color                41\n",
       "product_variation_size_id    14\n",
       "origin_country               17\n",
       "merchant_name                 4\n",
       "merchant_info_subtitle        1\n",
       "dtype: int64"
      ]
     },
     "execution_count": 46,
     "metadata": {},
     "output_type": "execute_result"
    }
   ],
   "source": [
    "columnas_nulos = df.columns[df.isnull().any()]\n",
    "columnas_nulos\n",
    "\n",
    "# Otra manera que además recuenta los nulos \n",
    "\n",
    "df.isnull().sum()[df.isnull().sum() > 0]"
   ]
  },
  {
   "cell_type": "markdown",
   "metadata": {},
   "source": [
    "3. Explorad los nulos que hay en el DataFrame. \n"
   ]
  },
  {
   "cell_type": "code",
   "execution_count": 47,
   "metadata": {},
   "outputs": [
    {
     "name": "stdout",
     "output_type": "stream",
     "text": [
      "Las columnas categóricas nulas son:\n",
      "\n",
      "Index(['product_color', 'product_variation_size_id', 'origin_country',\n",
      "       'merchant_name', 'merchant_info_subtitle'],\n",
      "      dtype='object')\n",
      "\n",
      "\n",
      "Las columnas numéricas nulas son:\n",
      "\n",
      "Index(['rating_five_count', 'rating_four_count', 'rating_three_count',\n",
      "       'rating_two_count', 'rating_one_count'],\n",
      "      dtype='object')\n",
      "\n"
     ]
    }
   ],
   "source": [
    "cc_categoricas_nulas = df[columnas_nulos].select_dtypes(include = \"O\").columns\n",
    "cc_numericas_nulas = df[columnas_nulos].select_dtypes(include = np.number).columns\n",
    "\n",
    "print(f\"Las columnas categóricas nulas son:\\n\\n{cc_categoricas_nulas}\\n\")\n",
    "\n",
    "print(f\"\\nLas columnas numéricas nulas son:\\n\\n{cc_numericas_nulas}\\n\")\n"
   ]
  },
  {
   "cell_type": "markdown",
   "metadata": {},
   "source": [
    "4. Con lo aprendido en la lección de hoy gestiona los nulos de la forma que consideres más correcta. Mañana en clase discutiremos sobre los métodos elegidos. \n"
   ]
  },
  {
   "cell_type": "code",
   "execution_count": 48,
   "metadata": {},
   "outputs": [
    {
     "name": "stdout",
     "output_type": "stream",
     "text": [
      "La distribución de las categorías para la columna product_color\n"
     ]
    },
    {
     "data": {
      "text/plain": [
       "product_color\n",
       "black         0.19\n",
       "white         0.16\n",
       "yellow        0.07\n",
       "pink          0.06\n",
       "blue          0.06\n",
       "              ... \n",
       "violet        0.00\n",
       "blackwhite    0.00\n",
       "darkgreen     0.00\n",
       "rosegold      0.00\n",
       "gold          0.00\n",
       "Name: count, Length: 101, dtype: float64"
      ]
     },
     "metadata": {},
     "output_type": "display_data"
    },
    {
     "name": "stdout",
     "output_type": "stream",
     "text": [
      "........................\n",
      "La distribución de las categorías para la columna product_variation_size_id\n"
     ]
    },
    {
     "data": {
      "text/plain": [
       "product_variation_size_id\n",
       "S            0.41\n",
       "XS           0.23\n",
       "M            0.13\n",
       "XXS          0.06\n",
       "L            0.03\n",
       "             ... \n",
       "5            0.00\n",
       "1 PC - XL    0.00\n",
       "H01          0.00\n",
       "40 cm        0.00\n",
       "SIZE S       0.00\n",
       "Name: count, Length: 106, dtype: float64"
      ]
     },
     "metadata": {},
     "output_type": "display_data"
    },
    {
     "name": "stdout",
     "output_type": "stream",
     "text": [
      "........................\n",
      "La distribución de las categorías para la columna origin_country\n"
     ]
    },
    {
     "data": {
      "text/plain": [
       "origin_country\n",
       "CN    0.96\n",
       "US    0.02\n",
       "VE    0.00\n",
       "SG    0.00\n",
       "AT    0.00\n",
       "GB    0.00\n",
       "Name: count, dtype: float64"
      ]
     },
     "metadata": {},
     "output_type": "display_data"
    },
    {
     "name": "stdout",
     "output_type": "stream",
     "text": [
      "........................\n",
      "La distribución de las categorías para la columna merchant_name\n"
     ]
    },
    {
     "data": {
      "text/plain": [
       "merchant_name\n",
       "广州唯适唯服饰有限公司                     0.01\n",
       "greatexpectationstechnology     0.01\n",
       "sjhdstoer                       0.01\n",
       "cenicbeauty                     0.01\n",
       "sangboostore                    0.01\n",
       "                                ... \n",
       "haoduoyichinamadequality        0.00\n",
       "yuzk                            0.00\n",
       "congxiaolong                    0.00\n",
       "coaluss                         0.00\n",
       "hongkonghaijietradecolimited    0.00\n",
       "Name: count, Length: 957, dtype: float64"
      ]
     },
     "metadata": {},
     "output_type": "display_data"
    },
    {
     "name": "stdout",
     "output_type": "stream",
     "text": [
      "........................\n",
      "La distribución de las categorías para la columna merchant_info_subtitle\n"
     ]
    },
    {
     "data": {
      "text/plain": [
       "merchant_info_subtitle\n",
       "np.nan                                            0.18\n",
       "86 % avis positifs                                0.09\n",
       "85 % avis positifs                                0.08\n",
       "87 % avis positifs                                0.07\n",
       "88 % avis positifs                                0.07\n",
       "                                                  ... \n",
       "67 % avis positifs                                0.00\n",
       "92% Positive Feedback (32,318 ratings)            0.00\n",
       "83% Positive Feedback (1,821 ratings)             0.00\n",
       "84% Positive Feedback (399 ratings)               0.00\n",
       "88% Feedback positivo (151,914 classificações)    0.00\n",
       "Name: count, Length: 90, dtype: float64"
      ]
     },
     "metadata": {},
     "output_type": "display_data"
    },
    {
     "name": "stdout",
     "output_type": "stream",
     "text": [
      "........................\n"
     ]
    }
   ],
   "source": [
    "# Empezamos con las columnas categóricas.\n",
    "\n",
    "for col in cc_categoricas_nulas:\n",
    "    print(f\"La distribución de las categorías para la columna {col}\")\n",
    "    display(round(df[col].value_counts() / df.shape[0], 2))  # display es una función utilizada para mostrar objetos de manera más legible en Jupyter Notebooks o entornos similares. \n",
    "    print(\"........................\")\n"
   ]
  },
  {
   "cell_type": "code",
   "execution_count": 49,
   "metadata": {},
   "outputs": [
    {
     "data": {
      "text/plain": [
       "Index([], dtype='object')"
      ]
     },
     "execution_count": 49,
     "metadata": {},
     "output_type": "execute_result"
    }
   ],
   "source": [
    "# CASO COLUMNAS CATEGÓRICAS\n",
    "#\n",
    "# Solo en el caso de 'origin_country' hay una categoria claramente dominante. \n",
    "# \n",
    "# En ese caso imputaremos los nulos por la moda (CN), el resto de nulos de las columnas los sustituiremos por unknown.\n",
    "\n",
    "moda = df['origin_country'].mode()[0]\n",
    "df['origin_country'] = df['origin_country'].fillna(moda)\n",
    "\n",
    "columnas_unknown = ['product_color', 'product_variation_size_id', \n",
    "       'merchant_name', 'merchant_info_subtitle']\n",
    "\n",
    "for col in columnas_unknown:\n",
    "    df[col] = df[col].fillna('unknown')\n",
    "\n",
    "#Compruebo que ya no hay columnas categóricas con nulos.\n",
    "\n",
    "columnas_categoricas_nulos = df[df.columns[df.isnull().any()]].select_dtypes(include = \"O\").columns\n",
    "columnas_categoricas_nulos\n"
   ]
  },
  {
   "cell_type": "code",
   "execution_count": 50,
   "metadata": {},
   "outputs": [
    {
     "data": {
      "text/plain": [
       "rating_five_count     0.028608\n",
       "rating_four_count     0.028608\n",
       "rating_three_count    0.028608\n",
       "rating_two_count      0.028608\n",
       "rating_one_count      0.028608\n",
       "dtype: float64"
      ]
     },
     "execution_count": 50,
     "metadata": {},
     "output_type": "execute_result"
    }
   ],
   "source": [
    "# CASO COLUMNAS NUMÉRICAS\n",
    "\n",
    "# lo primero que vamos a hacer es calcular la proporción de nulos que tenemos en cada una de las columnas numericas\n",
    "\n",
    "df[cc_numericas_nulas].isnull().sum() / df.shape[0]\n",
    "\n",
    "# No son excesivos. Menos de un 3%.\n"
   ]
  },
  {
   "cell_type": "code",
   "execution_count": 51,
   "metadata": {},
   "outputs": [
    {
     "data": {
      "image/png": "[encoded data removed]",
      "text/plain": [
       "<Figure size 2000x1000 with 6 Axes>"
      ]
     },
     "metadata": {},
     "output_type": "display_data"
    }
   ],
   "source": [
    "# Lo siguiente que tendríamos que hacer es ver si dentro de las columnas donde tenemos nulos tenemos valores atípicos. \n",
    "# Para hacer esto lo mejor es usar visualización. \n",
    "\n",
    "fig, axes = plt.subplots(nrows = 2, ncols = 3, figsize = (20,10)) \n",
    "\n",
    "axes = axes.flat\n",
    "\n",
    "for indice, col in enumerate(cc_numericas_nulas):\n",
    "    sns.boxplot(x = col, data = df, ax = axes[indice])\n",
    "\n",
    "# Vemos que hay muchos valores atípicos.\n"
   ]
  },
  {
   "cell_type": "code",
   "execution_count": 54,
   "metadata": {},
   "outputs": [
    {
     "data": {
      "text/plain": [
       "array([[2.600e+01, 8.000e+00, 1.000e+01, 1.000e+00, 9.000e+00],\n",
       "       [2.269e+03, 1.027e+03, 1.118e+03, 6.440e+02, 1.077e+03],\n",
       "       [5.000e+00, 4.000e+00, 2.000e+00, 0.000e+00, 3.000e+00],\n",
       "       ...,\n",
       "       [2.400e+01, 1.500e+01, 8.000e+00, 3.000e+00, 9.000e+00],\n",
       "       [0.000e+00, 1.000e+00, 0.000e+00, 0.000e+00, 1.000e+00],\n",
       "       [8.000e+00, 3.000e+00, 1.000e+00, 0.000e+00, 2.000e+00]])"
      ]
     },
     "execution_count": 54,
     "metadata": {},
     "output_type": "execute_result"
    }
   ],
   "source": [
    "# como vamos a crear columnas nuevas, vamos a hacer una copia del DataFrame usando el método 'copy()'\n",
    "df_copia = df.copy()\n",
    "\n",
    "# Todas tienen valores atípicos, así que lo mejor será reemplazar los nulos con métodos avanzados como KNNImputer y IterativeImputer. \n",
    "# Después, comparamos.\n",
    "\n",
    "# instanciamos las clases\n",
    "\n",
    "imputer = IterativeImputer(max_iter= 20, random_state=42)\n",
    "\n",
    "# ajustamos y tranformamos los datos\n",
    "\n",
    "imputer_iterative_imputado = imputer.fit_transform(df[['rating_five_count', 'rating_four_count', 'rating_three_count','rating_two_count','rating_one_count']])\n",
    "\n",
    "# comprobamos que es lo que nos devuelve, que en este caso es un array también\n",
    "imputer_iterative_imputado"
   ]
  },
  {
   "cell_type": "code",
   "execution_count": 55,
   "metadata": {},
   "outputs": [],
   "source": [
    "df[['rating_five_count_iter', 'rating_four_count_iter', 'rating_three_count_iter', 'rating_two_count_iter', 'rating_one_count_iter']] = imputer_iterative_imputado"
   ]
  },
  {
   "cell_type": "code",
   "execution_count": 40,
   "metadata": {},
   "outputs": [
    {
     "data": {
      "text/plain": [
       "array([[2.600e+01, 8.000e+00, 1.000e+01, 1.000e+00, 9.000e+00],\n",
       "       [2.269e+03, 1.027e+03, 1.118e+03, 6.440e+02, 1.077e+03],\n",
       "       [5.000e+00, 4.000e+00, 2.000e+00, 0.000e+00, 3.000e+00],\n",
       "       ...,\n",
       "       [2.400e+01, 1.500e+01, 8.000e+00, 3.000e+00, 9.000e+00],\n",
       "       [0.000e+00, 1.000e+00, 0.000e+00, 0.000e+00, 1.000e+00],\n",
       "       [8.000e+00, 3.000e+00, 1.000e+00, 0.000e+00, 2.000e+00]])"
      ]
     },
     "execution_count": 40,
     "metadata": {},
     "output_type": "execute_result"
    }
   ],
   "source": [
    "# hagamos ahora lo mismo con el KNNImputer. NOTA, la ejecución de esta celda puede tardar un ratito\n",
    "\n",
    "# instanciamos la clase del KNNImputer\n",
    "imputer_knn = KNNImputer(n_neighbors = 5)\n",
    "\n",
    "# ajustamos y transformamos los datos\n",
    "imputer_knn_imputado = imputer_knn.fit_transform(df[['rating_five_count', 'rating_four_count', 'rating_three_count','rating_two_count','rating_one_count']])\n",
    "\n",
    "# comprobamos que es lo que nos devuelve, que sigue siendo un array\n",
    "imputer_knn_imputado"
   ]
  },
  {
   "cell_type": "code",
   "execution_count": 56,
   "metadata": {},
   "outputs": [
    {
     "data": {
      "text/html": [
       "<div>\n",
       "<style scoped>\n",
       "    .dataframe tbody tr th:only-of-type {\n",
       "        vertical-align: middle;\n",
       "    }\n",
       "\n",
       "    .dataframe tbody tr th {\n",
       "        vertical-align: top;\n",
       "    }\n",
       "\n",
       "    .dataframe thead th {\n",
       "        text-align: right;\n",
       "    }\n",
       "</style>\n",
       "<table border=\"1\" class=\"dataframe\">\n",
       "  <thead>\n",
       "    <tr style=\"text-align: right;\">\n",
       "      <th></th>\n",
       "      <th>rating_five_count</th>\n",
       "      <th>rating_five_count_knn</th>\n",
       "      <th>rating_five_count_iter</th>\n",
       "    </tr>\n",
       "  </thead>\n",
       "  <tbody>\n",
       "    <tr>\n",
       "      <th>count</th>\n",
       "      <td>1528.000000</td>\n",
       "      <td>1573.000000</td>\n",
       "      <td>1573.000000</td>\n",
       "    </tr>\n",
       "    <tr>\n",
       "      <th>mean</th>\n",
       "      <td>442.263743</td>\n",
       "      <td>442.263743</td>\n",
       "      <td>442.263743</td>\n",
       "    </tr>\n",
       "    <tr>\n",
       "      <th>std</th>\n",
       "      <td>980.203270</td>\n",
       "      <td>966.071776</td>\n",
       "      <td>966.071776</td>\n",
       "    </tr>\n",
       "    <tr>\n",
       "      <th>min</th>\n",
       "      <td>0.000000</td>\n",
       "      <td>0.000000</td>\n",
       "      <td>0.000000</td>\n",
       "    </tr>\n",
       "    <tr>\n",
       "      <th>25%</th>\n",
       "      <td>12.000000</td>\n",
       "      <td>13.000000</td>\n",
       "      <td>13.000000</td>\n",
       "    </tr>\n",
       "    <tr>\n",
       "      <th>50%</th>\n",
       "      <td>79.000000</td>\n",
       "      <td>86.000000</td>\n",
       "      <td>86.000000</td>\n",
       "    </tr>\n",
       "    <tr>\n",
       "      <th>75%</th>\n",
       "      <td>413.500000</td>\n",
       "      <td>442.263743</td>\n",
       "      <td>442.263743</td>\n",
       "    </tr>\n",
       "    <tr>\n",
       "      <th>max</th>\n",
       "      <td>11548.000000</td>\n",
       "      <td>11548.000000</td>\n",
       "      <td>11548.000000</td>\n",
       "    </tr>\n",
       "  </tbody>\n",
       "</table>\n",
       "</div>"
      ],
      "text/plain": [
       "       rating_five_count  rating_five_count_knn  rating_five_count_iter\n",
       "count        1528.000000            1573.000000             1573.000000\n",
       "mean          442.263743             442.263743              442.263743\n",
       "std           980.203270             966.071776              966.071776\n",
       "min             0.000000               0.000000                0.000000\n",
       "25%            12.000000              13.000000               13.000000\n",
       "50%            79.000000              86.000000               86.000000\n",
       "75%           413.500000             442.263743              442.263743\n",
       "max         11548.000000           11548.000000            11548.000000"
      ]
     },
     "execution_count": 56,
     "metadata": {},
     "output_type": "execute_result"
    }
   ],
   "source": [
    "df[['rating_five_count_knn', 'rating_four_count_knn', 'rating_three_count_knn', 'rating_two_count_knn', 'rating_one_count_knn']] = imputer_knn_imputado\n",
    "\n",
    "df[['rating_five_count', 'rating_five_count_knn', 'rating_five_count_iter']].describe()\n",
    "#nos podemos quedar con el iterative o con el knn"
   ]
  },
  {
   "cell_type": "code",
   "execution_count": 57,
   "metadata": {},
   "outputs": [
    {
     "data": {
      "text/html": [
       "<div>\n",
       "<style scoped>\n",
       "    .dataframe tbody tr th:only-of-type {\n",
       "        vertical-align: middle;\n",
       "    }\n",
       "\n",
       "    .dataframe tbody tr th {\n",
       "        vertical-align: top;\n",
       "    }\n",
       "\n",
       "    .dataframe thead th {\n",
       "        text-align: right;\n",
       "    }\n",
       "</style>\n",
       "<table border=\"1\" class=\"dataframe\">\n",
       "  <thead>\n",
       "    <tr style=\"text-align: right;\">\n",
       "      <th></th>\n",
       "      <th>rating_four_count</th>\n",
       "      <th>rating_four_count_knn</th>\n",
       "      <th>rating_four_count_iter</th>\n",
       "    </tr>\n",
       "  </thead>\n",
       "  <tbody>\n",
       "    <tr>\n",
       "      <th>count</th>\n",
       "      <td>1528.000000</td>\n",
       "      <td>1573.000000</td>\n",
       "      <td>1573.000000</td>\n",
       "    </tr>\n",
       "    <tr>\n",
       "      <th>mean</th>\n",
       "      <td>179.599476</td>\n",
       "      <td>179.599476</td>\n",
       "      <td>179.599476</td>\n",
       "    </tr>\n",
       "    <tr>\n",
       "      <th>std</th>\n",
       "      <td>400.516231</td>\n",
       "      <td>394.742028</td>\n",
       "      <td>394.742028</td>\n",
       "    </tr>\n",
       "    <tr>\n",
       "      <th>min</th>\n",
       "      <td>0.000000</td>\n",
       "      <td>0.000000</td>\n",
       "      <td>0.000000</td>\n",
       "    </tr>\n",
       "    <tr>\n",
       "      <th>25%</th>\n",
       "      <td>5.000000</td>\n",
       "      <td>5.000000</td>\n",
       "      <td>5.000000</td>\n",
       "    </tr>\n",
       "    <tr>\n",
       "      <th>50%</th>\n",
       "      <td>31.500000</td>\n",
       "      <td>35.000000</td>\n",
       "      <td>35.000000</td>\n",
       "    </tr>\n",
       "    <tr>\n",
       "      <th>75%</th>\n",
       "      <td>168.250000</td>\n",
       "      <td>179.599476</td>\n",
       "      <td>179.599476</td>\n",
       "    </tr>\n",
       "    <tr>\n",
       "      <th>max</th>\n",
       "      <td>4152.000000</td>\n",
       "      <td>4152.000000</td>\n",
       "      <td>4152.000000</td>\n",
       "    </tr>\n",
       "  </tbody>\n",
       "</table>\n",
       "</div>"
      ],
      "text/plain": [
       "       rating_four_count  rating_four_count_knn  rating_four_count_iter\n",
       "count        1528.000000            1573.000000             1573.000000\n",
       "mean          179.599476             179.599476              179.599476\n",
       "std           400.516231             394.742028              394.742028\n",
       "min             0.000000               0.000000                0.000000\n",
       "25%             5.000000               5.000000                5.000000\n",
       "50%            31.500000              35.000000               35.000000\n",
       "75%           168.250000             179.599476              179.599476\n",
       "max          4152.000000            4152.000000             4152.000000"
      ]
     },
     "execution_count": 57,
     "metadata": {},
     "output_type": "execute_result"
    }
   ],
   "source": [
    "df[['rating_four_count', 'rating_four_count_knn', 'rating_four_count_iter' ]].describe()\n",
    "# nos podemos quedar con el iterative o con el knn"
   ]
  },
  {
   "cell_type": "code",
   "execution_count": 58,
   "metadata": {},
   "outputs": [
    {
     "data": {
      "text/html": [
       "<div>\n",
       "<style scoped>\n",
       "    .dataframe tbody tr th:only-of-type {\n",
       "        vertical-align: middle;\n",
       "    }\n",
       "\n",
       "    .dataframe tbody tr th {\n",
       "        vertical-align: top;\n",
       "    }\n",
       "\n",
       "    .dataframe thead th {\n",
       "        text-align: right;\n",
       "    }\n",
       "</style>\n",
       "<table border=\"1\" class=\"dataframe\">\n",
       "  <thead>\n",
       "    <tr style=\"text-align: right;\">\n",
       "      <th></th>\n",
       "      <th>rating_three_count</th>\n",
       "      <th>rating_three_count_knn</th>\n",
       "      <th>rating_three_count_iter</th>\n",
       "    </tr>\n",
       "  </thead>\n",
       "  <tbody>\n",
       "    <tr>\n",
       "      <th>count</th>\n",
       "      <td>1528.000000</td>\n",
       "      <td>1573.000000</td>\n",
       "      <td>1573.000000</td>\n",
       "    </tr>\n",
       "    <tr>\n",
       "      <th>mean</th>\n",
       "      <td>134.549738</td>\n",
       "      <td>134.549738</td>\n",
       "      <td>134.549738</td>\n",
       "    </tr>\n",
       "    <tr>\n",
       "      <th>std</th>\n",
       "      <td>311.690656</td>\n",
       "      <td>307.197043</td>\n",
       "      <td>307.197043</td>\n",
       "    </tr>\n",
       "    <tr>\n",
       "      <th>min</th>\n",
       "      <td>0.000000</td>\n",
       "      <td>0.000000</td>\n",
       "      <td>0.000000</td>\n",
       "    </tr>\n",
       "    <tr>\n",
       "      <th>25%</th>\n",
       "      <td>4.000000</td>\n",
       "      <td>4.000000</td>\n",
       "      <td>4.000000</td>\n",
       "    </tr>\n",
       "    <tr>\n",
       "      <th>50%</th>\n",
       "      <td>24.000000</td>\n",
       "      <td>26.000000</td>\n",
       "      <td>26.000000</td>\n",
       "    </tr>\n",
       "    <tr>\n",
       "      <th>75%</th>\n",
       "      <td>129.250000</td>\n",
       "      <td>134.549738</td>\n",
       "      <td>134.549738</td>\n",
       "    </tr>\n",
       "    <tr>\n",
       "      <th>max</th>\n",
       "      <td>3658.000000</td>\n",
       "      <td>3658.000000</td>\n",
       "      <td>3658.000000</td>\n",
       "    </tr>\n",
       "  </tbody>\n",
       "</table>\n",
       "</div>"
      ],
      "text/plain": [
       "       rating_three_count  rating_three_count_knn  rating_three_count_iter\n",
       "count         1528.000000             1573.000000              1573.000000\n",
       "mean           134.549738              134.549738               134.549738\n",
       "std            311.690656              307.197043               307.197043\n",
       "min              0.000000                0.000000                 0.000000\n",
       "25%              4.000000                4.000000                 4.000000\n",
       "50%             24.000000               26.000000                26.000000\n",
       "75%            129.250000              134.549738               134.549738\n",
       "max           3658.000000             3658.000000              3658.000000"
      ]
     },
     "execution_count": 58,
     "metadata": {},
     "output_type": "execute_result"
    }
   ],
   "source": [
    "df[['rating_three_count', 'rating_three_count_knn', 'rating_three_count_iter' ]].describe()\n",
    "# nos podemos quedar con el iterative o con el knn"
   ]
  },
  {
   "cell_type": "code",
   "execution_count": 59,
   "metadata": {},
   "outputs": [
    {
     "data": {
      "text/html": [
       "<div>\n",
       "<style scoped>\n",
       "    .dataframe tbody tr th:only-of-type {\n",
       "        vertical-align: middle;\n",
       "    }\n",
       "\n",
       "    .dataframe tbody tr th {\n",
       "        vertical-align: top;\n",
       "    }\n",
       "\n",
       "    .dataframe thead th {\n",
       "        text-align: right;\n",
       "    }\n",
       "</style>\n",
       "<table border=\"1\" class=\"dataframe\">\n",
       "  <thead>\n",
       "    <tr style=\"text-align: right;\">\n",
       "      <th></th>\n",
       "      <th>rating_two_count</th>\n",
       "      <th>rating_two_count_knn</th>\n",
       "      <th>rating_two_count_iter</th>\n",
       "    </tr>\n",
       "  </thead>\n",
       "  <tbody>\n",
       "    <tr>\n",
       "      <th>count</th>\n",
       "      <td>1528.000000</td>\n",
       "      <td>1573.000000</td>\n",
       "      <td>1573.000000</td>\n",
       "    </tr>\n",
       "    <tr>\n",
       "      <th>mean</th>\n",
       "      <td>63.711387</td>\n",
       "      <td>63.711387</td>\n",
       "      <td>63.711387</td>\n",
       "    </tr>\n",
       "    <tr>\n",
       "      <th>std</th>\n",
       "      <td>151.343933</td>\n",
       "      <td>149.162023</td>\n",
       "      <td>149.162023</td>\n",
       "    </tr>\n",
       "    <tr>\n",
       "      <th>min</th>\n",
       "      <td>0.000000</td>\n",
       "      <td>0.000000</td>\n",
       "      <td>0.000000</td>\n",
       "    </tr>\n",
       "    <tr>\n",
       "      <th>25%</th>\n",
       "      <td>2.000000</td>\n",
       "      <td>2.000000</td>\n",
       "      <td>2.000000</td>\n",
       "    </tr>\n",
       "    <tr>\n",
       "      <th>50%</th>\n",
       "      <td>11.000000</td>\n",
       "      <td>12.000000</td>\n",
       "      <td>12.000000</td>\n",
       "    </tr>\n",
       "    <tr>\n",
       "      <th>75%</th>\n",
       "      <td>62.000000</td>\n",
       "      <td>63.711387</td>\n",
       "      <td>63.711387</td>\n",
       "    </tr>\n",
       "    <tr>\n",
       "      <th>max</th>\n",
       "      <td>2003.000000</td>\n",
       "      <td>2003.000000</td>\n",
       "      <td>2003.000000</td>\n",
       "    </tr>\n",
       "  </tbody>\n",
       "</table>\n",
       "</div>"
      ],
      "text/plain": [
       "       rating_two_count  rating_two_count_knn  rating_two_count_iter\n",
       "count       1528.000000           1573.000000            1573.000000\n",
       "mean          63.711387             63.711387              63.711387\n",
       "std          151.343933            149.162023             149.162023\n",
       "min            0.000000              0.000000               0.000000\n",
       "25%            2.000000              2.000000               2.000000\n",
       "50%           11.000000             12.000000              12.000000\n",
       "75%           62.000000             63.711387              63.711387\n",
       "max         2003.000000           2003.000000            2003.000000"
      ]
     },
     "execution_count": 59,
     "metadata": {},
     "output_type": "execute_result"
    }
   ],
   "source": [
    "df[['rating_two_count', 'rating_two_count_knn', 'rating_two_count_iter' ]].describe()\n",
    "# nos podemos quedar con el iterative o con el knn"
   ]
  },
  {
   "cell_type": "code",
   "execution_count": 60,
   "metadata": {},
   "outputs": [],
   "source": [
    "df.drop(['rating_five_count', 'rating_five_count_iter', 'rating_four_count', 'rating_four_count_knn', 'rating_three_count', 'rating_three_count_knn', 'rating_two_count', 'rating_two_count_knn', 'rating_one_count', 'rating_one_count_knn'], axis = 1, inplace = True)"
   ]
  },
  {
   "cell_type": "code",
   "execution_count": 61,
   "metadata": {},
   "outputs": [
    {
     "data": {
      "text/plain": [
       "Index(['title', 'title_orig', 'price', 'retail_price', 'units_sold',\n",
       "       'uses_ad_boosts', 'rating_x', 'rating_count', 'badge_local_product',\n",
       "       'badge_product_quality', 'badge_fast_shipping', 'tags', 'product_color',\n",
       "       'product_variation_size_id', 'shipping_option_name',\n",
       "       'shipping_option_price', 'shipping_is_express', 'countries_shipped_to',\n",
       "       'inventory_total', 'origin_country', 'merchant_name',\n",
       "       'merchant_info_subtitle', 'merchant_rating_count', 'merchant_id',\n",
       "       'product_url', 'product_id', 'listed_products', 'total_units_sold',\n",
       "       'mean_units_sold_per_product', 'rating_y', 'merchant_ratings_count',\n",
       "       'mean_product_prices', 'mean_retail_prices',\n",
       "       'mean_product_ratings_count', 'discount_percentage',\n",
       "       'seller_reputation', 'rating_four_count_iter',\n",
       "       'rating_three_count_iter', 'rating_two_count_iter',\n",
       "       'rating_one_count_iter', 'rating_five_count_knn'],\n",
       "      dtype='object')"
      ]
     },
     "execution_count": 61,
     "metadata": {},
     "output_type": "execute_result"
    }
   ],
   "source": [
    "df.columns"
   ]
  },
  {
   "cell_type": "code",
   "execution_count": 62,
   "metadata": {},
   "outputs": [],
   "source": [
    "nuevas_columnas = {'rating_four_count_iter': 'rating_four_count' ,\n",
    "       'rating_three_count_iter': 'rating_three_count', 'rating_two_count_iter': 'rating_two_count',\n",
    "       'rating_one_count_iter':   'rating_one_count' , 'rating_five_count_knn': 'rating_five_count' }"
   ]
  },
  {
   "cell_type": "code",
   "execution_count": 63,
   "metadata": {},
   "outputs": [],
   "source": [
    "df.rename(columns = nuevas_columnas, inplace = True)"
   ]
  },
  {
   "cell_type": "markdown",
   "metadata": {},
   "source": [
    "5. Guardad el csv para los ejercicios de la clase invertida de mañana con las columnas sin nulos. "
   ]
  },
  {
   "cell_type": "code",
   "execution_count": 64,
   "metadata": {},
   "outputs": [],
   "source": [
    "df.to_csv(\"merchant_fill_nonulls.csv\")"
   ]
  }
 ],
 "metadata": {
  "kernelspec": {
   "display_name": "Python 3",
   "language": "python",
   "name": "python3"
  },
  "language_info": {
   "codemirror_mode": {
    "name": "ipython",
    "version": 3
   },
   "file_extension": ".py",
   "mimetype": "text/x-python",
   "name": "python",
   "nbconvert_exporter": "python",
   "pygments_lexer": "ipython3",
   "version": "3.12.4"
  }
 },
 "nbformat": 4,
 "nbformat_minor": 2
}
