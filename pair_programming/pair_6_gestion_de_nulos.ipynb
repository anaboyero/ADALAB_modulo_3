{
 "cells": [
  {
   "cell_type": "markdown",
   "metadata": {},
   "source": [
    "# Pair Nulos\n",
    "## Ejercicios gestión de nulos\n",
    "\n",
    "En este pair programming usaremos el csv que generamos en el pair programming de ayer. El objetivo del ejercicio es identificar las columnas que contienen valores nulos y aplicar un proceso de imputación para manejarlos de manera adecuada."
   ]
  },
  {
   "cell_type": "code",
   "execution_count": 86,
   "metadata": {},
   "outputs": [],
   "source": [
    "# importamos las librerías que necesitamos\n",
    "\n",
    "# Tratamiento de datos\n",
    "# -----------------------------------------------------------------------\n",
    "import pandas as pd\n",
    "import numpy as np\n",
    "\n",
    "pd.set_option('display.max_columns', None) # para poder visualizar todas las columnas de los DataFrames\n",
    "# pd.set_option('display.max_rows', None) # para poder visualizar todas las columnas de los DataFrames\n",
    "\n",
    "# Imputación de nulos usando métodos avanzados estadísticos\n",
    "# -----------------------------------------------------------------------\n",
    "from sklearn.impute import SimpleImputer\n",
    "from sklearn.experimental import enable_iterative_imputer\n",
    "from sklearn.impute import IterativeImputer\n",
    "from sklearn.impute import KNNImputer\n",
    "\n",
    "# Librerías de visualización\n",
    "# -----------------------------------------------------------------------\n",
    "import seaborn as sns\n",
    "import matplotlib.pyplot as plt\n",
    "# Configuración\n",
    "# -----------------------------------------------------------------------\n",
    "pd.set_option('display.max_columns', None) # para poder visualizar todas las columnas de los DataFrames"
   ]
  },
  {
   "cell_type": "code",
   "execution_count": 87,
   "metadata": {},
   "outputs": [
    {
     "data": {
      "text/html": [
       "<div>\n",
       "<style scoped>\n",
       "    .dataframe tbody tr th:only-of-type {\n",
       "        vertical-align: middle;\n",
       "    }\n",
       "\n",
       "    .dataframe tbody tr th {\n",
       "        vertical-align: top;\n",
       "    }\n",
       "\n",
       "    .dataframe thead th {\n",
       "        text-align: right;\n",
       "    }\n",
       "</style>\n",
       "<table border=\"1\" class=\"dataframe\">\n",
       "  <thead>\n",
       "    <tr style=\"text-align: right;\">\n",
       "      <th></th>\n",
       "      <th>country</th>\n",
       "      <th>density</th>\n",
       "      <th>abbreviation</th>\n",
       "      <th>agricultural_land</th>\n",
       "      <th>land_area</th>\n",
       "      <th>armed_forces_size</th>\n",
       "      <th>birth_rate</th>\n",
       "      <th>calling_code</th>\n",
       "      <th>capital/major_city</th>\n",
       "      <th>co2-emissions</th>\n",
       "      <th>cpi</th>\n",
       "      <th>cpi_change</th>\n",
       "      <th>currency-code</th>\n",
       "      <th>fertility_rate</th>\n",
       "      <th>forested_area</th>\n",
       "      <th>gasoline_price</th>\n",
       "      <th>gdp</th>\n",
       "      <th>gross_primary_education_enrollment</th>\n",
       "      <th>gross_tertiary_education_enrollment</th>\n",
       "      <th>infant_mortality</th>\n",
       "      <th>largest_city</th>\n",
       "      <th>life_expectancy</th>\n",
       "      <th>maternal_mortality_ratio</th>\n",
       "      <th>minimum_wage</th>\n",
       "      <th>official_language</th>\n",
       "      <th>out_of_pocket_health_expenditure</th>\n",
       "      <th>physicians_per_thousand</th>\n",
       "      <th>population</th>\n",
       "      <th>population_labor_force_participation</th>\n",
       "      <th>tax_revenue</th>\n",
       "      <th>total_tax_rate</th>\n",
       "      <th>unemployment_rate</th>\n",
       "      <th>urban_population</th>\n",
       "      <th>latitude</th>\n",
       "      <th>longitude</th>\n",
       "      <th>continent</th>\n",
       "    </tr>\n",
       "  </thead>\n",
       "  <tbody>\n",
       "    <tr>\n",
       "      <th>0</th>\n",
       "      <td>Afghanistan</td>\n",
       "      <td>60.0</td>\n",
       "      <td>AF</td>\n",
       "      <td>58.1</td>\n",
       "      <td>652.230</td>\n",
       "      <td>323.0</td>\n",
       "      <td>32.49</td>\n",
       "      <td>93.0</td>\n",
       "      <td>Kabul</td>\n",
       "      <td>8.672</td>\n",
       "      <td>149.90</td>\n",
       "      <td>2.3</td>\n",
       "      <td>AFN</td>\n",
       "      <td>4.47</td>\n",
       "      <td>2.1</td>\n",
       "      <td>0.70</td>\n",
       "      <td>1.910135e+10</td>\n",
       "      <td>104.0</td>\n",
       "      <td>9.7</td>\n",
       "      <td>47.9</td>\n",
       "      <td>Kabul</td>\n",
       "      <td>64.5</td>\n",
       "      <td>638.0</td>\n",
       "      <td>0.43</td>\n",
       "      <td>Pashto</td>\n",
       "      <td>78.4</td>\n",
       "      <td>0.28</td>\n",
       "      <td>NaN</td>\n",
       "      <td>48.9</td>\n",
       "      <td>9.3</td>\n",
       "      <td>71.4</td>\n",
       "      <td>11.12</td>\n",
       "      <td>NaN</td>\n",
       "      <td>33.939110</td>\n",
       "      <td>67.709953</td>\n",
       "      <td>Asia</td>\n",
       "    </tr>\n",
       "    <tr>\n",
       "      <th>1</th>\n",
       "      <td>Albania</td>\n",
       "      <td>105.0</td>\n",
       "      <td>AL</td>\n",
       "      <td>43.1</td>\n",
       "      <td>28.748</td>\n",
       "      <td>9.0</td>\n",
       "      <td>11.78</td>\n",
       "      <td>355.0</td>\n",
       "      <td>Tirana</td>\n",
       "      <td>4.536</td>\n",
       "      <td>119.05</td>\n",
       "      <td>1.4</td>\n",
       "      <td>ALL</td>\n",
       "      <td>1.62</td>\n",
       "      <td>28.1</td>\n",
       "      <td>1.36</td>\n",
       "      <td>1.527808e+10</td>\n",
       "      <td>107.0</td>\n",
       "      <td>55.0</td>\n",
       "      <td>7.8</td>\n",
       "      <td>Tirana</td>\n",
       "      <td>78.5</td>\n",
       "      <td>15.0</td>\n",
       "      <td>1.12</td>\n",
       "      <td>Albanian</td>\n",
       "      <td>56.9</td>\n",
       "      <td>1.20</td>\n",
       "      <td>NaN</td>\n",
       "      <td>55.7</td>\n",
       "      <td>18.6</td>\n",
       "      <td>36.6</td>\n",
       "      <td>12.33</td>\n",
       "      <td>NaN</td>\n",
       "      <td>41.153332</td>\n",
       "      <td>20.168331</td>\n",
       "      <td>Europe</td>\n",
       "    </tr>\n",
       "    <tr>\n",
       "      <th>2</th>\n",
       "      <td>Algeria</td>\n",
       "      <td>18.0</td>\n",
       "      <td>DZ</td>\n",
       "      <td>17.4</td>\n",
       "      <td>NaN</td>\n",
       "      <td>317.0</td>\n",
       "      <td>24.28</td>\n",
       "      <td>213.0</td>\n",
       "      <td>Algiers</td>\n",
       "      <td>150.006</td>\n",
       "      <td>151.36</td>\n",
       "      <td>2.0</td>\n",
       "      <td>DZD</td>\n",
       "      <td>3.02</td>\n",
       "      <td>0.8</td>\n",
       "      <td>0.28</td>\n",
       "      <td>1.699882e+11</td>\n",
       "      <td>109.9</td>\n",
       "      <td>51.4</td>\n",
       "      <td>20.1</td>\n",
       "      <td>Algiers</td>\n",
       "      <td>76.7</td>\n",
       "      <td>112.0</td>\n",
       "      <td>0.95</td>\n",
       "      <td>Arabic</td>\n",
       "      <td>28.1</td>\n",
       "      <td>1.72</td>\n",
       "      <td>NaN</td>\n",
       "      <td>41.2</td>\n",
       "      <td>37.2</td>\n",
       "      <td>66.1</td>\n",
       "      <td>11.70</td>\n",
       "      <td>NaN</td>\n",
       "      <td>28.033886</td>\n",
       "      <td>1.659626</td>\n",
       "      <td>Africa</td>\n",
       "    </tr>\n",
       "  </tbody>\n",
       "</table>\n",
       "</div>"
      ],
      "text/plain": [
       "       country  density abbreviation  agricultural_land  land_area  \\\n",
       "0  Afghanistan     60.0           AF               58.1    652.230   \n",
       "1      Albania    105.0           AL               43.1     28.748   \n",
       "2      Algeria     18.0           DZ               17.4        NaN   \n",
       "\n",
       "   armed_forces_size  birth_rate  calling_code capital/major_city  \\\n",
       "0              323.0       32.49          93.0              Kabul   \n",
       "1                9.0       11.78         355.0             Tirana   \n",
       "2              317.0       24.28         213.0            Algiers   \n",
       "\n",
       "   co2-emissions     cpi  cpi_change currency-code  fertility_rate  \\\n",
       "0          8.672  149.90         2.3           AFN            4.47   \n",
       "1          4.536  119.05         1.4           ALL            1.62   \n",
       "2        150.006  151.36         2.0           DZD            3.02   \n",
       "\n",
       "   forested_area  gasoline_price           gdp  \\\n",
       "0            2.1            0.70  1.910135e+10   \n",
       "1           28.1            1.36  1.527808e+10   \n",
       "2            0.8            0.28  1.699882e+11   \n",
       "\n",
       "   gross_primary_education_enrollment  gross_tertiary_education_enrollment  \\\n",
       "0                               104.0                                  9.7   \n",
       "1                               107.0                                 55.0   \n",
       "2                               109.9                                 51.4   \n",
       "\n",
       "   infant_mortality largest_city  life_expectancy  maternal_mortality_ratio  \\\n",
       "0              47.9        Kabul             64.5                     638.0   \n",
       "1               7.8       Tirana             78.5                      15.0   \n",
       "2              20.1      Algiers             76.7                     112.0   \n",
       "\n",
       "   minimum_wage official_language  out_of_pocket_health_expenditure  \\\n",
       "0          0.43            Pashto                              78.4   \n",
       "1          1.12          Albanian                              56.9   \n",
       "2          0.95            Arabic                              28.1   \n",
       "\n",
       "   physicians_per_thousand  population  population_labor_force_participation  \\\n",
       "0                     0.28         NaN                                  48.9   \n",
       "1                     1.20         NaN                                  55.7   \n",
       "2                     1.72         NaN                                  41.2   \n",
       "\n",
       "   tax_revenue  total_tax_rate  unemployment_rate  urban_population  \\\n",
       "0          9.3            71.4              11.12               NaN   \n",
       "1         18.6            36.6              12.33               NaN   \n",
       "2         37.2            66.1              11.70               NaN   \n",
       "\n",
       "    latitude  longitude continent  \n",
       "0  33.939110  67.709953      Asia  \n",
       "1  41.153332  20.168331    Europe  \n",
       "2  28.033886   1.659626    Africa  "
      ]
     },
     "execution_count": 87,
     "metadata": {},
     "output_type": "execute_result"
    }
   ],
   "source": [
    "df = pd.read_csv('World_data_full_apply.csv', index_col = 0)\n",
    "df.head(3)"
   ]
  },
  {
   "cell_type": "code",
   "execution_count": 88,
   "metadata": {},
   "outputs": [],
   "source": [
    "df_copia = df.copy() # Copiamos nuestro dataframe original.\n",
    "df_copia_seguridad = df.copy()"
   ]
  },
  {
   "cell_type": "code",
   "execution_count": 89,
   "metadata": {},
   "outputs": [
    {
     "data": {
      "text/plain": [
       "Index(['country', 'density', 'abbreviation', 'agricultural_land', 'land_area',\n",
       "       'armed_forces_size', 'birth_rate', 'calling_code', 'capital_major_city',\n",
       "       'co2_emissions', 'cpi', 'cpi_change', 'currency_code', 'fertility_rate',\n",
       "       'forested_area', 'gasoline_price', 'gdp',\n",
       "       'gross_primary_education_enrollment',\n",
       "       'gross_tertiary_education_enrollment', 'infant_mortality',\n",
       "       'largest_city', 'life_expectancy', 'maternal_mortality_ratio',\n",
       "       'minimum_wage', 'official_language', 'out_of_pocket_health_expenditure',\n",
       "       'physicians_per_thousand', 'population',\n",
       "       'population_labor_force_participation', 'tax_revenue', 'total_tax_rate',\n",
       "       'unemployment_rate', 'urban_population', 'latitude', 'longitude',\n",
       "       'continent'],\n",
       "      dtype='object')"
      ]
     },
     "execution_count": 89,
     "metadata": {},
     "output_type": "execute_result"
    }
   ],
   "source": [
    "# Cambiamos los nombres de algunas columnas\n",
    "nuevo_nombre = {'capital/major_city':'capital_major_city','currency-code': 'currency_code', 'co2-emissions':'co2_emissions'}\n",
    "df.rename(columns=nuevo_nombre, inplace=True)\n",
    "df.columns"
   ]
  },
  {
   "cell_type": "markdown",
   "metadata": {},
   "source": [
    "Identificación de Valores Nulos."
   ]
  },
  {
   "cell_type": "code",
   "execution_count": 90,
   "metadata": {},
   "outputs": [
    {
     "name": "stdout",
     "output_type": "stream",
     "text": [
      "<class 'pandas.core.frame.DataFrame'>\n",
      "Index: 195 entries, 0 to 194\n",
      "Data columns (total 36 columns):\n",
      " #   Column                                Non-Null Count  Dtype  \n",
      "---  ------                                --------------  -----  \n",
      " 0   country                               195 non-null    object \n",
      " 1   density                               195 non-null    float64\n",
      " 2   abbreviation                          188 non-null    object \n",
      " 3   agricultural_land                     188 non-null    float64\n",
      " 4   land_area                             165 non-null    float64\n",
      " 5   armed_forces_size                     166 non-null    float64\n",
      " 6   birth_rate                            189 non-null    float64\n",
      " 7   calling_code                          194 non-null    float64\n",
      " 8   capital_major_city                    192 non-null    object \n",
      " 9   co2_emissions                         183 non-null    float64\n",
      " 10  cpi                                   175 non-null    float64\n",
      " 11  cpi_change                            179 non-null    float64\n",
      " 12  currency_code                         180 non-null    object \n",
      " 13  fertility_rate                        188 non-null    float64\n",
      " 14  forested_area                         188 non-null    float64\n",
      " 15  gasoline_price                        175 non-null    float64\n",
      " 16  gdp                                   193 non-null    float64\n",
      " 17  gross_primary_education_enrollment    188 non-null    float64\n",
      " 18  gross_tertiary_education_enrollment   183 non-null    float64\n",
      " 19  infant_mortality                      189 non-null    float64\n",
      " 20  largest_city                          189 non-null    object \n",
      " 21  life_expectancy                       187 non-null    float64\n",
      " 22  maternal_mortality_ratio              181 non-null    float64\n",
      " 23  minimum_wage                          150 non-null    float64\n",
      " 24  official_language                     190 non-null    object \n",
      " 25  out_of_pocket_health_expenditure      188 non-null    float64\n",
      " 26  physicians_per_thousand               188 non-null    float64\n",
      " 27  population                            39 non-null     float64\n",
      " 28  population_labor_force_participation  176 non-null    float64\n",
      " 29  tax_revenue                           169 non-null    float64\n",
      " 30  total_tax_rate                        183 non-null    float64\n",
      " 31  unemployment_rate                     176 non-null    float64\n",
      " 32  urban_population                      45 non-null     float64\n",
      " 33  latitude                              194 non-null    float64\n",
      " 34  longitude                             194 non-null    float64\n",
      " 35  continent                             194 non-null    object \n",
      "dtypes: float64(29), object(7)\n",
      "memory usage: 56.4+ KB\n"
     ]
    }
   ],
   "source": [
    "df.info()"
   ]
  },
  {
   "cell_type": "code",
   "execution_count": 91,
   "metadata": {},
   "outputs": [
    {
     "data": {
      "text/plain": [
       "abbreviation                              7\n",
       "agricultural_land                         7\n",
       "land_area                                30\n",
       "armed_forces_size                        29\n",
       "birth_rate                                6\n",
       "calling_code                              1\n",
       "capital_major_city                        3\n",
       "co2_emissions                            12\n",
       "cpi                                      20\n",
       "cpi_change                               16\n",
       "currency_code                            15\n",
       "fertility_rate                            7\n",
       "forested_area                             7\n",
       "gasoline_price                           20\n",
       "gdp                                       2\n",
       "gross_primary_education_enrollment        7\n",
       "gross_tertiary_education_enrollment      12\n",
       "infant_mortality                          6\n",
       "largest_city                              6\n",
       "life_expectancy                           8\n",
       "maternal_mortality_ratio                 14\n",
       "minimum_wage                             45\n",
       "official_language                         5\n",
       "out_of_pocket_health_expenditure          7\n",
       "physicians_per_thousand                   7\n",
       "population                              156\n",
       "population_labor_force_participation     19\n",
       "tax_revenue                              26\n",
       "total_tax_rate                           12\n",
       "unemployment_rate                        19\n",
       "urban_population                        150\n",
       "latitude                                  1\n",
       "longitude                                 1\n",
       "continent                                 1\n",
       "dtype: int64"
      ]
     },
     "execution_count": 91,
     "metadata": {},
     "output_type": "execute_result"
    }
   ],
   "source": [
    "# Estudiamos las columnas del df que tienen valores nulos\n",
    "\n",
    "df.isnull().sum()[df.isnull().sum()>0]"
   ]
  },
  {
   "cell_type": "code",
   "execution_count": 92,
   "metadata": {},
   "outputs": [
    {
     "data": {
      "text/plain": [
       "(195, 29)"
      ]
     },
     "execution_count": 92,
     "metadata": {},
     "output_type": "execute_result"
    }
   ],
   "source": [
    "# El df solo las columnas numéricas sería:\n",
    "\n",
    "df_cols_numericas = df.select_dtypes(include=np.number) \n",
    "df_cols_numericas.shape"
   ]
  },
  {
   "cell_type": "code",
   "execution_count": 93,
   "metadata": {},
   "outputs": [
    {
     "data": {
      "text/plain": [
       "['agricultural_land',\n",
       " 'land_area',\n",
       " 'armed_forces_size',\n",
       " 'birth_rate',\n",
       " 'calling_code',\n",
       " 'co2_emissions',\n",
       " 'cpi',\n",
       " 'cpi_change',\n",
       " 'fertility_rate',\n",
       " 'forested_area',\n",
       " 'gasoline_price',\n",
       " 'gdp',\n",
       " 'gross_primary_education_enrollment',\n",
       " 'gross_tertiary_education_enrollment',\n",
       " 'infant_mortality',\n",
       " 'life_expectancy',\n",
       " 'maternal_mortality_ratio',\n",
       " 'minimum_wage',\n",
       " 'out_of_pocket_health_expenditure',\n",
       " 'physicians_per_thousand',\n",
       " 'population',\n",
       " 'population_labor_force_participation',\n",
       " 'tax_revenue',\n",
       " 'total_tax_rate',\n",
       " 'unemployment_rate',\n",
       " 'urban_population',\n",
       " 'latitude',\n",
       " 'longitude']"
      ]
     },
     "execution_count": 93,
     "metadata": {},
     "output_type": "execute_result"
    }
   ],
   "source": [
    "# ¿En qué columnas numéricas hay nulos?\n",
    "df_cols_numericas.isnull().sum()[df_cols_numericas.isnull().sum()>0]\n",
    "\n",
    "columnas_numericas_nulos = (df_cols_numericas.isnull().sum()[df_cols_numericas.isnull().sum()>0]).index.tolist()\n",
    "\n",
    "columnas_numericas_nulos"
   ]
  },
  {
   "cell_type": "code",
   "execution_count": 94,
   "metadata": {},
   "outputs": [
    {
     "data": {
      "text/plain": [
       "abbreviation           7\n",
       "capital_major_city     3\n",
       "currency_code         15\n",
       "largest_city           6\n",
       "official_language      5\n",
       "continent              1\n",
       "dtype: int64"
      ]
     },
     "execution_count": 94,
     "metadata": {},
     "output_type": "execute_result"
    }
   ],
   "source": [
    "df_columnas_categoricas = df.select_dtypes(include='object')\n",
    "\n",
    "# ¿En qué columnas categóricas hay nulos?\n",
    "\n",
    "df_columnas_categoricas.isnull().sum()[df_columnas_categoricas.isnull().sum()>0]"
   ]
  },
  {
   "cell_type": "code",
   "execution_count": 95,
   "metadata": {},
   "outputs": [],
   "source": [
    "columnas_categoricas_nulos = (df_columnas_categoricas.isnull().sum()[df_columnas_categoricas.isnull().sum()>0]).index.tolist()"
   ]
  },
  {
   "cell_type": "markdown",
   "metadata": {},
   "source": [
    "Comenzamos la gestión de los nulos de las columnas categóricas."
   ]
  },
  {
   "cell_type": "code",
   "execution_count": 96,
   "metadata": {},
   "outputs": [
    {
     "name": "stdout",
     "output_type": "stream",
     "text": [
      "-------------------------\n",
      "Analizando la columna ABBREVIATION: abbreviation\n",
      "Proporción de nulos: 7 nulos de un total de 195 columnas: 3.59%\n",
      " \n"
     ]
    },
    {
     "data": {
      "text/plain": [
       "abbreviation\n",
       "AF    0.005128\n",
       "AZ    0.005128\n",
       "BA    0.005128\n",
       "DZ    0.005128\n",
       "AD    0.005128\n",
       "        ...   \n",
       "UZ    0.005128\n",
       "VU    0.005128\n",
       "VE    0.005128\n",
       "VN    0.005128\n",
       "ZW    0.005128\n",
       "Name: count, Length: 188, dtype: float64"
      ]
     },
     "metadata": {},
     "output_type": "display_data"
    },
    {
     "name": "stdout",
     "output_type": "stream",
     "text": [
      "-------------------------\n",
      "Analizando la columna CAPITAL_MAJOR_CITY: capital_major_city\n",
      "Proporción de nulos: 3 nulos de un total de 195 columnas: 1.54%\n",
      " \n"
     ]
    },
    {
     "data": {
      "text/plain": [
       "capital_major_city\n",
       "Kabul               0.005128\n",
       "Tirana              0.005128\n",
       "Nassau, Bahamas     0.005128\n",
       "Algiers             0.005128\n",
       "Andorra la Vella    0.005128\n",
       "                      ...   \n",
       "Port Vila           0.005128\n",
       "Caracas             0.005128\n",
       "Hanoi               0.005128\n",
       "Sanaa               0.005128\n",
       "Harare              0.005128\n",
       "Name: count, Length: 192, dtype: float64"
      ]
     },
     "metadata": {},
     "output_type": "display_data"
    },
    {
     "name": "stdout",
     "output_type": "stream",
     "text": [
      "-------------------------\n",
      "Analizando la columna CURRENCY_CODE: currency_code\n",
      "Proporción de nulos: 15 nulos de un total de 195 columnas: 7.69%\n",
      " \n"
     ]
    },
    {
     "data": {
      "text/plain": [
       "currency_code\n",
       "EUR    0.117949\n",
       "XOF    0.041026\n",
       "XCD    0.030769\n",
       "USD    0.030769\n",
       "XAF    0.025641\n",
       "         ...   \n",
       "VED    0.005128\n",
       "VND    0.005128\n",
       "YER    0.005128\n",
       "SLL    0.005128\n",
       "ZMW    0.005128\n",
       "Name: count, Length: 133, dtype: float64"
      ]
     },
     "metadata": {},
     "output_type": "display_data"
    },
    {
     "name": "stdout",
     "output_type": "stream",
     "text": [
      "-------------------------\n",
      "Analizando la columna LARGEST_CITY: largest_city\n",
      "Proporción de nulos: 6 nulos de un total de 195 columnas: 3.08%\n",
      " \n"
     ]
    },
    {
     "data": {
      "text/plain": [
       "largest_city\n",
       "S����               0.010256\n",
       "Baku                0.005128\n",
       "Tuzla Canton        0.005128\n",
       "Algiers             0.005128\n",
       "Andorra la Vella    0.005128\n",
       "                      ...   \n",
       "Tashkent            0.005128\n",
       "Port Vila           0.005128\n",
       "Caracas             0.005128\n",
       "Ho Chi Minh City    0.005128\n",
       "Harare              0.005128\n",
       "Name: count, Length: 188, dtype: float64"
      ]
     },
     "metadata": {},
     "output_type": "display_data"
    },
    {
     "name": "stdout",
     "output_type": "stream",
     "text": [
      "-------------------------\n",
      "Analizando la columna OFFICIAL_LANGUAGE: official_language\n",
      "Proporción de nulos: 5 nulos de un total de 195 columnas: 2.56%\n",
      " \n"
     ]
    },
    {
     "data": {
      "text/plain": [
       "official_language\n",
       "English               0.158974\n",
       "French                0.128205\n",
       "Spanish               0.097436\n",
       "Arabic                0.092308\n",
       "Portuguese            0.035897\n",
       "                        ...   \n",
       "Slovene language      0.005128\n",
       "Malaysian language    0.005128\n",
       "Serbian               0.005128\n",
       "Samoan                0.005128\n",
       "Shona                 0.005128\n",
       "Name: count, Length: 76, dtype: float64"
      ]
     },
     "metadata": {},
     "output_type": "display_data"
    },
    {
     "name": "stdout",
     "output_type": "stream",
     "text": [
      "-------------------------\n",
      "Analizando la columna CONTINENT: continent\n",
      "Proporción de nulos: 1 nulos de un total de 195 columnas: 0.51%\n",
      " \n"
     ]
    },
    {
     "data": {
      "text/plain": [
       "continent\n",
       "Africa             0.271795\n",
       "Europe             0.241026\n",
       "Asia               0.230769\n",
       "Central America    0.102564\n",
       "Oceania            0.071795\n",
       "South America      0.066667\n",
       "North America      0.010256\n",
       "Name: count, dtype: float64"
      ]
     },
     "metadata": {},
     "output_type": "display_data"
    }
   ],
   "source": [
    "# Estudiamos la proporción de nulos\n",
    "\n",
    "for col in columnas_categoricas_nulos:\n",
    "    print(\"-------------------------\")\n",
    "    print(f\"Analizando la columna {col.upper()}: {col}\")\n",
    "    total_nulos = df[col].isnull().sum()\n",
    "    print(f\"Proporción de nulos: {total_nulos} nulos de un total de {df.shape[0]} columnas: {round(100*total_nulos/df.shape[0], 2)}%\\n \")\n",
    "    display((df[col].value_counts()/df.shape[0]).sort_values(ascending=False))"
   ]
  },
  {
   "cell_type": "markdown",
   "metadata": {},
   "source": [
    "No hay una gran cantidad de nulos (<10%).\n",
    "\n",
    "Como no hemos encontrado ninguna categoría dominante dentro de ninguna columna, imputaremos creando una nueva categoría con valor desconocido: 'unknown'"
   ]
  },
  {
   "cell_type": "code",
   "execution_count": 97,
   "metadata": {},
   "outputs": [],
   "source": [
    "df_copia = df.copy()"
   ]
  },
  {
   "cell_type": "code",
   "execution_count": 98,
   "metadata": {},
   "outputs": [
    {
     "name": "stdout",
     "output_type": "stream",
     "text": [
      "Total de nulos en columnas categóricas: 37\n"
     ]
    }
   ],
   "source": [
    "print(f\"Total de nulos en columnas categóricas: {(df_columnas_categoricas.isnull().sum()[df_columnas_categoricas.isnull().sum()>0]).sum()}\")"
   ]
  },
  {
   "cell_type": "code",
   "execution_count": 99,
   "metadata": {},
   "outputs": [
    {
     "name": "stdout",
     "output_type": "stream",
     "text": [
      "Total de nulos en columnas categóricas: 0\n"
     ]
    }
   ],
   "source": [
    "lista_columnas_imputar_con_unknown = ['abbreviation', 'capital_major_city', 'currency_code', 'largest_city', 'official_language','continent']\n",
    "\n",
    "\n",
    "for col in lista_columnas_imputar_con_unknown:\n",
    "    df[col] = df[col].fillna('unknown')\n",
    "\n",
    "print(f\"Total de nulos en columnas categóricas: {df[lista_columnas_imputar_con_unknown].isnull().sum().sum()}\")\n",
    "\n"
   ]
  },
  {
   "cell_type": "markdown",
   "metadata": {},
   "source": [
    "Ahora imputamos los valores faltantes de las columnas numéricas. "
   ]
  },
  {
   "cell_type": "code",
   "execution_count": 100,
   "metadata": {},
   "outputs": [
    {
     "name": "stdout",
     "output_type": "stream",
     "text": [
      "---------------------\n",
      "Analizando AGRICULTURAL_LAND: agricultural_land\n",
      "Proporción de nulos: 4.0%\n",
      "\n"
     ]
    },
    {
     "data": {
      "text/plain": [
       "agricultural_land\n",
       "17.4    0.015385\n",
       "33.3    0.010256\n",
       "39.3    0.010256\n",
       "32.4    0.010256\n",
       "26.3    0.010256\n",
       "          ...   \n",
       "62.9    0.005128\n",
       "15.3    0.005128\n",
       "24.5    0.005128\n",
       "32.1    0.005128\n",
       "41.9    0.005128\n",
       "Name: count, Length: 168, dtype: float64"
      ]
     },
     "metadata": {},
     "output_type": "display_data"
    },
    {
     "name": "stdout",
     "output_type": "stream",
     "text": [
      "---------------------\n",
      "Analizando LAND_AREA: land_area\n",
      "Proporción de nulos: 15.0%\n",
      "\n"
     ]
    },
    {
     "data": {
      "text/plain": [
       "land_area\n",
       "652.230    0.005128\n",
       "65.300     0.005128\n",
       "468.000    0.005128\n",
       "443.000    0.005128\n",
       "29.743     0.005128\n",
       "             ...   \n",
       "12.189     0.005128\n",
       "912.050    0.005128\n",
       "331.210    0.005128\n",
       "527.968    0.005128\n",
       "390.757    0.005128\n",
       "Name: count, Length: 165, dtype: float64"
      ]
     },
     "metadata": {},
     "output_type": "display_data"
    },
    {
     "name": "stdout",
     "output_type": "stream",
     "text": [
      "---------------------\n",
      "Analizando ARMED_FORCES_SIZE: armed_forces_size\n",
      "Proporción de nulos: 15.0%\n",
      "\n"
     ]
    },
    {
     "data": {
      "text/plain": [
       "armed_forces_size\n",
       "2.0      0.035897\n",
       "1.0      0.030769\n",
       "16.0     0.025641\n",
       "0.0      0.025641\n",
       "9.0      0.025641\n",
       "           ...   \n",
       "239.0    0.005128\n",
       "336.0    0.005128\n",
       "30.0     0.005128\n",
       "124.0    0.005128\n",
       "51.0     0.005128\n",
       "Name: count, Length: 100, dtype: float64"
      ]
     },
     "metadata": {},
     "output_type": "display_data"
    },
    {
     "name": "stdout",
     "output_type": "stream",
     "text": [
      "---------------------\n",
      "Analizando BIRTH_RATE: birth_rate\n",
      "Proporción de nulos: 3.0%\n",
      "\n"
     ]
    },
    {
     "data": {
      "text/plain": [
       "birth_rate\n",
       "12.00    0.015385\n",
       "10.00    0.015385\n",
       "9.20     0.010256\n",
       "9.70     0.010256\n",
       "17.55    0.010256\n",
       "           ...   \n",
       "29.60    0.005128\n",
       "17.88    0.005128\n",
       "30.45    0.005128\n",
       "36.19    0.005128\n",
       "30.68    0.005128\n",
       "Name: count, Length: 170, dtype: float64"
      ]
     },
     "metadata": {},
     "output_type": "display_data"
    },
    {
     "name": "stdout",
     "output_type": "stream",
     "text": [
      "---------------------\n",
      "Analizando CALLING_CODE: calling_code\n",
      "Proporción de nulos: 1.0%\n",
      "\n"
     ]
    },
    {
     "data": {
      "text/plain": [
       "calling_code\n",
       "1.0      0.061538\n",
       "7.0      0.010256\n",
       "355.0    0.005128\n",
       "593.0    0.005128\n",
       "973.0    0.005128\n",
       "           ...   \n",
       "998.0    0.005128\n",
       "678.0    0.005128\n",
       "58.0     0.005128\n",
       "84.0     0.005128\n",
       "263.0    0.005128\n",
       "Name: count, Length: 182, dtype: float64"
      ]
     },
     "metadata": {},
     "output_type": "display_data"
    },
    {
     "name": "stdout",
     "output_type": "stream",
     "text": [
      "---------------------\n",
      "Analizando CO2_EMISSIONS: co2_emissions\n",
      "Proporción de nulos: 6.0%\n",
      "\n"
     ]
    },
    {
     "data": {
      "text/plain": [
       "co2_emissions\n",
       "495.000    0.010256\n",
       "2.017      0.010256\n",
       "143.000    0.010256\n",
       "28.284     0.010256\n",
       "61.448     0.005128\n",
       "             ...   \n",
       "147.000    0.005128\n",
       "164.175    0.005128\n",
       "192.668    0.005128\n",
       "10.609     0.005128\n",
       "10.983     0.005128\n",
       "Name: count, Length: 179, dtype: float64"
      ]
     },
     "metadata": {},
     "output_type": "display_data"
    },
    {
     "name": "stdout",
     "output_type": "stream",
     "text": [
      "---------------------\n",
      "Analizando CPI: cpi\n",
      "Proporción de nulos: 10.0%\n",
      "\n"
     ]
    },
    {
     "data": {
      "text/plain": [
       "cpi\n",
       "110.62    0.010256\n",
       "106.58    0.010256\n",
       "99.55     0.010256\n",
       "107.43    0.005128\n",
       "119.80    0.005128\n",
       "            ...   \n",
       "117.24    0.005128\n",
       "202.92    0.005128\n",
       "117.13    0.005128\n",
       "163.52    0.005128\n",
       "105.51    0.005128\n",
       "Name: count, Length: 172, dtype: float64"
      ]
     },
     "metadata": {},
     "output_type": "display_data"
    },
    {
     "name": "stdout",
     "output_type": "stream",
     "text": [
      "---------------------\n",
      "Analizando CPI_CHANGE: cpi_change\n",
      "Proporción de nulos: 8.0%\n",
      "\n"
     ]
    },
    {
     "data": {
      "text/plain": [
       "cpi_change\n",
       "2.8     0.035897\n",
       "1.8     0.035897\n",
       "2.6     0.030769\n",
       "2.3     0.025641\n",
       "0.8     0.025641\n",
       "          ...   \n",
       "36.7    0.005128\n",
       "6.7     0.005128\n",
       "7.4     0.005128\n",
       "6.0     0.005128\n",
       "8.1     0.005128\n",
       "Name: count, Length: 86, dtype: float64"
      ]
     },
     "metadata": {},
     "output_type": "display_data"
    },
    {
     "name": "stdout",
     "output_type": "stream",
     "text": [
      "---------------------\n",
      "Analizando FERTILITY_RATE: fertility_rate\n",
      "Proporción de nulos: 4.0%\n",
      "\n"
     ]
    },
    {
     "data": {
      "text/plain": [
       "fertility_rate\n",
       "1.73    0.025641\n",
       "1.75    0.020513\n",
       "1.62    0.020513\n",
       "2.46    0.015385\n",
       "1.26    0.015385\n",
       "          ...   \n",
       "2.07    0.005128\n",
       "0.98    0.005128\n",
       "4.02    0.005128\n",
       "4.41    0.005128\n",
       "3.62    0.005128\n",
       "Name: count, Length: 139, dtype: float64"
      ]
     },
     "metadata": {},
     "output_type": "display_data"
    },
    {
     "name": "stdout",
     "output_type": "stream",
     "text": [
      "---------------------\n",
      "Analizando FORESTED_AREA: forested_area\n",
      "Proporción de nulos: 4.0%\n",
      "\n"
     ]
    },
    {
     "data": {
      "text/plain": [
       "forested_area\n",
       "43.1    0.015385\n",
       "33.2    0.015385\n",
       "12.6    0.015385\n",
       "32.7    0.015385\n",
       "0.0     0.015385\n",
       "          ...   \n",
       "63.4    0.005128\n",
       "15.4    0.005128\n",
       "7.6     0.005128\n",
       "98.3    0.005128\n",
       "35.5    0.005128\n",
       "Name: count, Length: 161, dtype: float64"
      ]
     },
     "metadata": {},
     "output_type": "display_data"
    },
    {
     "name": "stdout",
     "output_type": "stream",
     "text": [
      "---------------------\n",
      "Analizando GASOLINE_PRICE: gasoline_price\n",
      "Proporción de nulos: 10.0%\n",
      "\n"
     ]
    },
    {
     "data": {
      "text/plain": [
       "gasoline_price\n",
       "0.71    0.030769\n",
       "0.92    0.025641\n",
       "1.16    0.025641\n",
       "1.12    0.020513\n",
       "0.98    0.020513\n",
       "          ...   \n",
       "1.46    0.005128\n",
       "1.50    0.005128\n",
       "1.31    0.005128\n",
       "0.00    0.005128\n",
       "1.34    0.005128\n",
       "Name: count, Length: 101, dtype: float64"
      ]
     },
     "metadata": {},
     "output_type": "display_data"
    },
    {
     "name": "stdout",
     "output_type": "stream",
     "text": [
      "---------------------\n",
      "Analizando GDP: gdp\n",
      "Proporción de nulos: 1.0%\n",
      "\n"
     ]
    },
    {
     "data": {
      "text/plain": [
       "gdp\n",
       "1.910135e+10    0.005128\n",
       "1.527808e+10    0.005128\n",
       "1.282700e+10    0.005128\n",
       "1.699882e+11    0.005128\n",
       "3.154058e+09    0.005128\n",
       "                  ...   \n",
       "4.823593e+11    0.005128\n",
       "2.619212e+11    0.005128\n",
       "2.691440e+10    0.005128\n",
       "2.306472e+10    0.005128\n",
       "2.144076e+10    0.005128\n",
       "Name: count, Length: 193, dtype: float64"
      ]
     },
     "metadata": {},
     "output_type": "display_data"
    },
    {
     "name": "stdout",
     "output_type": "stream",
     "text": [
      "---------------------\n",
      "Analizando GROSS_PRIMARY_EDUCATION_ENROLLMENT: gross_primary_education_enrollment\n",
      "Proporción de nulos: 4.0%\n",
      "\n"
     ]
    },
    {
     "data": {
      "text/plain": [
       "gross_primary_education_enrollment\n",
       "104.0    0.020513\n",
       "100.9    0.020513\n",
       "99.4     0.015385\n",
       "106.4    0.015385\n",
       "100.3    0.015385\n",
       "           ...   \n",
       "94.2     0.005128\n",
       "115.3    0.005128\n",
       "123.8    0.005128\n",
       "116.3    0.005128\n",
       "93.6     0.005128\n",
       "Name: count, Length: 141, dtype: float64"
      ]
     },
     "metadata": {},
     "output_type": "display_data"
    },
    {
     "name": "stdout",
     "output_type": "stream",
     "text": [
      "---------------------\n",
      "Analizando GROSS_TERTIARY_EDUCATION_ENROLLMENT: gross_tertiary_education_enrollment\n",
      "Proporción de nulos: 6.0%\n",
      "\n"
     ]
    },
    {
     "data": {
      "text/plain": [
       "gross_tertiary_education_enrollment\n",
       "10.2    0.015385\n",
       "11.6    0.010256\n",
       "82.0    0.010256\n",
       "9.3     0.010256\n",
       "23.7    0.010256\n",
       "          ...   \n",
       "79.3    0.005128\n",
       "28.5    0.005128\n",
       "4.1     0.005128\n",
       "4.0     0.005128\n",
       "10.0    0.005128\n",
       "Name: count, Length: 171, dtype: float64"
      ]
     },
     "metadata": {},
     "output_type": "display_data"
    },
    {
     "name": "stdout",
     "output_type": "stream",
     "text": [
      "---------------------\n",
      "Analizando INFANT_MORTALITY: infant_mortality\n",
      "Proporción de nulos: 3.0%\n",
      "\n"
     ]
    },
    {
     "data": {
      "text/plain": [
       "infant_mortality\n",
       "3.6     0.020513\n",
       "6.1     0.020513\n",
       "3.1     0.020513\n",
       "9.8     0.015385\n",
       "13.6    0.015385\n",
       "          ...   \n",
       "33.8    0.005128\n",
       "7.5     0.005128\n",
       "6.5     0.005128\n",
       "5.6     0.005128\n",
       "33.9    0.005128\n",
       "Name: count, Length: 144, dtype: float64"
      ]
     },
     "metadata": {},
     "output_type": "display_data"
    },
    {
     "name": "stdout",
     "output_type": "stream",
     "text": [
      "---------------------\n",
      "Analizando LIFE_EXPECTANCY: life_expectancy\n",
      "Proporción de nulos: 4.0%\n",
      "\n"
     ]
    },
    {
     "data": {
      "text/plain": [
       "life_expectancy\n",
       "76.5    0.025641\n",
       "61.2    0.020513\n",
       "71.6    0.015385\n",
       "72.8    0.015385\n",
       "75.7    0.015385\n",
       "          ...   \n",
       "82.6    0.005128\n",
       "83.3    0.005128\n",
       "83.6    0.005128\n",
       "70.9    0.005128\n",
       "63.5    0.005128\n",
       "Name: count, Length: 134, dtype: float64"
      ]
     },
     "metadata": {},
     "output_type": "display_data"
    },
    {
     "name": "stdout",
     "output_type": "stream",
     "text": [
      "---------------------\n",
      "Analizando MATERNAL_MORTALITY_RATIO: maternal_mortality_ratio\n",
      "Proporción de nulos: 7.0%\n",
      "\n"
     ]
    },
    {
     "data": {
      "text/plain": [
       "maternal_mortality_ratio\n",
       "5.0      0.041026\n",
       "19.0     0.030769\n",
       "8.0      0.025641\n",
       "3.0      0.025641\n",
       "17.0     0.025641\n",
       "           ...   \n",
       "142.0    0.005128\n",
       "396.0    0.005128\n",
       "67.0     0.005128\n",
       "375.0    0.005128\n",
       "458.0    0.005128\n",
       "Name: count, Length: 114, dtype: float64"
      ]
     },
     "metadata": {},
     "output_type": "display_data"
    },
    {
     "name": "stdout",
     "output_type": "stream",
     "text": [
      "---------------------\n",
      "Analizando MINIMUM_WAGE: minimum_wage\n",
      "Proporción de nulos: 23.0%\n",
      "\n"
     ]
    },
    {
     "data": {
      "text/plain": [
       "minimum_wage\n",
       "0.41    0.015385\n",
       "2.00    0.015385\n",
       "0.09    0.010256\n",
       "1.57    0.010256\n",
       "0.34    0.010256\n",
       "          ...   \n",
       "6.49    0.005128\n",
       "5.60    0.005128\n",
       "1.06    0.005128\n",
       "3.45    0.005128\n",
       "0.73    0.005128\n",
       "Name: count, Length: 114, dtype: float64"
      ]
     },
     "metadata": {},
     "output_type": "display_data"
    },
    {
     "name": "stdout",
     "output_type": "stream",
     "text": [
      "---------------------\n",
      "Analizando OUT_OF_POCKET_HEALTH_EXPENDITURE: out_of_pocket_health_expenditure\n",
      "Proporción de nulos: 4.0%\n",
      "\n"
     ]
    },
    {
     "data": {
      "text/plain": [
       "out_of_pocket_health_expenditure\n",
       "40.5    0.015385\n",
       "36.7    0.015385\n",
       "15.2    0.015385\n",
       "25.9    0.010256\n",
       "19.6    0.010256\n",
       "          ...   \n",
       "47.8    0.005128\n",
       "0.7     0.005128\n",
       "71.1    0.005128\n",
       "39.8    0.005128\n",
       "25.8    0.005128\n",
       "Name: count, Length: 160, dtype: float64"
      ]
     },
     "metadata": {},
     "output_type": "display_data"
    },
    {
     "name": "stdout",
     "output_type": "stream",
     "text": [
      "---------------------\n",
      "Analizando PHYSICIANS_PER_THOUSAND: physicians_per_thousand\n",
      "Proporción de nulos: 4.0%\n",
      "\n"
     ]
    },
    {
     "data": {
      "text/plain": [
       "physicians_per_thousand\n",
       "0.08    0.030769\n",
       "0.07    0.020513\n",
       "0.04    0.020513\n",
       "2.61    0.015385\n",
       "0.17    0.015385\n",
       "          ...   \n",
       "2.99    0.005128\n",
       "1.70    0.005128\n",
       "0.92    0.005128\n",
       "1.85    0.005128\n",
       "1.19    0.005128\n",
       "Name: count, Length: 152, dtype: float64"
      ]
     },
     "metadata": {},
     "output_type": "display_data"
    },
    {
     "name": "stdout",
     "output_type": "stream",
     "text": [
      "---------------------\n",
      "Analizando POPULATION: population\n",
      "Proporción de nulos: 80.0%\n",
      "\n"
     ]
    },
    {
     "data": {
      "text/plain": [
       "population\n",
       "77.142     0.005128\n",
       "71.808     0.005128\n",
       "389.482    0.005128\n",
       "287.025    0.005128\n",
       "390.353    0.005128\n",
       "727.145    0.005128\n",
       "433.285    0.005128\n",
       "483.628    0.005128\n",
       "850.886    0.005128\n",
       "645.397    0.005128\n",
       "97.118     0.005128\n",
       "889.953    0.005128\n",
       "112.003    0.005128\n",
       "782.766    0.005128\n",
       "836.000    0.005128\n",
       "361.313    0.005128\n",
       "117.606    0.005128\n",
       "38.019     0.005128\n",
       "973.560    0.005128\n",
       "530.953    0.005128\n",
       "100.455    0.005128\n",
       "202.506    0.005128\n",
       "113.815    0.005128\n",
       "38.964     0.005128\n",
       "622.137    0.005128\n",
       "10.084     0.005128\n",
       "18.233     0.005128\n",
       "52.823     0.005128\n",
       "182.790    0.005128\n",
       "502.653    0.005128\n",
       "58.791     0.005128\n",
       "33.860     0.005128\n",
       "215.056    0.005128\n",
       "97.625     0.005128\n",
       "669.823    0.005128\n",
       "581.372    0.005128\n",
       "100.209    0.005128\n",
       "11.646     0.005128\n",
       "299.882    0.005128\n",
       "Name: count, dtype: float64"
      ]
     },
     "metadata": {},
     "output_type": "display_data"
    },
    {
     "name": "stdout",
     "output_type": "stream",
     "text": [
      "---------------------\n",
      "Analizando POPULATION_LABOR_FORCE_PARTICIPATION: population_labor_force_participation\n",
      "Proporción de nulos: 10.0%\n",
      "\n"
     ]
    },
    {
     "data": {
      "text/plain": [
       "population_labor_force_participation\n",
       "68.8    0.015385\n",
       "72.0    0.015385\n",
       "65.1    0.015385\n",
       "68.0    0.010256\n",
       "59.1    0.010256\n",
       "          ...   \n",
       "60.0    0.005128\n",
       "46.1    0.005128\n",
       "52.8    0.005128\n",
       "64.5    0.005128\n",
       "83.1    0.005128\n",
       "Name: count, Length: 145, dtype: float64"
      ]
     },
     "metadata": {},
     "output_type": "display_data"
    },
    {
     "name": "stdout",
     "output_type": "stream",
     "text": [
      "---------------------\n",
      "Analizando TAX_REVENUE: tax_revenue\n",
      "Proporción de nulos: 13.0%\n",
      "\n"
     ]
    },
    {
     "data": {
      "text/plain": [
       "tax_revenue\n",
       "19.5    0.020513\n",
       "13.6    0.015385\n",
       "18.6    0.015385\n",
       "20.1    0.015385\n",
       "23.0    0.015385\n",
       "          ...   \n",
       "34.1    0.005128\n",
       "21.3    0.005128\n",
       "18.7    0.005128\n",
       "8.0     0.005128\n",
       "16.2    0.005128\n",
       "Name: count, Length: 119, dtype: float64"
      ]
     },
     "metadata": {},
     "output_type": "display_data"
    },
    {
     "name": "stdout",
     "output_type": "stream",
     "text": [
      "---------------------\n",
      "Analizando TOTAL_TAX_RATE: total_tax_rate\n",
      "Proporción de nulos: 6.0%\n",
      "\n"
     ]
    },
    {
     "data": {
      "text/plain": [
       "total_tax_rate\n",
       "36.6    0.020513\n",
       "49.7    0.015385\n",
       "47.8    0.010256\n",
       "38.7    0.010256\n",
       "31.6    0.010256\n",
       "          ...   \n",
       "45.2    0.005128\n",
       "33.7    0.005128\n",
       "42.3    0.005128\n",
       "40.5    0.005128\n",
       "15.6    0.005128\n",
       "Name: count, Length: 156, dtype: float64"
      ]
     },
     "metadata": {},
     "output_type": "display_data"
    },
    {
     "name": "stdout",
     "output_type": "stream",
     "text": [
      "---------------------\n",
      "Analizando UNEMPLOYMENT_RATE: unemployment_rate\n",
      "Proporción de nulos: 10.0%\n",
      "\n"
     ]
    },
    {
     "data": {
      "text/plain": [
       "unemployment_rate\n",
       "4.59     0.015385\n",
       "11.85    0.010256\n",
       "6.33     0.010256\n",
       "4.11     0.010256\n",
       "3.47     0.010256\n",
       "           ...   \n",
       "8.80     0.005128\n",
       "2.01     0.005128\n",
       "12.91    0.005128\n",
       "11.43    0.005128\n",
       "4.95     0.005128\n",
       "Name: count, Length: 164, dtype: float64"
      ]
     },
     "metadata": {},
     "output_type": "display_data"
    },
    {
     "name": "stdout",
     "output_type": "stream",
     "text": [
      "---------------------\n",
      "Analizando URBAN_POPULATION: urban_population\n",
      "Proporción de nulos: 77.0%\n",
      "\n"
     ]
    },
    {
     "data": {
      "text/plain": [
       "urban_population\n",
       "67.873     0.005128\n",
       "23.800     0.005128\n",
       "323.784    0.005128\n",
       "89.431     0.005128\n",
       "179.039    0.005128\n",
       "317.538    0.005128\n",
       "337.711    0.005128\n",
       "364.029    0.005128\n",
       "248.152    0.005128\n",
       "800.708    0.005128\n",
       "758.549    0.005128\n",
       "50.830     0.005128\n",
       "984.812    0.005128\n",
       "916.024    0.005128\n",
       "505.048    0.005128\n",
       "40.765     0.005128\n",
       "840.922    0.005128\n",
       "208.912    0.005128\n",
       "339.110    0.005128\n",
       "64.489     0.005128\n",
       "607.508    0.005128\n",
       "5.464      0.005128\n",
       "565.488    0.005128\n",
       "213.645    0.005128\n",
       "475.902    0.005128\n",
       "45.514     0.005128\n",
       "515.980    0.005128\n",
       "25.963     0.005128\n",
       "38.964     0.005128\n",
       "417.765    0.005128\n",
       "14.491     0.005128\n",
       "16.269     0.005128\n",
       "34.280     0.005128\n",
       "58.185     0.005128\n",
       "35.588     0.005128\n",
       "32.969     0.005128\n",
       "158.277    0.005128\n",
       "55.762     0.005128\n",
       "162.164    0.005128\n",
       "384.258    0.005128\n",
       "400.182    0.005128\n",
       "24.145     0.005128\n",
       "741.944    0.005128\n",
       "7.362      0.005128\n",
       "76.152     0.005128\n",
       "Name: count, dtype: float64"
      ]
     },
     "metadata": {},
     "output_type": "display_data"
    },
    {
     "name": "stdout",
     "output_type": "stream",
     "text": [
      "---------------------\n",
      "Analizando LATITUDE: latitude\n",
      "Proporción de nulos: 1.0%\n",
      "\n"
     ]
    },
    {
     "data": {
      "text/plain": [
       "latitude\n",
       " 33.939110    0.005128\n",
       " 11.825138    0.005128\n",
       "-14.235004    0.005128\n",
       " 25.034280    0.005128\n",
       " 28.033886    0.005128\n",
       "                ...   \n",
       "-15.376706    0.005128\n",
       " 6.423750     0.005128\n",
       " 14.058324    0.005128\n",
       " 15.552727    0.005128\n",
       "-19.015438    0.005128\n",
       "Name: count, Length: 194, dtype: float64"
      ]
     },
     "metadata": {},
     "output_type": "display_data"
    },
    {
     "name": "stdout",
     "output_type": "stream",
     "text": [
      "---------------------\n",
      "Analizando LONGITUDE: longitude\n",
      "Proporción de nulos: 1.0%\n",
      "\n"
     ]
    },
    {
     "data": {
      "text/plain": [
       "longitude\n",
       " 67.709953     0.005128\n",
       " 42.590275     0.005128\n",
       "-51.925280     0.005128\n",
       "-77.396280     0.005128\n",
       " 1.659626      0.005128\n",
       "                 ...   \n",
       " 166.959158    0.005128\n",
       "-66.589730     0.005128\n",
       " 108.277199    0.005128\n",
       " 48.516388     0.005128\n",
       " 29.154857     0.005128\n",
       "Name: count, Length: 194, dtype: float64"
      ]
     },
     "metadata": {},
     "output_type": "display_data"
    }
   ],
   "source": [
    "for col in columnas_numericas_nulos:\n",
    "    print(\"---------------------\")\n",
    "    print(f\"Analizando {col.upper()}: {col}\")\n",
    "    total_nulos = df[col].isnull().sum() \n",
    "    print(f\"Proporción de nulos: {np.round(100*total_nulos/df.shape[0])}%\\n\")\n",
    "    display(df[col].value_counts().sort_values(ascending=False)/df.shape[0])"
   ]
  },
  {
   "cell_type": "markdown",
   "metadata": {},
   "source": [
    "Hay varias columnas numéricas con una proporción de nulos de 10% o más. \n",
    "\n",
    "Analizamos los outliers para decidir si usamos métodos simples o complejos."
   ]
  },
  {
   "cell_type": "code",
   "execution_count": 101,
   "metadata": {},
   "outputs": [
    {
     "data": {
      "image/png": "[encoded data removed]",
      "text/plain": [
       "<Figure size 2000x10000 with 27 Axes>"
      ]
     },
     "metadata": {},
     "output_type": "display_data"
    }
   ],
   "source": [
    "# Tenemos 28 valores. Los visualizamos\n",
    "\n",
    "fig, axes = plt.subplots(nrows = 14, ncols = 2, figsize = (20,100)) \n",
    "\n",
    "axes = axes.flat\n",
    "\n",
    "for indice, col in enumerate(columnas_numericas_nulos):\n",
    "    sns.boxplot(x = col, data = df, ax = axes[indice])\n",
    "    \n",
    "plt.tight_layout()\n",
    "fig.delaxes(axes[-1])"
   ]
  },
  {
   "cell_type": "markdown",
   "metadata": {},
   "source": [
    "Interpretación de los resultados:\n",
    "\n",
    "Evaluaremos con métodos de imputación complejos las columnas con proporción de nulos superior a 10% o que presenten valores atípicos. El resto, las imputaremos con métodos simples y la media o la mediana."
   ]
  },
  {
   "cell_type": "code",
   "execution_count": 102,
   "metadata": {},
   "outputs": [],
   "source": [
    "columnas_para_imputacion_compleja = [\n",
    "                                        'urban_population', \n",
    "                                        'population', \n",
    "                                        'armed_forces_size', \n",
    "                                        'co2_emissions', 'cpi', \n",
    "                                        'cpi_change', \n",
    "                                        'gdp', 'gross_primary_education_enrollment', \n",
    "                                        'infant_mortality', \n",
    "                                        'maternal_mortality_ratio', \n",
    "                                        'minimum_wage', \n",
    "                                        'total_tax_rate', 'unemployment_rate', \n",
    "                                        'calling_code', \n",
    "                                        'fertility_rate', \n",
    "                                        'gasoline_price', \n",
    "                                        'physicians_per_thousand', \n",
    "                                        'tax_revenue'\n",
    "                                    ]\n",
    "\n",
    "columnas_para_imputacion_simple = [     \n",
    "                                        'agricultural_land',\n",
    "                                        'land_area',\n",
    "                                        'birth_rate',\n",
    "                                        'forested_area',\n",
    "                                        'gross_tertiary_education_enrollment',\n",
    "                                        'life_expectancy',\n",
    "                                        'out_of_pocket_health_expenditure',\n",
    "                                        'population_labor_force_participation',\n",
    "                                        'latitude',\n",
    "                                        'longitude'\n",
    "                            ]"
   ]
  },
  {
   "cell_type": "code",
   "execution_count": 103,
   "metadata": {},
   "outputs": [
    {
     "data": {
      "text/html": [
       "<div>\n",
       "<style scoped>\n",
       "    .dataframe tbody tr th:only-of-type {\n",
       "        vertical-align: middle;\n",
       "    }\n",
       "\n",
       "    .dataframe tbody tr th {\n",
       "        vertical-align: top;\n",
       "    }\n",
       "\n",
       "    .dataframe thead th {\n",
       "        text-align: right;\n",
       "    }\n",
       "</style>\n",
       "<table border=\"1\" class=\"dataframe\">\n",
       "  <thead>\n",
       "    <tr style=\"text-align: right;\">\n",
       "      <th></th>\n",
       "      <th>agricultural_land</th>\n",
       "      <th>land_area</th>\n",
       "      <th>birth_rate</th>\n",
       "      <th>forested_area</th>\n",
       "      <th>gross_tertiary_education_enrollment</th>\n",
       "      <th>life_expectancy</th>\n",
       "      <th>out_of_pocket_health_expenditure</th>\n",
       "      <th>population_labor_force_participation</th>\n",
       "      <th>latitude</th>\n",
       "      <th>longitude</th>\n",
       "    </tr>\n",
       "  </thead>\n",
       "  <tbody>\n",
       "    <tr>\n",
       "      <th>count</th>\n",
       "      <td>188.000000</td>\n",
       "      <td>165.000000</td>\n",
       "      <td>189.000000</td>\n",
       "      <td>188.000000</td>\n",
       "      <td>183.000000</td>\n",
       "      <td>187.000000</td>\n",
       "      <td>188.000000</td>\n",
       "      <td>176.000000</td>\n",
       "      <td>194.000000</td>\n",
       "      <td>194.000000</td>\n",
       "    </tr>\n",
       "    <tr>\n",
       "      <th>mean</th>\n",
       "      <td>39.117553</td>\n",
       "      <td>255.212661</td>\n",
       "      <td>20.214974</td>\n",
       "      <td>32.015426</td>\n",
       "      <td>37.963388</td>\n",
       "      <td>72.279679</td>\n",
       "      <td>32.637234</td>\n",
       "      <td>62.738068</td>\n",
       "      <td>19.092351</td>\n",
       "      <td>20.232434</td>\n",
       "    </tr>\n",
       "    <tr>\n",
       "      <th>std</th>\n",
       "      <td>21.783052</td>\n",
       "      <td>258.385008</td>\n",
       "      <td>9.945774</td>\n",
       "      <td>23.791331</td>\n",
       "      <td>29.261022</td>\n",
       "      <td>7.483661</td>\n",
       "      <td>19.172697</td>\n",
       "      <td>10.502907</td>\n",
       "      <td>23.961779</td>\n",
       "      <td>66.716110</td>\n",
       "    </tr>\n",
       "    <tr>\n",
       "      <th>min</th>\n",
       "      <td>0.600000</td>\n",
       "      <td>0.000000</td>\n",
       "      <td>5.900000</td>\n",
       "      <td>0.000000</td>\n",
       "      <td>0.800000</td>\n",
       "      <td>52.800000</td>\n",
       "      <td>0.200000</td>\n",
       "      <td>38.000000</td>\n",
       "      <td>-40.900557</td>\n",
       "      <td>-175.198242</td>\n",
       "    </tr>\n",
       "    <tr>\n",
       "      <th>25%</th>\n",
       "      <td>21.700000</td>\n",
       "      <td>41.277000</td>\n",
       "      <td>11.300000</td>\n",
       "      <td>11.000000</td>\n",
       "      <td>12.150000</td>\n",
       "      <td>67.000000</td>\n",
       "      <td>17.450000</td>\n",
       "      <td>56.150000</td>\n",
       "      <td>4.544175</td>\n",
       "      <td>-7.941496</td>\n",
       "    </tr>\n",
       "    <tr>\n",
       "      <th>50%</th>\n",
       "      <td>39.600000</td>\n",
       "      <td>148.460000</td>\n",
       "      <td>17.950000</td>\n",
       "      <td>32.000000</td>\n",
       "      <td>31.200000</td>\n",
       "      <td>73.200000</td>\n",
       "      <td>30.700000</td>\n",
       "      <td>62.450000</td>\n",
       "      <td>17.273849</td>\n",
       "      <td>20.972652</td>\n",
       "    </tr>\n",
       "    <tr>\n",
       "      <th>75%</th>\n",
       "      <td>55.375000</td>\n",
       "      <td>430.000000</td>\n",
       "      <td>28.750000</td>\n",
       "      <td>48.175000</td>\n",
       "      <td>63.150000</td>\n",
       "      <td>77.500000</td>\n",
       "      <td>43.975000</td>\n",
       "      <td>69.500000</td>\n",
       "      <td>40.124603</td>\n",
       "      <td>48.281523</td>\n",
       "    </tr>\n",
       "    <tr>\n",
       "      <th>max</th>\n",
       "      <td>82.600000</td>\n",
       "      <td>964.000000</td>\n",
       "      <td>46.080000</td>\n",
       "      <td>98.300000</td>\n",
       "      <td>136.600000</td>\n",
       "      <td>85.400000</td>\n",
       "      <td>81.600000</td>\n",
       "      <td>86.800000</td>\n",
       "      <td>64.963051</td>\n",
       "      <td>178.065032</td>\n",
       "    </tr>\n",
       "  </tbody>\n",
       "</table>\n",
       "</div>"
      ],
      "text/plain": [
       "       agricultural_land   land_area  birth_rate  forested_area  \\\n",
       "count         188.000000  165.000000  189.000000     188.000000   \n",
       "mean           39.117553  255.212661   20.214974      32.015426   \n",
       "std            21.783052  258.385008    9.945774      23.791331   \n",
       "min             0.600000    0.000000    5.900000       0.000000   \n",
       "25%            21.700000   41.277000   11.300000      11.000000   \n",
       "50%            39.600000  148.460000   17.950000      32.000000   \n",
       "75%            55.375000  430.000000   28.750000      48.175000   \n",
       "max            82.600000  964.000000   46.080000      98.300000   \n",
       "\n",
       "       gross_tertiary_education_enrollment  life_expectancy  \\\n",
       "count                           183.000000       187.000000   \n",
       "mean                             37.963388        72.279679   \n",
       "std                              29.261022         7.483661   \n",
       "min                               0.800000        52.800000   \n",
       "25%                              12.150000        67.000000   \n",
       "50%                              31.200000        73.200000   \n",
       "75%                              63.150000        77.500000   \n",
       "max                             136.600000        85.400000   \n",
       "\n",
       "       out_of_pocket_health_expenditure  population_labor_force_participation  \\\n",
       "count                        188.000000                            176.000000   \n",
       "mean                          32.637234                             62.738068   \n",
       "std                           19.172697                             10.502907   \n",
       "min                            0.200000                             38.000000   \n",
       "25%                           17.450000                             56.150000   \n",
       "50%                           30.700000                             62.450000   \n",
       "75%                           43.975000                             69.500000   \n",
       "max                           81.600000                             86.800000   \n",
       "\n",
       "         latitude   longitude  \n",
       "count  194.000000  194.000000  \n",
       "mean    19.092351   20.232434  \n",
       "std     23.961779   66.716110  \n",
       "min    -40.900557 -175.198242  \n",
       "25%      4.544175   -7.941496  \n",
       "50%     17.273849   20.972652  \n",
       "75%     40.124603   48.281523  \n",
       "max     64.963051  178.065032  "
      ]
     },
     "execution_count": 103,
     "metadata": {},
     "output_type": "execute_result"
    }
   ],
   "source": [
    "# Evaluamos si elegir media o mediana en las de imputación simples.\n",
    "\n",
    "df[columnas_para_imputacion_simple].describe()"
   ]
  },
  {
   "cell_type": "code",
   "execution_count": 104,
   "metadata": {},
   "outputs": [],
   "source": [
    "imputacion_con_mediana = ['land_area', 'forested_area', 'birth_rate', 'gross_tertiary_education_enrollment', 'latitude' ]\n",
    "\n",
    "imputacion_con_media = ['agricultural_land', 'forested_area', 'life_expectancy', 'out_of_pocket_health_expenditure', 'population_labor_force_participation', 'longitude']"
   ]
  },
  {
   "cell_type": "code",
   "execution_count": 105,
   "metadata": {},
   "outputs": [],
   "source": [
    "df_otra_copia = df.copy()"
   ]
  },
  {
   "cell_type": "code",
   "execution_count": 106,
   "metadata": {},
   "outputs": [],
   "source": [
    "df_otra_copia2 = df_otra_copia.copy() # Nueva copia de seguridad "
   ]
  },
  {
   "cell_type": "code",
   "execution_count": 107,
   "metadata": {},
   "outputs": [
    {
     "name": "stdout",
     "output_type": "stream",
     "text": [
      "Quedan 647 nulos por eliminar\n"
     ]
    }
   ],
   "source": [
    "print(f\"Quedan {(df[columnas_numericas_nulos].isnull().sum()).sum()} nulos por eliminar\")"
   ]
  },
  {
   "cell_type": "code",
   "execution_count": 108,
   "metadata": {},
   "outputs": [
    {
     "data": {
      "text/plain": [
       "49"
      ]
     },
     "execution_count": 108,
     "metadata": {},
     "output_type": "execute_result"
    }
   ],
   "source": [
    "df[imputacion_con_media].isnull().sum().sum()"
   ]
  },
  {
   "cell_type": "code",
   "execution_count": 109,
   "metadata": {},
   "outputs": [
    {
     "data": {
      "text/plain": [
       "56"
      ]
     },
     "execution_count": 109,
     "metadata": {},
     "output_type": "execute_result"
    }
   ],
   "source": [
    "df[imputacion_con_mediana].isnull().sum().sum()"
   ]
  },
  {
   "cell_type": "code",
   "execution_count": 110,
   "metadata": {},
   "outputs": [
    {
     "data": {
      "text/plain": [
       "49"
      ]
     },
     "execution_count": 110,
     "metadata": {},
     "output_type": "execute_result"
    }
   ],
   "source": [
    "(df[columnas_numericas_nulos].isnull().sum()).sum() #647 nulos\n",
    "(df[imputacion_con_mediana].isnull().sum()).sum() # 56 nulos\n",
    "(df[imputacion_con_media].isnull().sum()).sum()  #49 \n",
    "\n",
    "# Tenemos 105 nulos para eliminar con imputación sencilla."
   ]
  },
  {
   "cell_type": "code",
   "execution_count": 111,
   "metadata": {},
   "outputs": [
    {
     "data": {
      "text/plain": [
       "0"
      ]
     },
     "execution_count": 111,
     "metadata": {},
     "output_type": "execute_result"
    }
   ],
   "source": [
    "# Imputamos con media y mediana:\n",
    "\n",
    "for col in imputacion_con_mediana:\n",
    "    df[col] = df[col].fillna(df[col].median())\n",
    "\n",
    "\n",
    "for col in imputacion_con_media:\n",
    "    df[col] = df[col].fillna(df[col].mean())\n",
    "\n",
    "# Comprobamos si hemos eliminado los nulos.\n",
    "\n",
    "(df[imputacion_con_mediana].isnull().sum()).sum() #  0 nulos\n",
    "(df[imputacion_con_media].isnull().sum()).sum() #  0 nulos\n"
   ]
  },
  {
   "cell_type": "markdown",
   "metadata": {},
   "source": [
    "Terminamos con la imputación compleja."
   ]
  },
  {
   "cell_type": "code",
   "execution_count": 112,
   "metadata": {},
   "outputs": [
    {
     "data": {
      "text/plain": [
       "['urban_population',\n",
       " 'population',\n",
       " 'armed_forces_size',\n",
       " 'co2_emissions',\n",
       " 'cpi',\n",
       " 'cpi_change',\n",
       " 'gdp',\n",
       " 'gross_primary_education_enrollment',\n",
       " 'infant_mortality',\n",
       " 'maternal_mortality_ratio',\n",
       " 'minimum_wage',\n",
       " 'total_tax_rate',\n",
       " 'unemployment_rate',\n",
       " 'calling_code',\n",
       " 'fertility_rate',\n",
       " 'gasoline_price',\n",
       " 'physicians_per_thousand',\n",
       " 'tax_revenue']"
      ]
     },
     "execution_count": 112,
     "metadata": {},
     "output_type": "execute_result"
    }
   ],
   "source": [
    "columnas_para_imputacion_compleja"
   ]
  },
  {
   "cell_type": "code",
   "execution_count": 113,
   "metadata": {},
   "outputs": [
    {
     "data": {
      "text/plain": [
       "array([[6.24644735e+02, 5.08456393e+02, 3.23000000e+02, ...,\n",
       "        7.00000000e-01, 2.80000000e-01, 9.30000000e+00],\n",
       "       [3.37598654e+02, 4.53566186e+02, 9.00000000e+00, ...,\n",
       "        1.36000000e+00, 1.20000000e+00, 1.86000000e+01],\n",
       "       [1.79331230e+03, 1.74782367e+02, 3.17000000e+02, ...,\n",
       "        2.80000000e-01, 1.72000000e+00, 3.72000000e+01],\n",
       "       ...,\n",
       "       [4.64190733e+02, 4.79735369e+02, 4.00000000e+01, ...,\n",
       "        9.20000000e-01, 3.10000000e-01, 1.48164278e+01],\n",
       "       [5.61796880e+02, 5.91119395e+02, 1.60000000e+01, ...,\n",
       "        1.40000000e+00, 1.19000000e+00, 1.62000000e+01],\n",
       "       [6.71177457e+02, 7.52888842e+02, 5.10000000e+01, ...,\n",
       "        1.34000000e+00, 2.10000000e-01, 2.07000000e+01]])"
      ]
     },
     "execution_count": 113,
     "metadata": {},
     "output_type": "execute_result"
    }
   ],
   "source": [
    "columnas_para_imputacion_compleja\n",
    "\n",
    "# Empezamos por el IterativeImputer\n",
    "\n",
    "imputer_iterative = IterativeImputer(max_iter = 20, random_state = 42)\n",
    "\n",
    "imputer_iterative_imputado = imputer_iterative.fit_transform(df[columnas_para_imputacion_compleja])\n",
    "\n",
    "imputer_iterative_imputado"
   ]
  },
  {
   "cell_type": "code",
   "execution_count": 116,
   "metadata": {},
   "outputs": [],
   "source": [
    "\n",
    "df_copia_pre_complejos = df.copy()\n"
   ]
  },
  {
   "cell_type": "markdown",
   "metadata": {},
   "source": [
    "Aquí habría que comparar las dos imputaciones complejas y elegir la que menos se aleje de la estadística original."
   ]
  }
 ],
 "metadata": {
  "kernelspec": {
   "display_name": "base",
   "language": "python",
   "name": "python3"
  },
  "language_info": {
   "codemirror_mode": {
    "name": "ipython",
    "version": 3
   },
   "file_extension": ".py",
   "mimetype": "text/x-python",
   "name": "python",
   "nbconvert_exporter": "python",
   "pygments_lexer": "ipython3",
   "version": "3.12.4"
  }
 },
 "nbformat": 4,
 "nbformat_minor": 2
}
