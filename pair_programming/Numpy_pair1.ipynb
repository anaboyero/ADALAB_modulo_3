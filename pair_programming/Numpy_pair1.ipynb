{
 "cells": [
  {
   "cell_type": "markdown",
   "metadata": {},
   "source": [
    "# Creación e Indexación:"
   ]
  },
  {
   "cell_type": "markdown",
   "metadata": {},
   "source": [
    "\n",
    "1. Crea un array 1D con 50 valores aleatorio del 10 al 99. Accede a los elementos en las posiciones múltiplos de 5."
   ]
  },
  {
   "cell_type": "code",
   "execution_count": 23,
   "metadata": {},
   "outputs": [],
   "source": [
    "import numpy as np"
   ]
  },
  {
   "cell_type": "code",
   "execution_count": 24,
   "metadata": {},
   "outputs": [
    {
     "name": "stdout",
     "output_type": "stream",
     "text": [
      "[33 84 55 94 93 92 27 22 29 72 89 73 61 95 42 97 96 34 70 11 52 32 82 91\n",
      " 41 12 31 23 99 78 20 63 40 42 94 32 58 26 53 47 38 32 39 62 94 38 51 91\n",
      " 32 29]\n"
     ]
    }
   ],
   "source": [
    "array1 = np.random.randint(10, 100, size = 50)\n",
    "print(array1)"
   ]
  },
  {
   "cell_type": "code",
   "execution_count": 25,
   "metadata": {},
   "outputs": [
    {
     "data": {
      "text/plain": [
       "array([92, 89, 97, 52, 12, 20, 32, 38, 38], dtype=int32)"
      ]
     },
     "execution_count": 25,
     "metadata": {},
     "output_type": "execute_result"
    }
   ],
   "source": [
    "multiplos5 = array1[5::5]\n",
    "multiplos5"
   ]
  },
  {
   "cell_type": "markdown",
   "metadata": {},
   "source": [
    "2. Crea un array 1D con 30 valores del 1 al 20 (ambos incluidos). Utiliza indexación para obtener los elementos en las posiciones impares."
   ]
  },
  {
   "cell_type": "code",
   "execution_count": 26,
   "metadata": {},
   "outputs": [
    {
     "data": {
      "text/plain": [
       "array([ 1, 10, 10,  8, 17,  3, 11,  2,  9, 18,  4, 12, 17,  9,  7, 17, 16,\n",
       "        6,  1, 15,  8,  1, 10, 19,  6,  9,  5, 19,  6,  2], dtype=int32)"
      ]
     },
     "execution_count": 26,
     "metadata": {},
     "output_type": "execute_result"
    }
   ],
   "source": [
    "array2 = np.random.randint(1, 21, size = 30)\n",
    "array2"
   ]
  },
  {
   "cell_type": "code",
   "execution_count": 27,
   "metadata": {},
   "outputs": [
    {
     "data": {
      "text/plain": [
       "array([10,  8,  3,  2, 18, 12,  9, 17,  6, 15,  1, 19,  9, 19,  2],\n",
       "      dtype=int32)"
      ]
     },
     "execution_count": 27,
     "metadata": {},
     "output_type": "execute_result"
    }
   ],
   "source": [
    "array2[1::2]"
   ]
  },
  {
   "cell_type": "markdown",
   "metadata": {},
   "source": [
    "3. Crea un array 2D de forma (4, 6) con números aleatorios decimales (no deben estar comprendidos solo entre 0 y 1). Accede a la última fila de la matriz. Los decimales deben estar redondeados a 2 decimales."
   ]
  },
  {
   "cell_type": "code",
   "execution_count": 28,
   "metadata": {},
   "outputs": [
    {
     "data": {
      "text/plain": [
       "array([[ 9, 15,  2,  3,  1, 18],\n",
       "       [ 2, 19, 13, 19,  8,  9],\n",
       "       [ 2, 16, 15,  3,  9,  6],\n",
       "       [ 6,  2,  2, 19, 19, 14]], dtype=int32)"
      ]
     },
     "execution_count": 28,
     "metadata": {},
     "output_type": "execute_result"
    }
   ],
   "source": [
    "array_sum1 =np.random.randint(0, 20, (4,6)) \n",
    "array_sum1"
   ]
  },
  {
   "cell_type": "code",
   "execution_count": 29,
   "metadata": {},
   "outputs": [
    {
     "data": {
      "text/plain": [
       "array([[0.45128767, 0.76106155, 0.87692461, 0.07833208, 0.03833656,\n",
       "        0.68890099],\n",
       "       [0.89120845, 0.09587201, 0.8656617 , 0.5994791 , 0.00507982,\n",
       "        0.54097433],\n",
       "       [0.16985499, 0.55838894, 0.83353208, 0.53219921, 0.12833818,\n",
       "        0.24046577],\n",
       "       [0.22754827, 0.44605078, 0.31323408, 0.45791486, 0.90166897,\n",
       "        0.31419119]])"
      ]
     },
     "execution_count": 29,
     "metadata": {},
     "output_type": "execute_result"
    }
   ],
   "source": [
    "array_sum2 =np.random.rand(4,6)\n",
    "array_sum2"
   ]
  },
  {
   "cell_type": "code",
   "execution_count": 30,
   "metadata": {},
   "outputs": [
    {
     "data": {
      "text/plain": [
       "array([[ 9.45128767, 15.76106155,  2.87692461,  3.07833208,  1.03833656,\n",
       "        18.68890099],\n",
       "       [ 2.89120845, 19.09587201, 13.8656617 , 19.5994791 ,  8.00507982,\n",
       "         9.54097433],\n",
       "       [ 2.16985499, 16.55838894, 15.83353208,  3.53219921,  9.12833818,\n",
       "         6.24046577],\n",
       "       [ 6.22754827,  2.44605078,  2.31323408, 19.45791486, 19.90166897,\n",
       "        14.31419119]])"
      ]
     },
     "execution_count": 30,
     "metadata": {},
     "output_type": "execute_result"
    }
   ],
   "source": [
    "# Sumamos los dos array\n",
    "\n",
    "suma_array = np.add(array_sum1, array_sum2)\n",
    "suma_array"
   ]
  },
  {
   "cell_type": "code",
   "execution_count": 31,
   "metadata": {},
   "outputs": [
    {
     "data": {
      "text/plain": [
       "array([[ 9.45, 15.76,  2.88,  3.08,  1.04, 18.69],\n",
       "       [ 2.89, 19.1 , 13.87, 19.6 ,  8.01,  9.54],\n",
       "       [ 2.17, 16.56, 15.83,  3.53,  9.13,  6.24],\n",
       "       [ 6.23,  2.45,  2.31, 19.46, 19.9 , 14.31]])"
      ]
     },
     "execution_count": 31,
     "metadata": {},
     "output_type": "execute_result"
    }
   ],
   "source": [
    "# Redondeamos a 2 decimales\n",
    "\n",
    "redondeo = np.round(suma_array, 2)\n",
    "redondeo"
   ]
  },
  {
   "cell_type": "code",
   "execution_count": 32,
   "metadata": {},
   "outputs": [
    {
     "data": {
      "text/plain": [
       "array([ 6.23,  2.45,  2.31, 19.46, 19.9 , 14.31])"
      ]
     },
     "execution_count": 32,
     "metadata": {},
     "output_type": "execute_result"
    }
   ],
   "source": [
    "# Accedo a la última fila de la matriz\n",
    "\n",
    "ultima_fila = redondeo[-1]\n",
    "ultima_fila"
   ]
  },
  {
   "cell_type": "markdown",
   "metadata": {},
   "source": [
    "4. BONUS: Crea un array 3D de forma (2, 3, 5) y 30 elementos con números enteros entre 0 y 100 (ambos incluidos). Reemplaza los elementos en posiciones múltiplos de 3 por 0."
   ]
  },
  {
   "cell_type": "code",
   "execution_count": null,
   "metadata": {},
   "outputs": [],
   "source": []
  },
  {
   "cell_type": "markdown",
   "metadata": {},
   "source": [
    "# Reshape y Transpose:\n"
   ]
  },
  {
   "cell_type": "markdown",
   "metadata": {},
   "source": [
    "## Ejercicios con reshape:"
   ]
  },
  {
   "cell_type": "markdown",
   "metadata": {},
   "source": [
    "1. Crea un array 3D de forma (2, 3, 4) con valores aleatorios entre 1 y 100 (ambos inclusive). Utiliza reshape para convertirlo en un array 2D. Deberás pensar en la forma que es correcta para hacer este cambio."
   ]
  },
  {
   "cell_type": "code",
   "execution_count": 33,
   "metadata": {},
   "outputs": [
    {
     "data": {
      "text/plain": [
       "array([[[ 5, 53, 83, 40],\n",
       "        [86, 88, 69, 67],\n",
       "        [24, 37, 73, 76]],\n",
       "\n",
       "       [[24, 19, 57, 20],\n",
       "        [61, 25, 61,  7],\n",
       "        [80, 36, 78, 56]]], dtype=int32)"
      ]
     },
     "execution_count": 33,
     "metadata": {},
     "output_type": "execute_result"
    }
   ],
   "source": [
    "array_3d = np.random.randint(1, 101, (2,3,4)) \n",
    "array_3d"
   ]
  },
  {
   "cell_type": "code",
   "execution_count": 34,
   "metadata": {},
   "outputs": [
    {
     "data": {
      "text/plain": [
       "array([[ 5, 53],\n",
       "       [83, 40],\n",
       "       [86, 88],\n",
       "       [69, 67],\n",
       "       [24, 37],\n",
       "       [73, 76],\n",
       "       [24, 19],\n",
       "       [57, 20],\n",
       "       [61, 25],\n",
       "       [61,  7],\n",
       "       [80, 36],\n",
       "       [78, 56]], dtype=int32)"
      ]
     },
     "execution_count": 34,
     "metadata": {},
     "output_type": "execute_result"
    }
   ],
   "source": [
    "array_reshape = np.reshape(array_3d,(12,2))\n",
    "array_reshape"
   ]
  },
  {
   "cell_type": "code",
   "execution_count": 35,
   "metadata": {},
   "outputs": [
    {
     "name": "stdout",
     "output_type": "stream",
     "text": [
      "\u001b[1;31mSignature:\u001b[0m       \u001b[0mnp\u001b[0m\u001b[1;33m.\u001b[0m\u001b[0mreshape\u001b[0m\u001b[1;33m(\u001b[0m\u001b[0ma\u001b[0m\u001b[1;33m,\u001b[0m \u001b[1;33m/\u001b[0m\u001b[1;33m,\u001b[0m \u001b[0mshape\u001b[0m\u001b[1;33m=\u001b[0m\u001b[1;32mNone\u001b[0m\u001b[1;33m,\u001b[0m \u001b[1;33m*\u001b[0m\u001b[1;33m,\u001b[0m \u001b[0mnewshape\u001b[0m\u001b[1;33m=\u001b[0m\u001b[1;32mNone\u001b[0m\u001b[1;33m,\u001b[0m \u001b[0morder\u001b[0m\u001b[1;33m=\u001b[0m\u001b[1;34m'C'\u001b[0m\u001b[1;33m,\u001b[0m \u001b[0mcopy\u001b[0m\u001b[1;33m=\u001b[0m\u001b[1;32mNone\u001b[0m\u001b[1;33m)\u001b[0m\u001b[1;33m\u001b[0m\u001b[1;33m\u001b[0m\u001b[0m\n",
      "\u001b[1;31mCall signature:\u001b[0m  \u001b[0mnp\u001b[0m\u001b[1;33m.\u001b[0m\u001b[0mreshape\u001b[0m\u001b[1;33m(\u001b[0m\u001b[1;33m*\u001b[0m\u001b[0margs\u001b[0m\u001b[1;33m,\u001b[0m \u001b[1;33m**\u001b[0m\u001b[0mkwargs\u001b[0m\u001b[1;33m)\u001b[0m\u001b[1;33m\u001b[0m\u001b[1;33m\u001b[0m\u001b[0m\n",
      "\u001b[1;31mType:\u001b[0m            _ArrayFunctionDispatcher\n",
      "\u001b[1;31mString form:\u001b[0m     <function reshape at 0x000002A4E7ECC400>\n",
      "\u001b[1;31mFile:\u001b[0m            c:\\users\\anabo\\appdata\\local\\programs\\python\\python312\\lib\\site-packages\\numpy\\_core\\fromnumeric.py\n",
      "\u001b[1;31mDocstring:\u001b[0m      \n",
      "Gives a new shape to an array without changing its data.\n",
      "\n",
      "Parameters\n",
      "----------\n",
      "a : array_like\n",
      "    Array to be reshaped.\n",
      "shape : int or tuple of ints\n",
      "    The new shape should be compatible with the original shape. If\n",
      "    an integer, then the result will be a 1-D array of that length.\n",
      "    One shape dimension can be -1. In this case, the value is\n",
      "    inferred from the length of the array and remaining dimensions.\n",
      "newshape : int or tuple of ints\n",
      "    .. deprecated:: 2.1\n",
      "        Replaced by ``shape`` argument. Retained for backward\n",
      "        compatibility.\n",
      "order : {'C', 'F', 'A'}, optional\n",
      "    Read the elements of ``a`` using this index order, and place the\n",
      "    elements into the reshaped array using this index order. 'C'\n",
      "    means to read / write the elements using C-like index order,\n",
      "    with the last axis index changing fastest, back to the first\n",
      "    axis index changing slowest. 'F' means to read / write the\n",
      "    elements using Fortran-like index order, with the first index\n",
      "    changing fastest, and the last index changing slowest. Note that\n",
      "    the 'C' and 'F' options take no account of the memory layout of\n",
      "    the underlying array, and only refer to the order of indexing.\n",
      "    'A' means to read / write the elements in Fortran-like index\n",
      "    order if ``a`` is Fortran *contiguous* in memory, C-like order\n",
      "    otherwise.\n",
      "copy : bool, optional\n",
      "    If ``True``, then the array data is copied. If ``None``, a copy will\n",
      "    only be made if it's required by ``order``. For ``False`` it raises\n",
      "    a ``ValueError`` if a copy cannot be avoided. Default: ``None``.\n",
      "\n",
      "Returns\n",
      "-------\n",
      "reshaped_array : ndarray\n",
      "    This will be a new view object if possible; otherwise, it will\n",
      "    be a copy.  Note there is no guarantee of the *memory layout* (C- or\n",
      "    Fortran- contiguous) of the returned array.\n",
      "\n",
      "See Also\n",
      "--------\n",
      "ndarray.reshape : Equivalent method.\n",
      "\n",
      "Notes\n",
      "-----\n",
      "It is not always possible to change the shape of an array without copying\n",
      "the data.\n",
      "\n",
      "The ``order`` keyword gives the index ordering both for *fetching*\n",
      "the values from ``a``, and then *placing* the values into the output\n",
      "array. For example, let's say you have an array:\n",
      "\n",
      ">>> a = np.arange(6).reshape((3, 2))\n",
      ">>> a\n",
      "array([[0, 1],\n",
      "       [2, 3],\n",
      "       [4, 5]])\n",
      "\n",
      "You can think of reshaping as first raveling the array (using the given\n",
      "index order), then inserting the elements from the raveled array into the\n",
      "new array using the same kind of index ordering as was used for the\n",
      "raveling.\n",
      "\n",
      ">>> np.reshape(a, (2, 3)) # C-like index ordering\n",
      "array([[0, 1, 2],\n",
      "       [3, 4, 5]])\n",
      ">>> np.reshape(np.ravel(a), (2, 3)) # equivalent to C ravel then C reshape\n",
      "array([[0, 1, 2],\n",
      "       [3, 4, 5]])\n",
      ">>> np.reshape(a, (2, 3), order='F') # Fortran-like index ordering\n",
      "array([[0, 4, 3],\n",
      "       [2, 1, 5]])\n",
      ">>> np.reshape(np.ravel(a, order='F'), (2, 3), order='F')\n",
      "array([[0, 4, 3],\n",
      "       [2, 1, 5]])\n",
      "\n",
      "Examples\n",
      "--------\n",
      ">>> import numpy as np\n",
      ">>> a = np.array([[1,2,3], [4,5,6]])\n",
      ">>> np.reshape(a, 6)\n",
      "array([1, 2, 3, 4, 5, 6])\n",
      ">>> np.reshape(a, 6, order='F')\n",
      "array([1, 4, 2, 5, 3, 6])\n",
      "\n",
      ">>> np.reshape(a, (3,-1))       # the unspecified value is inferred to be 2\n",
      "array([[1, 2],\n",
      "       [3, 4],\n",
      "       [5, 6]])\n",
      "\u001b[1;31mClass docstring:\u001b[0m\n",
      "Class to wrap functions with checks for __array_function__ overrides.\n",
      "\n",
      "All arguments are required, and can only be passed by position.\n",
      "\n",
      "Parameters\n",
      "----------\n",
      "dispatcher : function or None\n",
      "    The dispatcher function that returns a single sequence-like object\n",
      "    of all arguments relevant.  It must have the same signature (except\n",
      "    the default values) as the actual implementation.\n",
      "    If ``None``, this is a ``like=`` dispatcher and the\n",
      "    ``_ArrayFunctionDispatcher`` must be called with ``like`` as the\n",
      "    first (additional and positional) argument.\n",
      "implementation : function\n",
      "    Function that implements the operation on NumPy arrays without\n",
      "    overrides.  Arguments passed calling the ``_ArrayFunctionDispatcher``\n",
      "    will be forwarded to this (and the ``dispatcher``) as if using\n",
      "    ``*args, **kwargs``.\n",
      "\n",
      "Attributes\n",
      "----------\n",
      "_implementation : function\n",
      "    The original implementation passed in."
     ]
    }
   ],
   "source": [
    "np.reshape?"
   ]
  },
  {
   "cell_type": "code",
   "execution_count": 36,
   "metadata": {},
   "outputs": [
    {
     "data": {
      "text/plain": [
       "array([[ 5, 53],\n",
       "       [83, 40],\n",
       "       [86, 88],\n",
       "       [69, 67],\n",
       "       [24, 37],\n",
       "       [73, 76],\n",
       "       [24, 19],\n",
       "       [57, 20],\n",
       "       [61, 25],\n",
       "       [61,  7],\n",
       "       [80, 36],\n",
       "       [78, 56]], dtype=int32)"
      ]
     },
     "execution_count": 36,
     "metadata": {},
     "output_type": "execute_result"
    }
   ],
   "source": [
    "# Order (C y F)\n",
    "\n",
    "array_reshape = np.reshape(array_3d,(12,2),order='C')\n",
    "array_reshape\n"
   ]
  },
  {
   "cell_type": "code",
   "execution_count": 37,
   "metadata": {},
   "outputs": [
    {
     "data": {
      "text/plain": [
       "array([[ 5, 83],\n",
       "       [24, 57],\n",
       "       [86, 69],\n",
       "       [61, 61],\n",
       "       [24, 73],\n",
       "       [80, 78],\n",
       "       [53, 40],\n",
       "       [19, 20],\n",
       "       [88, 67],\n",
       "       [25,  7],\n",
       "       [37, 76],\n",
       "       [36, 56]], dtype=int32)"
      ]
     },
     "execution_count": 37,
     "metadata": {},
     "output_type": "execute_result"
    }
   ],
   "source": [
    "\n",
    "array_reshape = np.reshape(array_3d,(12,2), order='F')\n",
    "array_reshape"
   ]
  },
  {
   "cell_type": "markdown",
   "metadata": {},
   "source": [
    "2. Crea un array 3D de forma (3, 4, 5) con valores enteros del 1 al 61 (sin incluir). Utiliza reshape para convertirlo en un array 2D."
   ]
  },
  {
   "cell_type": "code",
   "execution_count": 38,
   "metadata": {},
   "outputs": [
    {
     "data": {
      "text/plain": [
       "array([[[15, 59, 43, 11, 18],\n",
       "        [48, 43, 47,  6, 59],\n",
       "        [ 4, 55, 36, 50, 40],\n",
       "        [14, 40,  5, 18,  7]],\n",
       "\n",
       "       [[ 7, 26, 48, 47,  8],\n",
       "        [43, 23,  3, 28, 30],\n",
       "        [25, 17, 22, 24, 51],\n",
       "        [49, 50, 38, 40,  7]],\n",
       "\n",
       "       [[37,  2, 23,  8,  3],\n",
       "        [55, 47, 16, 27, 20],\n",
       "        [60, 36, 42, 59,  5],\n",
       "        [17, 18, 40, 21, 56]]], dtype=int32)"
      ]
     },
     "execution_count": 38,
     "metadata": {},
     "output_type": "execute_result"
    }
   ],
   "source": [
    "array_3d2 = np.random.randint(1, 61, (3,4,5)) \n",
    "array_3d2"
   ]
  },
  {
   "cell_type": "code",
   "execution_count": 39,
   "metadata": {},
   "outputs": [
    {
     "data": {
      "text/plain": [
       "array([[15, 59, 43, 11, 18, 48, 43, 47,  6, 59,  4, 55, 36, 50, 40, 14,\n",
       "        40,  5, 18,  7,  7, 26, 48, 47,  8, 43, 23,  3, 28, 30],\n",
       "       [25, 17, 22, 24, 51, 49, 50, 38, 40,  7, 37,  2, 23,  8,  3, 55,\n",
       "        47, 16, 27, 20, 60, 36, 42, 59,  5, 17, 18, 40, 21, 56]],\n",
       "      dtype=int32)"
      ]
     },
     "execution_count": 39,
     "metadata": {},
     "output_type": "execute_result"
    }
   ],
   "source": [
    "array_reshape2 = np.reshape(array_3d2,(2,30))\n",
    "array_reshape2"
   ]
  },
  {
   "cell_type": "markdown",
   "metadata": {},
   "source": [
    "## Ejercicios con transpose:"
   ]
  },
  {
   "cell_type": "markdown",
   "metadata": {},
   "source": [
    "\n",
    "3. Utiliza el array 3D del ejercicio 2 de reshape. Utiliza transpose para permutar los ejes y obtener un nuevo array con forma (5, 4, 3)."
   ]
  },
  {
   "cell_type": "code",
   "execution_count": 40,
   "metadata": {},
   "outputs": [
    {
     "data": {
      "text/plain": [
       "array([[[50, 56, 15, 10, 29],\n",
       "        [27, 37, 12,  5,  8],\n",
       "        [16, 13, 36, 33, 20],\n",
       "        [24, 32,  7, 16, 46]],\n",
       "\n",
       "       [[53, 52, 17, 31, 39],\n",
       "        [19,  9, 25,  8, 13],\n",
       "        [41, 41,  8,  9, 20],\n",
       "        [25,  4, 53, 34,  2]],\n",
       "\n",
       "       [[12,  5,  4,  8, 59],\n",
       "        [38, 52, 23, 40, 46],\n",
       "        [58, 30, 25, 26, 12],\n",
       "        [33, 30, 15, 17, 54]]], dtype=int32)"
      ]
     },
     "execution_count": 40,
     "metadata": {},
     "output_type": "execute_result"
    }
   ],
   "source": [
    "array_3d2 = np.random.randint(1, 61, (3,4,5)) \n",
    "array_3d2"
   ]
  },
  {
   "cell_type": "code",
   "execution_count": 41,
   "metadata": {},
   "outputs": [
    {
     "data": {
      "text/plain": [
       "array([[[50, 53, 12],\n",
       "        [27, 19, 38],\n",
       "        [16, 41, 58],\n",
       "        [24, 25, 33]],\n",
       "\n",
       "       [[56, 52,  5],\n",
       "        [37,  9, 52],\n",
       "        [13, 41, 30],\n",
       "        [32,  4, 30]],\n",
       "\n",
       "       [[15, 17,  4],\n",
       "        [12, 25, 23],\n",
       "        [36,  8, 25],\n",
       "        [ 7, 53, 15]],\n",
       "\n",
       "       [[10, 31,  8],\n",
       "        [ 5,  8, 40],\n",
       "        [33,  9, 26],\n",
       "        [16, 34, 17]],\n",
       "\n",
       "       [[29, 39, 59],\n",
       "        [ 8, 13, 46],\n",
       "        [20, 20, 12],\n",
       "        [46,  2, 54]]], dtype=int32)"
      ]
     },
     "execution_count": 41,
     "metadata": {},
     "output_type": "execute_result"
    }
   ],
   "source": [
    "# Transpose\n",
    "array_3d2_trans = np.transpose(array_3d2, (2,1,0))\n",
    "array_3d2_trans"
   ]
  },
  {
   "cell_type": "markdown",
   "metadata": {},
   "source": [
    "4. Utiliza el array 3D del ejercicio 2 de reshape. Utiliza transpose para cambiar el orden de los ejes y obtener un nuevo array con forma (3, 5, 4)."
   ]
  },
  {
   "cell_type": "code",
   "execution_count": 42,
   "metadata": {},
   "outputs": [
    {
     "data": {
      "text/plain": [
       "array([[[50, 27, 16, 24],\n",
       "        [56, 37, 13, 32],\n",
       "        [15, 12, 36,  7],\n",
       "        [10,  5, 33, 16],\n",
       "        [29,  8, 20, 46]],\n",
       "\n",
       "       [[53, 19, 41, 25],\n",
       "        [52,  9, 41,  4],\n",
       "        [17, 25,  8, 53],\n",
       "        [31,  8,  9, 34],\n",
       "        [39, 13, 20,  2]],\n",
       "\n",
       "       [[12, 38, 58, 33],\n",
       "        [ 5, 52, 30, 30],\n",
       "        [ 4, 23, 25, 15],\n",
       "        [ 8, 40, 26, 17],\n",
       "        [59, 46, 12, 54]]], dtype=int32)"
      ]
     },
     "execution_count": 42,
     "metadata": {},
     "output_type": "execute_result"
    }
   ],
   "source": [
    "array_3d2_trans = np.transpose(array_3d2, (0,2,1))\n",
    "array_3d2_trans"
   ]
  },
  {
   "cell_type": "markdown",
   "metadata": {},
   "source": [
    "5. ¿Qué diferencia existe entre el reshape y el transpose?"
   ]
  },
  {
   "cell_type": "markdown",
   "metadata": {},
   "source": [
    "**np.reshape():** cambia la forma de la matriz a la forma especificada. Mayor flexibilidad que transpose. \\\n",
    "**np.transpose():** invierte los ejes de nuestra matriz o si se le especifica el orden, nos permuta los ejes de la matriz. Invierte siguiendo el orden de posición. \\"
   ]
  },
  {
   "cell_type": "markdown",
   "metadata": {},
   "source": [
    "6. ¿Y entre el transpose y el swapaxes?"
   ]
  },
  {
   "cell_type": "markdown",
   "metadata": {},
   "source": [
    "**np.transpose():** invierte los ejes de nuestra matriz o si se le especifica el orden, nos permuta los ejes de la matriz\\\n",
    "**np.swapaxes():** intercambia dos ejes de la matriz, indicando sobre que ejes queremos realizar la operación"
   ]
  },
  {
   "cell_type": "markdown",
   "metadata": {},
   "source": [
    "## Funciones Aritméticas y Estadísticas:"
   ]
  },
  {
   "cell_type": "markdown",
   "metadata": {},
   "source": [
    "1. Crea un array de tres 3D con elementos entre el 0 y 1 de forma (2, 3, 5) cuyos valores solo tengan 1 decimal."
   ]
  },
  {
   "cell_type": "code",
   "execution_count": 43,
   "metadata": {},
   "outputs": [
    {
     "data": {
      "text/plain": [
       "array([[[0.09476029, 0.39936529, 0.58707974, 0.01080474, 0.11520199],\n",
       "        [0.13932366, 0.63710744, 0.42595659, 0.70783941, 0.19206453],\n",
       "        [0.55341899, 0.78369451, 0.16200011, 0.89771294, 0.8508177 ]],\n",
       "\n",
       "       [[0.59561621, 0.35860814, 0.99093078, 0.09045788, 0.8650329 ],\n",
       "        [0.30129298, 0.75603038, 0.99798012, 0.36582647, 0.60700119],\n",
       "        [0.39857864, 0.29965   , 0.33767088, 0.46021762, 0.46205394]]])"
      ]
     },
     "execution_count": 43,
     "metadata": {},
     "output_type": "execute_result"
    }
   ],
   "source": [
    "tri_array = np.random.rand(2,3,5)\n",
    "tri_array"
   ]
  },
  {
   "cell_type": "code",
   "execution_count": 44,
   "metadata": {},
   "outputs": [
    {
     "data": {
      "text/plain": [
       "array([[[0.1, 0.4, 0.6, 0. , 0.1],\n",
       "        [0.1, 0.6, 0.4, 0.7, 0.2],\n",
       "        [0.6, 0.8, 0.2, 0.9, 0.9]],\n",
       "\n",
       "       [[0.6, 0.4, 1. , 0.1, 0.9],\n",
       "        [0.3, 0.8, 1. , 0.4, 0.6],\n",
       "        [0.4, 0.3, 0.3, 0.5, 0.5]]])"
      ]
     },
     "execution_count": 44,
     "metadata": {},
     "output_type": "execute_result"
    }
   ],
   "source": [
    "# Redondeo array\n",
    "\n",
    "tri_array_redond = np.round(tri_array, 1)\n",
    "tri_array_redond"
   ]
  },
  {
   "cell_type": "markdown",
   "metadata": {},
   "source": [
    "2. Crea un array vacío con la misma forma y dimensiones que el array creado anteriormente. Vamos a reemplazar los valores de la matriz vacía que nos acabamos de crear pero basándonos en los valores del primer array bajo las siguientes condiciones:\n",
    "\n",
    "- Si el valor del array es igual que la media, se reemplaza por \"A\".\n",
    "\n",
    "- Si el valor del array es mayor que la media, se reemplaza por \"B\".\n",
    "\n",
    "- Si el valor del array es menor que la media, se reemplaza por \"C\".\n",
    "\n",
    "- Si el valor es igual que el máximo, se reemplaza por \"D\".\n",
    "\n",
    "- Si el valor es igual que el mínimo, se reemplaza por \"E\"."
   ]
  },
  {
   "cell_type": "code",
   "execution_count": 57,
   "metadata": {},
   "outputs": [
    {
     "data": {
      "text/plain": [
       "array([[[0.09476029, 0.39936529, 0.58707974, 0.01080474, 0.11520199],\n",
       "        [0.13932366, 0.63710744, 0.42595659, 0.70783941, 0.19206453],\n",
       "        [0.55341899, 0.78369451, 0.16200011, 0.89771294, 0.8508177 ]],\n",
       "\n",
       "       [[0.59561621, 0.35860814, 0.99093078, 0.09045788, 0.8650329 ],\n",
       "        [0.30129298, 0.75603038, 0.99798012, 0.36582647, 0.60700119],\n",
       "        [0.39857864, 0.29965   , 0.33767088, 0.46021762, 0.46205394]]])"
      ]
     },
     "execution_count": 57,
     "metadata": {},
     "output_type": "execute_result"
    }
   ],
   "source": [
    "\n",
    "# Creamos un array vacío con las dimensiones del array tri_array_redond\n",
    "\n",
    "array_vacio = np.empty((2,3,5))\n",
    "array_vacio"
   ]
  },
  {
   "cell_type": "code",
   "execution_count": 59,
   "metadata": {},
   "outputs": [
    {
     "data": {
      "text/plain": [
       "array([[['C', 'C', 'B', 'C', 'C'],\n",
       "        ['C', 'B', 'C', 'B', 'C'],\n",
       "        ['B', 'B', 'C', 'B', 'B']],\n",
       "\n",
       "       [['B', 'C', 'B', 'C', 'B'],\n",
       "        ['C', 'B', 'B', 'C', 'B'],\n",
       "        ['C', 'C', 'C', 'C', 'C']]], dtype='<U1')"
      ]
     },
     "execution_count": 59,
     "metadata": {},
     "output_type": "execute_result"
    }
   ],
   "source": [
    "# Calculamos la media del array tri_array_redond (iniciales TAR)\n",
    "\n",
    "media_TAR= np.mean(tri_array_redond)\n",
    "min_TAR = np.min(tri_array_redond)\n",
    "max_TAR = np.max(tri_array_redond)\n",
    "\n",
    "# Preparamos la máscara con las condiciones mediante where anidados.\n",
    "\n",
    "array_mascara = np.where(array_vacio == media_TAR,\"A\", np.where(array_vacio > media_TAR,\"B\", np.where(array_vacio < media_TAR,\"C\", np.where(array_vacio == max_TAR,\"D\", np.where(array_vacio == min_TAR,\"E\", \"Z\")))))\n",
    "\n",
    "array_mascara"
   ]
  }
 ],
 "metadata": {
  "kernelspec": {
   "display_name": "base",
   "language": "python",
   "name": "python3"
  },
  "language_info": {
   "codemirror_mode": {
    "name": "ipython",
    "version": 3
   },
   "file_extension": ".py",
   "mimetype": "text/x-python",
   "name": "python",
   "nbconvert_exporter": "python",
   "pygments_lexer": "ipython3",
   "version": "3.12.4"
  }
 },
 "nbformat": 4,
 "nbformat_minor": 2
}
