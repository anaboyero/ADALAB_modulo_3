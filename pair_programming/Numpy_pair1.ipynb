{
 "cells": [
  {
   "cell_type": "markdown",
   "metadata": {},
   "source": [
    "# Creación e Indexación:"
   ]
  },
  {
   "cell_type": "markdown",
   "metadata": {},
   "source": [
    "\n",
    "1. Crea un array 1D con 50 valores aleatorio del 10 al 99. Accede a los elementos en las posiciones múltiplos de 5."
   ]
  },
  {
   "cell_type": "code",
   "execution_count": 1,
   "metadata": {},
   "outputs": [],
   "source": [
    "import numpy as np"
   ]
  },
  {
   "cell_type": "code",
   "execution_count": 2,
   "metadata": {},
   "outputs": [
    {
     "name": "stdout",
     "output_type": "stream",
     "text": [
      "[26 86 84 68 21 87 18 11 48 92 15 18 52 65 98 54 90 55 20 61 54 45 73 21\n",
      " 20 13 26 23 91 18 56 46 85 32 74 32 63 26 96 97 17 34 23 58 98 41 55 66\n",
      " 75 52]\n"
     ]
    }
   ],
   "source": [
    "array1 = np.random.randint(10, 100, size = 50)\n",
    "print(array1)"
   ]
  },
  {
   "cell_type": "code",
   "execution_count": 7,
   "metadata": {},
   "outputs": [
    {
     "data": {
      "text/plain": [
       "array([87, 15, 54, 54, 13, 56, 32, 17, 41])"
      ]
     },
     "execution_count": 7,
     "metadata": {},
     "output_type": "execute_result"
    }
   ],
   "source": [
    "multiplos5 = array1[5::5]\n",
    "multiplos5"
   ]
  },
  {
   "cell_type": "markdown",
   "metadata": {},
   "source": [
    "2. Crea un array 1D con 30 valores del 1 al 20 (ambos incluidos). Utiliza indexación para obtener los elementos en las posiciones impares."
   ]
  },
  {
   "cell_type": "code",
   "execution_count": 4,
   "metadata": {},
   "outputs": [
    {
     "data": {
      "text/plain": [
       "array([10, 16,  1,  8,  1, 16, 19, 12, 15,  1,  4, 19, 13,  5, 20, 13, 16,\n",
       "       15,  2,  4,  3,  9,  9, 13, 17,  3,  8,  3, 12, 16])"
      ]
     },
     "execution_count": 4,
     "metadata": {},
     "output_type": "execute_result"
    }
   ],
   "source": [
    "array2 = np.random.randint(1, 21, size = 30)\n",
    "array2"
   ]
  },
  {
   "cell_type": "code",
   "execution_count": 6,
   "metadata": {},
   "outputs": [
    {
     "data": {
      "text/plain": [
       "array([16,  8, 16, 12,  1, 19,  5, 13, 15,  4,  9, 13,  3,  3, 16])"
      ]
     },
     "execution_count": 6,
     "metadata": {},
     "output_type": "execute_result"
    }
   ],
   "source": [
    "array2[1::2]"
   ]
  },
  {
   "cell_type": "markdown",
   "metadata": {},
   "source": [
    "3. Crea un array 2D de forma (4, 6) con números aleatorios decimales (no deben estar comprendidos solo entre 0 y 1). Accede a la última fila de la matriz. Los decimales deben estar redondeados a 2 decimales."
   ]
  },
  {
   "cell_type": "code",
   "execution_count": 12,
   "metadata": {},
   "outputs": [
    {
     "data": {
      "text/plain": [
       "array([[ 9,  2, 10,  6,  3,  8],\n",
       "       [ 6,  1,  1, 11,  4,  4],\n",
       "       [11, 13,  2, 10, 19,  5],\n",
       "       [13,  8, 11, 12,  3, 13]])"
      ]
     },
     "execution_count": 12,
     "metadata": {},
     "output_type": "execute_result"
    }
   ],
   "source": [
    "array_sum1 =np.random.randint(0, 20, (4,6)) \n",
    "array_sum1"
   ]
  },
  {
   "cell_type": "code",
   "execution_count": 13,
   "metadata": {},
   "outputs": [
    {
     "data": {
      "text/plain": [
       "array([[0.83758817, 0.94029314, 0.59321607, 0.38850578, 0.13352762,\n",
       "        0.71327395],\n",
       "       [0.29928992, 0.1129729 , 0.94497174, 0.22964028, 0.92762593,\n",
       "        0.32605628],\n",
       "       [0.55074358, 0.92118251, 0.04222957, 0.59967428, 0.59053983,\n",
       "        0.9203555 ],\n",
       "       [0.95454345, 0.53291975, 0.0912401 , 0.71541106, 0.92607097,\n",
       "        0.38763743]])"
      ]
     },
     "execution_count": 13,
     "metadata": {},
     "output_type": "execute_result"
    }
   ],
   "source": [
    "array_sum2 =np.random.rand(4,6)\n",
    "array_sum2"
   ]
  },
  {
   "cell_type": "code",
   "execution_count": 14,
   "metadata": {},
   "outputs": [
    {
     "data": {
      "text/plain": [
       "array([[ 9.83758817,  2.94029314, 10.59321607,  6.38850578,  3.13352762,\n",
       "         8.71327395],\n",
       "       [ 6.29928992,  1.1129729 ,  1.94497174, 11.22964028,  4.92762593,\n",
       "         4.32605628],\n",
       "       [11.55074358, 13.92118251,  2.04222957, 10.59967428, 19.59053983,\n",
       "         5.9203555 ],\n",
       "       [13.95454345,  8.53291975, 11.0912401 , 12.71541106,  3.92607097,\n",
       "        13.38763743]])"
      ]
     },
     "execution_count": 14,
     "metadata": {},
     "output_type": "execute_result"
    }
   ],
   "source": [
    "# Sumamos los dos array\n",
    "\n",
    "suma_array = np.add(array_sum1, array_sum2)\n",
    "suma_array"
   ]
  },
  {
   "cell_type": "code",
   "execution_count": 15,
   "metadata": {},
   "outputs": [
    {
     "data": {
      "text/plain": [
       "array([[ 9.84,  2.94, 10.59,  6.39,  3.13,  8.71],\n",
       "       [ 6.3 ,  1.11,  1.94, 11.23,  4.93,  4.33],\n",
       "       [11.55, 13.92,  2.04, 10.6 , 19.59,  5.92],\n",
       "       [13.95,  8.53, 11.09, 12.72,  3.93, 13.39]])"
      ]
     },
     "execution_count": 15,
     "metadata": {},
     "output_type": "execute_result"
    }
   ],
   "source": [
    "# Redondeamos a 2 decimales\n",
    "\n",
    "redondeo = np.round(suma_array, 2)\n",
    "redondeo"
   ]
  },
  {
   "cell_type": "code",
   "execution_count": 16,
   "metadata": {},
   "outputs": [
    {
     "data": {
      "text/plain": [
       "array([13.95,  8.53, 11.09, 12.72,  3.93, 13.39])"
      ]
     },
     "execution_count": 16,
     "metadata": {},
     "output_type": "execute_result"
    }
   ],
   "source": [
    "# Accedo a la última fila de la matriz\n",
    "\n",
    "ultima_fila = redondeo[-1]\n",
    "ultima_fila"
   ]
  },
  {
   "cell_type": "markdown",
   "metadata": {},
   "source": [
    "4. BONUS: Crea un array 3D de forma (2, 3, 5) y 30 elementos con números enteros entre 0 y 100 (ambos incluidos). Reemplaza los elementos en posiciones múltiplos de 3 por 0."
   ]
  },
  {
   "cell_type": "code",
   "execution_count": null,
   "metadata": {},
   "outputs": [],
   "source": []
  },
  {
   "cell_type": "markdown",
   "metadata": {},
   "source": [
    "# Reshape y Transpose:\n"
   ]
  },
  {
   "cell_type": "markdown",
   "metadata": {},
   "source": [
    "## Ejercicios con reshape:"
   ]
  },
  {
   "cell_type": "markdown",
   "metadata": {},
   "source": [
    "1. Crea un array 3D de forma (2, 3, 4) con valores aleatorios entre 1 y 100 (ambos inclusive). Utiliza reshape para convertirlo en un array 2D. Deberás pensar en la forma que es correcta para hacer este cambio."
   ]
  },
  {
   "cell_type": "code",
   "execution_count": 17,
   "metadata": {},
   "outputs": [
    {
     "data": {
      "text/plain": [
       "array([[[28, 43, 93,  9],\n",
       "        [63, 60, 35, 82],\n",
       "        [59, 82, 23,  7]],\n",
       "\n",
       "       [[63, 10, 44, 18],\n",
       "        [34, 30, 82, 54],\n",
       "        [28, 29, 78, 35]]])"
      ]
     },
     "execution_count": 17,
     "metadata": {},
     "output_type": "execute_result"
    }
   ],
   "source": [
    "array_3d = np.random.randint(1, 101, (2,3,4)) \n",
    "array_3d"
   ]
  },
  {
   "cell_type": "code",
   "execution_count": 18,
   "metadata": {},
   "outputs": [
    {
     "data": {
      "text/plain": [
       "array([[28, 43],\n",
       "       [93,  9],\n",
       "       [63, 60],\n",
       "       [35, 82],\n",
       "       [59, 82],\n",
       "       [23,  7],\n",
       "       [63, 10],\n",
       "       [44, 18],\n",
       "       [34, 30],\n",
       "       [82, 54],\n",
       "       [28, 29],\n",
       "       [78, 35]])"
      ]
     },
     "execution_count": 18,
     "metadata": {},
     "output_type": "execute_result"
    }
   ],
   "source": [
    "array_reshape = np.reshape(array_3d,(12,2))\n",
    "array_reshape"
   ]
  },
  {
   "cell_type": "code",
   "execution_count": 19,
   "metadata": {},
   "outputs": [
    {
     "data": {
      "text/plain": [
       "array([[28, 43],\n",
       "       [93,  9],\n",
       "       [63, 60],\n",
       "       [35, 82],\n",
       "       [59, 82],\n",
       "       [23,  7],\n",
       "       [63, 10],\n",
       "       [44, 18],\n",
       "       [34, 30],\n",
       "       [82, 54],\n",
       "       [28, 29],\n",
       "       [78, 35]])"
      ]
     },
     "execution_count": 19,
     "metadata": {},
     "output_type": "execute_result"
    }
   ],
   "source": [
    "# Order (C y F)\n",
    "\n",
    "array_reshape = np.reshape(array_3d,(12,2), 'C')\n",
    "array_reshape\n"
   ]
  },
  {
   "cell_type": "code",
   "execution_count": 20,
   "metadata": {},
   "outputs": [
    {
     "data": {
      "text/plain": [
       "array([[28, 93],\n",
       "       [63, 44],\n",
       "       [63, 35],\n",
       "       [34, 82],\n",
       "       [59, 23],\n",
       "       [28, 78],\n",
       "       [43,  9],\n",
       "       [10, 18],\n",
       "       [60, 82],\n",
       "       [30, 54],\n",
       "       [82,  7],\n",
       "       [29, 35]])"
      ]
     },
     "execution_count": 20,
     "metadata": {},
     "output_type": "execute_result"
    }
   ],
   "source": [
    "\n",
    "array_reshape = np.reshape(array_3d,(12,2), 'F')\n",
    "array_reshape"
   ]
  },
  {
   "cell_type": "markdown",
   "metadata": {},
   "source": [
    "2. Crea un array 3D de forma (3, 4, 5) con valores enteros del 1 al 61 (sin incluir). Utiliza reshape para convertirlo en un array 2D."
   ]
  },
  {
   "cell_type": "code",
   "execution_count": 21,
   "metadata": {},
   "outputs": [
    {
     "data": {
      "text/plain": [
       "array([[[11, 11, 42,  6, 17],\n",
       "        [60, 36, 10, 52, 13],\n",
       "        [56, 11, 19, 24, 35],\n",
       "        [44, 31, 53, 14, 45]],\n",
       "\n",
       "       [[31, 59, 12,  5, 26],\n",
       "        [31, 38, 33, 29, 48],\n",
       "        [35,  2, 10, 50, 51],\n",
       "        [10, 34, 58,  4, 18]],\n",
       "\n",
       "       [[46, 19, 29, 30, 55],\n",
       "        [12,  2, 49,  1, 27],\n",
       "        [ 3, 56, 18, 42,  3],\n",
       "        [45, 30, 17, 52, 11]]])"
      ]
     },
     "execution_count": 21,
     "metadata": {},
     "output_type": "execute_result"
    }
   ],
   "source": [
    "array_3d2 = np.random.randint(1, 61, (3,4,5)) \n",
    "array_3d2"
   ]
  },
  {
   "cell_type": "code",
   "execution_count": 22,
   "metadata": {},
   "outputs": [
    {
     "data": {
      "text/plain": [
       "array([[11, 11, 42,  6, 17, 60, 36, 10, 52, 13, 56, 11, 19, 24, 35, 44,\n",
       "        31, 53, 14, 45, 31, 59, 12,  5, 26, 31, 38, 33, 29, 48],\n",
       "       [35,  2, 10, 50, 51, 10, 34, 58,  4, 18, 46, 19, 29, 30, 55, 12,\n",
       "         2, 49,  1, 27,  3, 56, 18, 42,  3, 45, 30, 17, 52, 11]])"
      ]
     },
     "execution_count": 22,
     "metadata": {},
     "output_type": "execute_result"
    }
   ],
   "source": [
    "array_reshape2 = np.reshape(array_3d2,(2,30))\n",
    "array_reshape2"
   ]
  },
  {
   "cell_type": "markdown",
   "metadata": {},
   "source": [
    "## Ejercicios con transpose:"
   ]
  },
  {
   "cell_type": "markdown",
   "metadata": {},
   "source": [
    "\n",
    "3. Utiliza el array 3D del ejercicio 2 de reshape. Utiliza transpose para permutar los ejes y obtener un nuevo array con forma (5, 4, 3)."
   ]
  },
  {
   "cell_type": "code",
   "execution_count": 23,
   "metadata": {},
   "outputs": [
    {
     "data": {
      "text/plain": [
       "array([[[50, 31, 17, 59, 44],\n",
       "        [39, 24, 54, 11, 33],\n",
       "        [58, 46, 20, 50, 59],\n",
       "        [ 5, 18, 57, 22,  1]],\n",
       "\n",
       "       [[54, 54, 52, 41, 29],\n",
       "        [45, 44,  9, 10, 34],\n",
       "        [60, 53, 27, 29,  4],\n",
       "        [31, 33, 27, 47, 45]],\n",
       "\n",
       "       [[ 2, 60, 21, 27, 40],\n",
       "        [33, 23, 56,  2, 22],\n",
       "        [17, 50, 13, 51, 47],\n",
       "        [41, 11,  4, 17, 32]]])"
      ]
     },
     "execution_count": 23,
     "metadata": {},
     "output_type": "execute_result"
    }
   ],
   "source": [
    "array_3d2 = np.random.randint(1, 61, (3,4,5)) \n",
    "array_3d2"
   ]
  },
  {
   "cell_type": "code",
   "execution_count": 25,
   "metadata": {},
   "outputs": [
    {
     "data": {
      "text/plain": [
       "array([[[50, 54,  2],\n",
       "        [39, 45, 33],\n",
       "        [58, 60, 17],\n",
       "        [ 5, 31, 41]],\n",
       "\n",
       "       [[31, 54, 60],\n",
       "        [24, 44, 23],\n",
       "        [46, 53, 50],\n",
       "        [18, 33, 11]],\n",
       "\n",
       "       [[17, 52, 21],\n",
       "        [54,  9, 56],\n",
       "        [20, 27, 13],\n",
       "        [57, 27,  4]],\n",
       "\n",
       "       [[59, 41, 27],\n",
       "        [11, 10,  2],\n",
       "        [50, 29, 51],\n",
       "        [22, 47, 17]],\n",
       "\n",
       "       [[44, 29, 40],\n",
       "        [33, 34, 22],\n",
       "        [59,  4, 47],\n",
       "        [ 1, 45, 32]]])"
      ]
     },
     "execution_count": 25,
     "metadata": {},
     "output_type": "execute_result"
    }
   ],
   "source": [
    "# Transpose\n",
    "array_3d2_trans = np.transpose(array_3d2, (2,1,0))\n",
    "array_3d2_trans"
   ]
  },
  {
   "cell_type": "markdown",
   "metadata": {},
   "source": [
    "4. Utiliza el array 3D del ejercicio 2 de reshape. Utiliza transpose para cambiar el orden de los ejes y obtener un nuevo array con forma (3, 5, 4)."
   ]
  },
  {
   "cell_type": "code",
   "execution_count": 26,
   "metadata": {},
   "outputs": [
    {
     "data": {
      "text/plain": [
       "array([[[50, 39, 58,  5],\n",
       "        [31, 24, 46, 18],\n",
       "        [17, 54, 20, 57],\n",
       "        [59, 11, 50, 22],\n",
       "        [44, 33, 59,  1]],\n",
       "\n",
       "       [[54, 45, 60, 31],\n",
       "        [54, 44, 53, 33],\n",
       "        [52,  9, 27, 27],\n",
       "        [41, 10, 29, 47],\n",
       "        [29, 34,  4, 45]],\n",
       "\n",
       "       [[ 2, 33, 17, 41],\n",
       "        [60, 23, 50, 11],\n",
       "        [21, 56, 13,  4],\n",
       "        [27,  2, 51, 17],\n",
       "        [40, 22, 47, 32]]])"
      ]
     },
     "execution_count": 26,
     "metadata": {},
     "output_type": "execute_result"
    }
   ],
   "source": [
    "array_3d2_trans = np.transpose(array_3d2, (0,2,1))\n",
    "array_3d2_trans"
   ]
  },
  {
   "cell_type": "markdown",
   "metadata": {},
   "source": [
    "5. ¿Qué diferencia existe entre el reshape y el transpose?"
   ]
  },
  {
   "cell_type": "markdown",
   "metadata": {},
   "source": [
    "**np.reshape():** cambia la forma de la matriz a la forma especificada. Mayor flexibilidad que transpose. \\\n",
    "**np.transpose():** invierte los ejes de nuestra matriz o si se le especifica el orden, nos permuta los ejes de la matriz. Invierte siguiendo el orden de posición. \\"
   ]
  },
  {
   "cell_type": "markdown",
   "metadata": {},
   "source": [
    "6. ¿Y entre el transpose y el swapaxes?"
   ]
  },
  {
   "cell_type": "markdown",
   "metadata": {},
   "source": [
    "**np.transpose():** invierte los ejes de nuestra matriz o si se le especifica el orden, nos permuta los ejes de la matriz\\\n",
    "**np.swapaxes():** intercambia dos ejes de la matriz, indicando sobre que ejes queremos realizar la operación"
   ]
  },
  {
   "cell_type": "markdown",
   "metadata": {},
   "source": [
    "## Funciones Aritméticas y Estadísticas:"
   ]
  },
  {
   "cell_type": "markdown",
   "metadata": {},
   "source": [
    "1. Crea un array de tres 3D con elementos entre el 0 y 1 de forma (2, 3, 5) cuyos valores solo tengan 1 decimal."
   ]
  },
  {
   "cell_type": "code",
   "execution_count": 27,
   "metadata": {},
   "outputs": [
    {
     "data": {
      "text/plain": [
       "array([[[0.12778955, 0.42153642, 0.47435985, 0.50517278, 0.52943898],\n",
       "        [0.02808622, 0.18748348, 0.13911855, 0.496035  , 0.4600872 ],\n",
       "        [0.69905858, 0.9253662 , 0.57815375, 0.39757717, 0.76313507]],\n",
       "\n",
       "       [[0.34807389, 0.65894996, 0.15996369, 0.12781897, 0.9577742 ],\n",
       "        [0.69591313, 0.10047609, 0.4875217 , 0.92940119, 0.39363867],\n",
       "        [0.86872085, 0.16977055, 0.57393591, 0.5284691 , 0.02220416]]])"
      ]
     },
     "execution_count": 27,
     "metadata": {},
     "output_type": "execute_result"
    }
   ],
   "source": [
    "tri_array = np.random.rand(2,3,5)\n",
    "tri_array"
   ]
  },
  {
   "cell_type": "code",
   "execution_count": 28,
   "metadata": {},
   "outputs": [
    {
     "data": {
      "text/plain": [
       "array([[[0.1, 0.4, 0.5, 0.5, 0.5],\n",
       "        [0. , 0.2, 0.1, 0.5, 0.5],\n",
       "        [0.7, 0.9, 0.6, 0.4, 0.8]],\n",
       "\n",
       "       [[0.3, 0.7, 0.2, 0.1, 1. ],\n",
       "        [0.7, 0.1, 0.5, 0.9, 0.4],\n",
       "        [0.9, 0.2, 0.6, 0.5, 0. ]]])"
      ]
     },
     "execution_count": 28,
     "metadata": {},
     "output_type": "execute_result"
    }
   ],
   "source": [
    "# Redondeo array\n",
    "\n",
    "tri_array_redond = np.round(tri_array, 1)\n",
    "tri_array_redond"
   ]
  },
  {
   "cell_type": "markdown",
   "metadata": {},
   "source": [
    "2. Crea un array vacío con la misma forma y dimensiones que el array creado anteriormente. Vamos a reemplazar los valores de la matriz vacía que nos acabamos de crear pero basándonos en los valores del primer array bajo las siguientes condiciones:\n",
    "\n",
    "- Si el valor del array es igual que la media, se reemplaza por \"A\".\n",
    "\n",
    "- Si el valor del array es mayor que la media, se reemplaza por \"B\".\n",
    "\n",
    "- Si el valor del array es menor que la media, se reemplaza por \"C\".\n",
    "\n",
    "- Si el valor es igual que el máximo, se reemplaza por \"D\".\n",
    "\n",
    "- Si el valor es igual que el mínimo, se reemplaza por \"E\"."
   ]
  },
  {
   "cell_type": "code",
   "execution_count": 30,
   "metadata": {},
   "outputs": [
    {
     "data": {
      "text/plain": [
       "array([[[0.1, 0.4, 0.5, 0.5, 0.5],\n",
       "        [0. , 0.2, 0.1, 0.5, 0.5],\n",
       "        [0.7, 0.9, 0.6, 0.4, 0.8]],\n",
       "\n",
       "       [[0.3, 0.7, 0.2, 0.1, 1. ],\n",
       "        [0.7, 0.1, 0.5, 0.9, 0.4],\n",
       "        [0.9, 0.2, 0.6, 0.5, 0. ]]])"
      ]
     },
     "execution_count": 30,
     "metadata": {},
     "output_type": "execute_result"
    }
   ],
   "source": [
    "array_vacio = np.empty((2,3,5))\n",
    "array_vacio"
   ]
  },
  {
   "cell_type": "code",
   "execution_count": 32,
   "metadata": {},
   "outputs": [
    {
     "data": {
      "text/plain": [
       "array([[['Z', 'Z', 'Z', 'Z', 'Z'],\n",
       "        ['Z', 'Z', 'Z', 'Z', 'Z'],\n",
       "        ['Z', 'Z', 'Z', 'Z', 'Z']],\n",
       "\n",
       "       [['Z', 'Z', 'Z', 'Z', 'Z'],\n",
       "        ['Z', 'Z', 'Z', 'Z', 'Z'],\n",
       "        ['Z', 'Z', 'Z', 'Z', 'Z']]], dtype='<U1')"
      ]
     },
     "execution_count": 32,
     "metadata": {},
     "output_type": "execute_result"
    }
   ],
   "source": [
    "# Si el valor del array es igual que la media, se reemplaza por \"A\".\n",
    "\n",
    "array_A = np.where(array_vacio == np.mean(tri_array),\"A\", \"Z\")\n",
    "array_A"
   ]
  },
  {
   "cell_type": "code",
   "execution_count": 38,
   "metadata": {},
   "outputs": [
    {
     "data": {
      "text/plain": [
       "array([[['C', 'C', 'B', 'B', 'B'],\n",
       "        ['C', 'C', 'C', 'B', 'B'],\n",
       "        ['B', 'B', 'B', 'C', 'B']],\n",
       "\n",
       "       [['C', 'B', 'C', 'C', 'B'],\n",
       "        ['B', 'C', 'B', 'B', 'C'],\n",
       "        ['B', 'C', 'B', 'B', 'C']]], dtype='<U1')"
      ]
     },
     "execution_count": 38,
     "metadata": {},
     "output_type": "execute_result"
    }
   ],
   "source": [
    "# Si el valor del array es mayor que la media, se reemplaza por \"B\".\n",
    "\n",
    "array_B = np.where(array_vacio > np.mean(tri_array),\"B\", \"C\")\n",
    "array_B"
   ]
  },
  {
   "cell_type": "code",
   "execution_count": 35,
   "metadata": {},
   "outputs": [
    {
     "data": {
      "text/plain": [
       "array([[['C', 'C', 'Z', 'Z', 'Z'],\n",
       "        ['C', 'C', 'C', 'Z', 'Z'],\n",
       "        ['Z', 'Z', 'Z', 'C', 'Z']],\n",
       "\n",
       "       [['C', 'Z', 'C', 'C', 'Z'],\n",
       "        ['Z', 'C', 'Z', 'Z', 'C'],\n",
       "        ['Z', 'C', 'Z', 'Z', 'C']]], dtype='<U1')"
      ]
     },
     "execution_count": 35,
     "metadata": {},
     "output_type": "execute_result"
    }
   ],
   "source": [
    "# Si el valor del array es menor que la media, se reemplaza por \"C\".\n",
    "\n",
    "array_C = np.where(array_vacio < np.mean(tri_array),\"C\", \"Z\")\n",
    "array_C"
   ]
  },
  {
   "cell_type": "code",
   "execution_count": 36,
   "metadata": {},
   "outputs": [
    {
     "data": {
      "text/plain": [
       "array([[['Z', 'Z', 'Z', 'Z', 'Z'],\n",
       "        ['Z', 'Z', 'Z', 'Z', 'Z'],\n",
       "        ['Z', 'Z', 'Z', 'Z', 'Z']],\n",
       "\n",
       "       [['Z', 'Z', 'Z', 'Z', 'Z'],\n",
       "        ['Z', 'Z', 'Z', 'Z', 'Z'],\n",
       "        ['Z', 'Z', 'Z', 'Z', 'Z']]], dtype='<U1')"
      ]
     },
     "execution_count": 36,
     "metadata": {},
     "output_type": "execute_result"
    }
   ],
   "source": [
    "# Si el valor es igual que el máximo, se reemplaza por \"D\".\n",
    "\n",
    "array_D = np.where(array_vacio == np.max(tri_array),\"D\", \"Z\")\n",
    "array_D"
   ]
  },
  {
   "cell_type": "code",
   "execution_count": 37,
   "metadata": {},
   "outputs": [
    {
     "data": {
      "text/plain": [
       "array([[['Z', 'Z', 'Z', 'Z', 'Z'],\n",
       "        ['Z', 'Z', 'Z', 'Z', 'Z'],\n",
       "        ['Z', 'Z', 'Z', 'Z', 'Z']],\n",
       "\n",
       "       [['Z', 'Z', 'Z', 'Z', 'Z'],\n",
       "        ['Z', 'Z', 'Z', 'Z', 'Z'],\n",
       "        ['Z', 'Z', 'Z', 'Z', 'Z']]], dtype='<U1')"
      ]
     },
     "execution_count": 37,
     "metadata": {},
     "output_type": "execute_result"
    }
   ],
   "source": [
    "# Si el valor es igual que el mínimo, se reemplaza por \"E\".\n",
    "\n",
    "array_E = np.where(array_vacio == np.min(tri_array),\"E\", \"Z\")\n",
    "array_E"
   ]
  },
  {
   "cell_type": "code",
   "execution_count": null,
   "metadata": {},
   "outputs": [],
   "source": [
    "# SUMA\n"
   ]
  }
 ],
 "metadata": {
  "kernelspec": {
   "display_name": "base",
   "language": "python",
   "name": "python3"
  },
  "language_info": {
   "codemirror_mode": {
    "name": "ipython",
    "version": 3
   },
   "file_extension": ".py",
   "mimetype": "text/x-python",
   "name": "python",
   "nbconvert_exporter": "python",
   "pygments_lexer": "ipython3",
   "version": "3.9.12"
  }
 },
 "nbformat": 4,
 "nbformat_minor": 2
}
